{
 "cells": [
  {
   "cell_type": "code",
   "execution_count": 1,
   "id": "dc662180",
   "metadata": {
    "_cell_guid": "b1076dfc-b9ad-4769-8c92-a6c4dae69d19",
    "_uuid": "8f2839f25d086af736a60e9eeb907d3b93b6e0e5",
    "execution": {
     "iopub.execute_input": "2021-07-25T14:38:41.519884Z",
     "iopub.status.busy": "2021-07-25T14:38:41.518939Z",
     "iopub.status.idle": "2021-07-25T14:38:43.406166Z",
     "shell.execute_reply": "2021-07-25T14:38:43.405408Z",
     "shell.execute_reply.started": "2021-07-25T14:38:19.764051Z"
    },
    "papermill": {
     "duration": 1.950309,
     "end_time": "2021-07-25T14:38:43.406372",
     "exception": false,
     "start_time": "2021-07-25T14:38:41.456063",
     "status": "completed"
    },
    "tags": []
   },
   "outputs": [],
   "source": [
    "import unicodedata\n",
    "import nltk\n",
    "import re\n",
    "from nltk.tokenize import word_tokenize\n",
    "from nltk import pos_tag\n",
    "from nltk.corpus import stopwords\n",
    "from nltk.stem import WordNetLemmatizer\n",
    "from sklearn.preprocessing import LabelEncoder\n",
    "from collections import defaultdict\n",
    "from sklearn.ensemble import RandomForestClassifier\n",
    "import codecs\n",
    "from sklearn import metrics\n",
    "import pandas as pd\n",
    "import numpy as np\n",
    "import wordcloud\n",
    "\n",
    "import seaborn as sns\n",
    "import matplotlib.pyplot as plt\n",
    "%matplotlib inline\n",
    "\n",
    "from sklearn import preprocessing\n",
    "from sklearn.model_selection import train_test_split\n",
    "from sklearn.linear_model import LogisticRegression\n",
    "from sklearn.feature_extraction.text import CountVectorizer,TfidfVectorizer\n",
    "from sklearn.metrics import accuracy_score, classification_report, confusion_matrix\n",
    "\n",
    "import ipywidgets as widgets\n",
    "from IPython import display\n",
    "\n",
    "#Ignore Future Warnings\n",
    "from warnings import simplefilter\n",
    "simplefilter(action='ignore', category=FutureWarning)"
   ]
  },
  {
   "cell_type": "code",
   "execution_count": 2,
   "id": "5e17c0ab",
   "metadata": {
    "execution": {
     "iopub.execute_input": "2021-07-25T14:38:43.538945Z",
     "iopub.status.busy": "2021-07-25T14:38:43.538317Z",
     "iopub.status.idle": "2021-07-25T14:38:46.067506Z",
     "shell.execute_reply": "2021-07-25T14:38:46.066878Z",
     "shell.execute_reply.started": "2021-07-25T11:49:43.571998Z"
    },
    "papermill": {
     "duration": 2.592254,
     "end_time": "2021-07-25T14:38:46.067637",
     "exception": false,
     "start_time": "2021-07-25T14:38:43.475383",
     "status": "completed"
    },
    "tags": []
   },
   "outputs": [
    {
     "data": {
      "text/html": [
       "<div>\n",
       "<style scoped>\n",
       "    .dataframe tbody tr th:only-of-type {\n",
       "        vertical-align: middle;\n",
       "    }\n",
       "\n",
       "    .dataframe tbody tr th {\n",
       "        vertical-align: top;\n",
       "    }\n",
       "\n",
       "    .dataframe thead th {\n",
       "        text-align: right;\n",
       "    }\n",
       "</style>\n",
       "<table border=\"1\" class=\"dataframe\">\n",
       "  <thead>\n",
       "    <tr style=\"text-align: right;\">\n",
       "      <th></th>\n",
       "      <th>CATEGORY</th>\n",
       "      <th>CONTENT</th>\n",
       "      <th>SUMMARY</th>\n",
       "    </tr>\n",
       "  </thead>\n",
       "  <tbody>\n",
       "    <tr>\n",
       "      <th>0</th>\n",
       "      <td>business</td>\n",
       "      <td>The Federal Reserve approved Ally Financial In...</td>\n",
       "      <td>The Federal Reserve approved Ally Financial In...</td>\n",
       "    </tr>\n",
       "    <tr>\n",
       "      <th>1</th>\n",
       "      <td>business</td>\n",
       "      <td>— Major shareholders of Duke Energy Corp. have...</td>\n",
       "      <td>— Major shareholders of Duke Energy Corp. have...</td>\n",
       "    </tr>\n",
       "    <tr>\n",
       "      <th>2</th>\n",
       "      <td>business</td>\n",
       "      <td>Photos taken earlier this month show that Nort...</td>\n",
       "      <td>Photos taken earlier this month show that Nort...</td>\n",
       "    </tr>\n",
       "    <tr>\n",
       "      <th>3</th>\n",
       "      <td>business</td>\n",
       "      <td>Thanks to dogged reporting by the Associated P...</td>\n",
       "      <td>Thanks to dogged reporting by the Associated P...</td>\n",
       "    </tr>\n",
       "    <tr>\n",
       "      <th>4</th>\n",
       "      <td>business</td>\n",
       "      <td>The energy giant says it is committed to clean...</td>\n",
       "      <td>The energy giant says it is committed to clean...</td>\n",
       "    </tr>\n",
       "    <tr>\n",
       "      <th>...</th>\n",
       "      <td>...</td>\n",
       "      <td>...</td>\n",
       "      <td>...</td>\n",
       "    </tr>\n",
       "    <tr>\n",
       "      <th>36886</th>\n",
       "      <td>technology</td>\n",
       "      <td>Why did this happen?\\n\\nPlease make sure your ...</td>\n",
       "      <td>Why did this happen?\\nPlease make sure your br...</td>\n",
       "    </tr>\n",
       "    <tr>\n",
       "      <th>36887</th>\n",
       "      <td>technology</td>\n",
       "      <td>Google Inc (NASDAQ:GOOGL) GOOGL +1.12% (NASDAQ...</td>\n",
       "      <td>Google Inc (NASDAQ:GOOGL) GOOGL +1.12% (NASDAQ...</td>\n",
       "    </tr>\n",
       "    <tr>\n",
       "      <th>36888</th>\n",
       "      <td>technology</td>\n",
       "      <td>Google has purchased New Mexico-based unmanned...</td>\n",
       "      <td>Google has purchased New Mexico-based unmanned...</td>\n",
       "    </tr>\n",
       "    <tr>\n",
       "      <th>36889</th>\n",
       "      <td>technology</td>\n",
       "      <td>hidden\\n\\nLooks like Facebook's plans to get I...</td>\n",
       "      <td>Google has beaten the world's largest social n...</td>\n",
       "    </tr>\n",
       "    <tr>\n",
       "      <th>36890</th>\n",
       "      <td>technology</td>\n",
       "      <td>Google Has Plans For Titan Drones\\n\\nTitan Aer...</td>\n",
       "      <td>Google Has Plans For Titan DronesTitan Aerospa...</td>\n",
       "    </tr>\n",
       "  </tbody>\n",
       "</table>\n",
       "<p>36891 rows × 3 columns</p>\n",
       "</div>"
      ],
      "text/plain": [
       "         CATEGORY                                            CONTENT  \\\n",
       "0        business  The Federal Reserve approved Ally Financial In...   \n",
       "1        business  — Major shareholders of Duke Energy Corp. have...   \n",
       "2        business  Photos taken earlier this month show that Nort...   \n",
       "3        business  Thanks to dogged reporting by the Associated P...   \n",
       "4        business  The energy giant says it is committed to clean...   \n",
       "...           ...                                                ...   \n",
       "36886  technology  Why did this happen?\\n\\nPlease make sure your ...   \n",
       "36887  technology  Google Inc (NASDAQ:GOOGL) GOOGL +1.12% (NASDAQ...   \n",
       "36888  technology  Google has purchased New Mexico-based unmanned...   \n",
       "36889  technology  hidden\\n\\nLooks like Facebook's plans to get I...   \n",
       "36890  technology  Google Has Plans For Titan Drones\\n\\nTitan Aer...   \n",
       "\n",
       "                                                 SUMMARY  \n",
       "0      The Federal Reserve approved Ally Financial In...  \n",
       "1      — Major shareholders of Duke Energy Corp. have...  \n",
       "2      Photos taken earlier this month show that Nort...  \n",
       "3      Thanks to dogged reporting by the Associated P...  \n",
       "4      The energy giant says it is committed to clean...  \n",
       "...                                                  ...  \n",
       "36886  Why did this happen?\\nPlease make sure your br...  \n",
       "36887  Google Inc (NASDAQ:GOOGL) GOOGL +1.12% (NASDAQ...  \n",
       "36888  Google has purchased New Mexico-based unmanned...  \n",
       "36889  Google has beaten the world's largest social n...  \n",
       "36890  Google Has Plans For Titan DronesTitan Aerospa...  \n",
       "\n",
       "[36891 rows x 3 columns]"
      ]
     },
     "execution_count": 2,
     "metadata": {},
     "output_type": "execute_result"
    }
   ],
   "source": [
    "dataset = pd.read_csv(\"../input/summarization-final-project/data/dataset/dataset.csv\")\n",
    "dataset"
   ]
  },
  {
   "cell_type": "code",
   "execution_count": 3,
   "id": "0b778db9",
   "metadata": {
    "execution": {
     "iopub.execute_input": "2021-07-25T14:38:46.179137Z",
     "iopub.status.busy": "2021-07-25T14:38:46.178138Z",
     "iopub.status.idle": "2021-07-25T14:38:46.197792Z",
     "shell.execute_reply": "2021-07-25T14:38:46.198314Z",
     "shell.execute_reply.started": "2021-07-25T11:49:46.290649Z"
    },
    "papermill": {
     "duration": 0.080537,
     "end_time": "2021-07-25T14:38:46.198507",
     "exception": false,
     "start_time": "2021-07-25T14:38:46.117970",
     "status": "completed"
    },
    "tags": []
   },
   "outputs": [
    {
     "data": {
      "text/html": [
       "<div>\n",
       "<style scoped>\n",
       "    .dataframe tbody tr th:only-of-type {\n",
       "        vertical-align: middle;\n",
       "    }\n",
       "\n",
       "    .dataframe tbody tr th {\n",
       "        vertical-align: top;\n",
       "    }\n",
       "\n",
       "    .dataframe thead th {\n",
       "        text-align: right;\n",
       "    }\n",
       "</style>\n",
       "<table border=\"1\" class=\"dataframe\">\n",
       "  <thead>\n",
       "    <tr style=\"text-align: right;\">\n",
       "      <th></th>\n",
       "      <th>CATEGORY</th>\n",
       "      <th>CONTENT</th>\n",
       "      <th>SUMMARY</th>\n",
       "      <th>category_id</th>\n",
       "    </tr>\n",
       "  </thead>\n",
       "  <tbody>\n",
       "    <tr>\n",
       "      <th>0</th>\n",
       "      <td>business</td>\n",
       "      <td>The Federal Reserve approved Ally Financial In...</td>\n",
       "      <td>The Federal Reserve approved Ally Financial In...</td>\n",
       "      <td>0</td>\n",
       "    </tr>\n",
       "    <tr>\n",
       "      <th>1</th>\n",
       "      <td>business</td>\n",
       "      <td>— Major shareholders of Duke Energy Corp. have...</td>\n",
       "      <td>— Major shareholders of Duke Energy Corp. have...</td>\n",
       "      <td>0</td>\n",
       "    </tr>\n",
       "    <tr>\n",
       "      <th>2</th>\n",
       "      <td>business</td>\n",
       "      <td>Photos taken earlier this month show that Nort...</td>\n",
       "      <td>Photos taken earlier this month show that Nort...</td>\n",
       "      <td>0</td>\n",
       "    </tr>\n",
       "    <tr>\n",
       "      <th>3</th>\n",
       "      <td>business</td>\n",
       "      <td>Thanks to dogged reporting by the Associated P...</td>\n",
       "      <td>Thanks to dogged reporting by the Associated P...</td>\n",
       "      <td>0</td>\n",
       "    </tr>\n",
       "    <tr>\n",
       "      <th>4</th>\n",
       "      <td>business</td>\n",
       "      <td>The energy giant says it is committed to clean...</td>\n",
       "      <td>The energy giant says it is committed to clean...</td>\n",
       "      <td>0</td>\n",
       "    </tr>\n",
       "    <tr>\n",
       "      <th>...</th>\n",
       "      <td>...</td>\n",
       "      <td>...</td>\n",
       "      <td>...</td>\n",
       "      <td>...</td>\n",
       "    </tr>\n",
       "    <tr>\n",
       "      <th>36886</th>\n",
       "      <td>technology</td>\n",
       "      <td>Why did this happen?\\n\\nPlease make sure your ...</td>\n",
       "      <td>Why did this happen?\\nPlease make sure your br...</td>\n",
       "      <td>3</td>\n",
       "    </tr>\n",
       "    <tr>\n",
       "      <th>36887</th>\n",
       "      <td>technology</td>\n",
       "      <td>Google Inc (NASDAQ:GOOGL) GOOGL +1.12% (NASDAQ...</td>\n",
       "      <td>Google Inc (NASDAQ:GOOGL) GOOGL +1.12% (NASDAQ...</td>\n",
       "      <td>3</td>\n",
       "    </tr>\n",
       "    <tr>\n",
       "      <th>36888</th>\n",
       "      <td>technology</td>\n",
       "      <td>Google has purchased New Mexico-based unmanned...</td>\n",
       "      <td>Google has purchased New Mexico-based unmanned...</td>\n",
       "      <td>3</td>\n",
       "    </tr>\n",
       "    <tr>\n",
       "      <th>36889</th>\n",
       "      <td>technology</td>\n",
       "      <td>hidden\\n\\nLooks like Facebook's plans to get I...</td>\n",
       "      <td>Google has beaten the world's largest social n...</td>\n",
       "      <td>3</td>\n",
       "    </tr>\n",
       "    <tr>\n",
       "      <th>36890</th>\n",
       "      <td>technology</td>\n",
       "      <td>Google Has Plans For Titan Drones\\n\\nTitan Aer...</td>\n",
       "      <td>Google Has Plans For Titan DronesTitan Aerospa...</td>\n",
       "      <td>3</td>\n",
       "    </tr>\n",
       "  </tbody>\n",
       "</table>\n",
       "<p>36891 rows × 4 columns</p>\n",
       "</div>"
      ],
      "text/plain": [
       "         CATEGORY                                            CONTENT  \\\n",
       "0        business  The Federal Reserve approved Ally Financial In...   \n",
       "1        business  — Major shareholders of Duke Energy Corp. have...   \n",
       "2        business  Photos taken earlier this month show that Nort...   \n",
       "3        business  Thanks to dogged reporting by the Associated P...   \n",
       "4        business  The energy giant says it is committed to clean...   \n",
       "...           ...                                                ...   \n",
       "36886  technology  Why did this happen?\\n\\nPlease make sure your ...   \n",
       "36887  technology  Google Inc (NASDAQ:GOOGL) GOOGL +1.12% (NASDAQ...   \n",
       "36888  technology  Google has purchased New Mexico-based unmanned...   \n",
       "36889  technology  hidden\\n\\nLooks like Facebook's plans to get I...   \n",
       "36890  technology  Google Has Plans For Titan Drones\\n\\nTitan Aer...   \n",
       "\n",
       "                                                 SUMMARY  category_id  \n",
       "0      The Federal Reserve approved Ally Financial In...            0  \n",
       "1      — Major shareholders of Duke Energy Corp. have...            0  \n",
       "2      Photos taken earlier this month show that Nort...            0  \n",
       "3      Thanks to dogged reporting by the Associated P...            0  \n",
       "4      The energy giant says it is committed to clean...            0  \n",
       "...                                                  ...          ...  \n",
       "36886  Why did this happen?\\nPlease make sure your br...            3  \n",
       "36887  Google Inc (NASDAQ:GOOGL) GOOGL +1.12% (NASDAQ...            3  \n",
       "36888  Google has purchased New Mexico-based unmanned...            3  \n",
       "36889  Google has beaten the world's largest social n...            3  \n",
       "36890  Google Has Plans For Titan DronesTitan Aerospa...            3  \n",
       "\n",
       "[36891 rows x 4 columns]"
      ]
     },
     "execution_count": 3,
     "metadata": {},
     "output_type": "execute_result"
    }
   ],
   "source": [
    "dataset['category_id'] = dataset['CATEGORY'].factorize()[0]\n",
    "dataset"
   ]
  },
  {
   "cell_type": "code",
   "execution_count": 4,
   "id": "cf898047",
   "metadata": {
    "execution": {
     "iopub.execute_input": "2021-07-25T14:38:46.351833Z",
     "iopub.status.busy": "2021-07-25T14:38:46.350961Z",
     "iopub.status.idle": "2021-07-25T14:38:46.611241Z",
     "shell.execute_reply": "2021-07-25T14:38:46.610138Z",
     "shell.execute_reply.started": "2021-07-25T11:49:46.316326Z"
    },
    "papermill": {
     "duration": 0.35075,
     "end_time": "2021-07-25T14:38:46.611443",
     "exception": false,
     "start_time": "2021-07-25T14:38:46.260693",
     "status": "completed"
    },
    "tags": []
   },
   "outputs": [
    {
     "name": "stdout",
     "output_type": "stream",
     "text": [
      "health           10505\n",
      "technology       10246\n",
      "entertainment     8582\n",
      "business          7558\n",
      "Name: CATEGORY, dtype: int64\n"
     ]
    },
    {
     "data": {
      "image/png": "[encoded data removed]",
      "text/plain": [
       "<Figure size 864x360 with 1 Axes>"
      ]
     },
     "metadata": {
      "needs_background": "light"
     },
     "output_type": "display_data"
    }
   ],
   "source": [
    "\n",
    "print(dataset['CATEGORY'].value_counts())\n",
    "\n",
    "plt.figure(figsize=(12,5))\n",
    "sns.countplot(x=dataset['CATEGORY'])\n",
    "plt.title('BBC news class distribution', fontsize=16)\n",
    "plt.ylabel('Class Counts', fontsize=16)\n",
    "plt.xlabel('Class Label', fontsize=16)\n",
    "plt.xticks(rotation='vertical');"
   ]
  },
  {
   "cell_type": "code",
   "execution_count": 5,
   "id": "b1f56c30",
   "metadata": {
    "execution": {
     "iopub.execute_input": "2021-07-25T14:38:46.742586Z",
     "iopub.status.busy": "2021-07-25T14:38:46.741628Z",
     "iopub.status.idle": "2021-07-25T14:38:46.748462Z",
     "shell.execute_reply": "2021-07-25T14:38:46.749116Z",
     "shell.execute_reply.started": "2021-07-25T11:49:46.589335Z"
    },
    "papermill": {
     "duration": 0.079614,
     "end_time": "2021-07-25T14:38:46.749327",
     "exception": false,
     "start_time": "2021-07-25T14:38:46.669713",
     "status": "completed"
    },
    "tags": []
   },
   "outputs": [
    {
     "name": "stdout",
     "output_type": "stream",
     "text": [
      "2    10505\n",
      "3    10246\n",
      "1     8582\n",
      "0     7558\n",
      "Name: category_id, dtype: int64\n"
     ]
    }
   ],
   "source": [
    "# Converting the catergory labels into numeric values using Encoder\n",
    "labelEncoder = preprocessing.LabelEncoder()\n",
    "dataset['category_id'] = labelEncoder.fit_transform(dataset['CATEGORY'])\n",
    "print(dataset['category_id'].value_counts())"
   ]
  },
  {
   "cell_type": "markdown",
   "id": "3e65fbd7",
   "metadata": {
    "papermill": {
     "duration": 0.054144,
     "end_time": "2021-07-25T14:38:46.858553",
     "exception": false,
     "start_time": "2021-07-25T14:38:46.804409",
     "status": "completed"
    },
    "tags": []
   },
   "source": [
    "# Data Cleaning"
   ]
  },
  {
   "cell_type": "code",
   "execution_count": 6,
   "id": "1b4d7057",
   "metadata": {
    "execution": {
     "iopub.execute_input": "2021-07-25T14:38:46.969731Z",
     "iopub.status.busy": "2021-07-25T14:38:46.969108Z",
     "iopub.status.idle": "2021-07-25T14:38:47.065002Z",
     "shell.execute_reply": "2021-07-25T14:38:47.065436Z",
     "shell.execute_reply.started": "2021-07-25T10:37:37.912321Z"
    },
    "papermill": {
     "duration": 0.153909,
     "end_time": "2021-07-25T14:38:47.065602",
     "exception": false,
     "start_time": "2021-07-25T14:38:46.911693",
     "status": "completed"
    },
    "tags": []
   },
   "outputs": [
    {
     "name": "stdout",
     "output_type": "stream",
     "text": [
      "[nltk_data] Downloading package stopwords to /usr/share/nltk_data...\n",
      "[nltk_data]   Package stopwords is already up-to-date!\n"
     ]
    }
   ],
   "source": [
    "nltk.download('stopwords')\n",
    "lst_stopwords = nltk.corpus.stopwords.words(\"english\")\n",
    "def utils_preprocess_text(text, flg_stemm=False, flg_lemm=True,printt = False):#, lst_stopwords=None):\n",
    "    ## clean (convert to lowercase and remove punctuations and characters and then strip)\n",
    "    text = re.sub(r'[^\\w\\s]', ' ', str(text).lower().strip())\n",
    "    text = re.sub(r\"(@\\[A-Za-z0-9]+)|([^0-9A-Za-z \\t])|(\\w+:\\/\\/\\S+)|^rt|http.+?\", \" \", text)\n",
    "    text = re.sub(\"\\d+\", \" \", text)\n",
    "            \n",
    "    ## Tokenize (convert from string to list)\n",
    "    lst_text = text.split()\n",
    "    if printt:\n",
    "        print(f'number of words before removing stop words = {len(lst_text)}')\n",
    "    ## remove Stopwords\n",
    "    if lst_stopwords is not None:\n",
    "        lst_text = [word for word in lst_text if word not in lst_stopwords]\n",
    "    if printt:   \n",
    "        print(f'number of words after removing stop words = {len(lst_text)}')\n",
    "    \n",
    "                \n",
    "    ## Stemming (remove -ing, -ly, ...)\n",
    "    if flg_stemm == True:\n",
    "        ps = nltk.stem.porter.PorterStemmer()\n",
    "        lst_text = [ps.stem(word) for word in lst_text]\n",
    "                \n",
    "    ## Lemmatisation (convert the word into root word)\n",
    "    if flg_lemm == True:\n",
    "        lem = nltk.stem.wordnet.WordNetLemmatizer()\n",
    "        lst_text = [lem.lemmatize(word) for word in lst_text]\n",
    "            \n",
    "    ## back to string from list\n",
    "    text = \" \".join(lst_text)\n",
    "    return text"
   ]
  },
  {
   "cell_type": "code",
   "execution_count": 7,
   "id": "5a21db22",
   "metadata": {
    "execution": {
     "iopub.execute_input": "2021-07-25T14:38:47.178655Z",
     "iopub.status.busy": "2021-07-25T14:38:47.177590Z",
     "iopub.status.idle": "2021-07-25T14:41:41.075794Z",
     "shell.execute_reply": "2021-07-25T14:41:41.076322Z",
     "shell.execute_reply.started": "2021-07-25T10:37:39.887144Z"
    },
    "papermill": {
     "duration": 173.958064,
     "end_time": "2021-07-25T14:41:41.076528",
     "exception": false,
     "start_time": "2021-07-25T14:38:47.118464",
     "status": "completed"
    },
    "tags": []
   },
   "outputs": [
    {
     "data": {
      "text/html": [
       "<div>\n",
       "<style scoped>\n",
       "    .dataframe tbody tr th:only-of-type {\n",
       "        vertical-align: middle;\n",
       "    }\n",
       "\n",
       "    .dataframe tbody tr th {\n",
       "        vertical-align: top;\n",
       "    }\n",
       "\n",
       "    .dataframe thead th {\n",
       "        text-align: right;\n",
       "    }\n",
       "</style>\n",
       "<table border=\"1\" class=\"dataframe\">\n",
       "  <thead>\n",
       "    <tr style=\"text-align: right;\">\n",
       "      <th></th>\n",
       "      <th>CATEGORY</th>\n",
       "      <th>CONTENT</th>\n",
       "      <th>SUMMARY</th>\n",
       "      <th>category_id</th>\n",
       "      <th>clean_text</th>\n",
       "      <th>tokenized</th>\n",
       "    </tr>\n",
       "  </thead>\n",
       "  <tbody>\n",
       "    <tr>\n",
       "      <th>0</th>\n",
       "      <td>business</td>\n",
       "      <td>The Federal Reserve approved Ally Financial In...</td>\n",
       "      <td>The Federal Reserve approved Ally Financial In...</td>\n",
       "      <td>0</td>\n",
       "      <td>federal reserve approved ally financial inc ca...</td>\n",
       "      <td>[federal, reserve, approved, ally, financial, ...</td>\n",
       "    </tr>\n",
       "    <tr>\n",
       "      <th>1</th>\n",
       "      <td>business</td>\n",
       "      <td>— Major shareholders of Duke Energy Corp. have...</td>\n",
       "      <td>— Major shareholders of Duke Energy Corp. have...</td>\n",
       "      <td>0</td>\n",
       "      <td>major shareholder duke energy corp called comp...</td>\n",
       "      <td>[major, shareholder, duke, energy, corp, calle...</td>\n",
       "    </tr>\n",
       "    <tr>\n",
       "      <th>2</th>\n",
       "      <td>business</td>\n",
       "      <td>Photos taken earlier this month show that Nort...</td>\n",
       "      <td>Photos taken earlier this month show that Nort...</td>\n",
       "      <td>0</td>\n",
       "      <td>photo taken earlier month show north carolina ...</td>\n",
       "      <td>[photo, taken, earlier, month, show, north, ca...</td>\n",
       "    </tr>\n",
       "    <tr>\n",
       "      <th>3</th>\n",
       "      <td>business</td>\n",
       "      <td>Thanks to dogged reporting by the Associated P...</td>\n",
       "      <td>Thanks to dogged reporting by the Associated P...</td>\n",
       "      <td>0</td>\n",
       "      <td>thanks dogged reporting associated press know ...</td>\n",
       "      <td>[thanks, dogged, reporting, associated, press,...</td>\n",
       "    </tr>\n",
       "    <tr>\n",
       "      <th>4</th>\n",
       "      <td>business</td>\n",
       "      <td>The energy giant says it is committed to clean...</td>\n",
       "      <td>The energy giant says it is committed to clean...</td>\n",
       "      <td>0</td>\n",
       "      <td>energy giant say committed cleaning dan river ...</td>\n",
       "      <td>[energy, giant, say, committed, cleaning, dan,...</td>\n",
       "    </tr>\n",
       "    <tr>\n",
       "      <th>...</th>\n",
       "      <td>...</td>\n",
       "      <td>...</td>\n",
       "      <td>...</td>\n",
       "      <td>...</td>\n",
       "      <td>...</td>\n",
       "      <td>...</td>\n",
       "    </tr>\n",
       "    <tr>\n",
       "      <th>36886</th>\n",
       "      <td>technology</td>\n",
       "      <td>Why did this happen?\\n\\nPlease make sure your ...</td>\n",
       "      <td>Why did this happen?\\nPlease make sure your br...</td>\n",
       "      <td>3</td>\n",
       "      <td>happen please make sure browser support javasc...</td>\n",
       "      <td>[happen, please, make, sure, browser, support,...</td>\n",
       "    </tr>\n",
       "    <tr>\n",
       "      <th>36887</th>\n",
       "      <td>technology</td>\n",
       "      <td>Google Inc (NASDAQ:GOOGL) GOOGL +1.12% (NASDAQ...</td>\n",
       "      <td>Google Inc (NASDAQ:GOOGL) GOOGL +1.12% (NASDAQ...</td>\n",
       "      <td>3</td>\n",
       "      <td>google inc nasdaq googl googl nasdaq goog goog...</td>\n",
       "      <td>[google, inc, nasdaq, googl, googl, nasdaq, go...</td>\n",
       "    </tr>\n",
       "    <tr>\n",
       "      <th>36888</th>\n",
       "      <td>technology</td>\n",
       "      <td>Google has purchased New Mexico-based unmanned...</td>\n",
       "      <td>Google has purchased New Mexico-based unmanned...</td>\n",
       "      <td>3</td>\n",
       "      <td>google purchased new mexico based unmanned aer...</td>\n",
       "      <td>[google, purchased, new, mexico, based, unmann...</td>\n",
       "    </tr>\n",
       "    <tr>\n",
       "      <th>36889</th>\n",
       "      <td>technology</td>\n",
       "      <td>hidden\\n\\nLooks like Facebook's plans to get I...</td>\n",
       "      <td>Google has beaten the world's largest social n...</td>\n",
       "      <td>3</td>\n",
       "      <td>hidden look like facebook plan get internet de...</td>\n",
       "      <td>[hidden, look, like, facebook, plan, get, inte...</td>\n",
       "    </tr>\n",
       "    <tr>\n",
       "      <th>36890</th>\n",
       "      <td>technology</td>\n",
       "      <td>Google Has Plans For Titan Drones\\n\\nTitan Aer...</td>\n",
       "      <td>Google Has Plans For Titan DronesTitan Aerospa...</td>\n",
       "      <td>3</td>\n",
       "      <td>google plan titan drone titan aerospace drone ...</td>\n",
       "      <td>[google, plan, titan, drone, titan, aerospace,...</td>\n",
       "    </tr>\n",
       "  </tbody>\n",
       "</table>\n",
       "<p>36891 rows × 6 columns</p>\n",
       "</div>"
      ],
      "text/plain": [
       "         CATEGORY                                            CONTENT  \\\n",
       "0        business  The Federal Reserve approved Ally Financial In...   \n",
       "1        business  — Major shareholders of Duke Energy Corp. have...   \n",
       "2        business  Photos taken earlier this month show that Nort...   \n",
       "3        business  Thanks to dogged reporting by the Associated P...   \n",
       "4        business  The energy giant says it is committed to clean...   \n",
       "...           ...                                                ...   \n",
       "36886  technology  Why did this happen?\\n\\nPlease make sure your ...   \n",
       "36887  technology  Google Inc (NASDAQ:GOOGL) GOOGL +1.12% (NASDAQ...   \n",
       "36888  technology  Google has purchased New Mexico-based unmanned...   \n",
       "36889  technology  hidden\\n\\nLooks like Facebook's plans to get I...   \n",
       "36890  technology  Google Has Plans For Titan Drones\\n\\nTitan Aer...   \n",
       "\n",
       "                                                 SUMMARY  category_id  \\\n",
       "0      The Federal Reserve approved Ally Financial In...            0   \n",
       "1      — Major shareholders of Duke Energy Corp. have...            0   \n",
       "2      Photos taken earlier this month show that Nort...            0   \n",
       "3      Thanks to dogged reporting by the Associated P...            0   \n",
       "4      The energy giant says it is committed to clean...            0   \n",
       "...                                                  ...          ...   \n",
       "36886  Why did this happen?\\nPlease make sure your br...            3   \n",
       "36887  Google Inc (NASDAQ:GOOGL) GOOGL +1.12% (NASDAQ...            3   \n",
       "36888  Google has purchased New Mexico-based unmanned...            3   \n",
       "36889  Google has beaten the world's largest social n...            3   \n",
       "36890  Google Has Plans For Titan DronesTitan Aerospa...            3   \n",
       "\n",
       "                                              clean_text  \\\n",
       "0      federal reserve approved ally financial inc ca...   \n",
       "1      major shareholder duke energy corp called comp...   \n",
       "2      photo taken earlier month show north carolina ...   \n",
       "3      thanks dogged reporting associated press know ...   \n",
       "4      energy giant say committed cleaning dan river ...   \n",
       "...                                                  ...   \n",
       "36886  happen please make sure browser support javasc...   \n",
       "36887  google inc nasdaq googl googl nasdaq goog goog...   \n",
       "36888  google purchased new mexico based unmanned aer...   \n",
       "36889  hidden look like facebook plan get internet de...   \n",
       "36890  google plan titan drone titan aerospace drone ...   \n",
       "\n",
       "                                               tokenized  \n",
       "0      [federal, reserve, approved, ally, financial, ...  \n",
       "1      [major, shareholder, duke, energy, corp, calle...  \n",
       "2      [photo, taken, earlier, month, show, north, ca...  \n",
       "3      [thanks, dogged, reporting, associated, press,...  \n",
       "4      [energy, giant, say, committed, cleaning, dan,...  \n",
       "...                                                  ...  \n",
       "36886  [happen, please, make, sure, browser, support,...  \n",
       "36887  [google, inc, nasdaq, googl, googl, nasdaq, go...  \n",
       "36888  [google, purchased, new, mexico, based, unmann...  \n",
       "36889  [hidden, look, like, facebook, plan, get, inte...  \n",
       "36890  [google, plan, titan, drone, titan, aerospace,...  \n",
       "\n",
       "[36891 rows x 6 columns]"
      ]
     },
     "execution_count": 7,
     "metadata": {},
     "output_type": "execute_result"
    }
   ],
   "source": [
    "\n",
    "dataset[\"clean_text\"] = dataset[\"CONTENT\"].apply(lambda txt: utils_preprocess_text(txt,flg_stemm=False, flg_lemm=True))\n",
    "dataset['tokenized'] = dataset['clean_text'].apply(lambda x: nltk.tokenize.word_tokenize(x))\n",
    "dataset"
   ]
  },
  {
   "cell_type": "code",
   "execution_count": 8,
   "id": "aadad147",
   "metadata": {
    "execution": {
     "iopub.execute_input": "2021-07-25T14:41:41.199696Z",
     "iopub.status.busy": "2021-07-25T14:41:41.198867Z",
     "iopub.status.idle": "2021-07-25T14:45:26.881832Z",
     "shell.execute_reply": "2021-07-25T14:45:26.868940Z",
     "shell.execute_reply.started": "2021-07-25T06:18:15.307463Z"
    },
    "papermill": {
     "duration": 225.748803,
     "end_time": "2021-07-25T14:45:26.882002",
     "exception": false,
     "start_time": "2021-07-25T14:41:41.133199",
     "status": "completed"
    },
    "tags": []
   },
   "outputs": [
    {
     "name": "stdout",
     "output_type": "stream",
     "text": [
      "===================Collocataion of Category 0:======================================\n"
     ]
    },
    {
     "data": {
      "application/vnd.jupyter.widget-view+json": {
       "model_id": "971d9b8b08ea4090ac1ac23b529da618",
       "version_major": 2,
       "version_minor": 0
      },
      "text/plain": [
       "HBox(children=(Output(), Output()))"
      ]
     },
     "metadata": {},
     "output_type": "display_data"
    },
    {
     "name": "stdout",
     "output_type": "stream",
     "text": [
      "===================Collocataion of Category 1:======================================\n"
     ]
    },
    {
     "data": {
      "application/vnd.jupyter.widget-view+json": {
       "model_id": "3a945421b7d5474c8688b7fc89201870",
       "version_major": 2,
       "version_minor": 0
      },
      "text/plain": [
       "HBox(children=(Output(), Output()))"
      ]
     },
     "metadata": {},
     "output_type": "display_data"
    },
    {
     "name": "stdout",
     "output_type": "stream",
     "text": [
      "===================Collocataion of Category 2:======================================\n"
     ]
    },
    {
     "data": {
      "application/vnd.jupyter.widget-view+json": {
       "model_id": "9c9d42bb87754b27927a0a4694d6f703",
       "version_major": 2,
       "version_minor": 0
      },
      "text/plain": [
       "HBox(children=(Output(), Output()))"
      ]
     },
     "metadata": {},
     "output_type": "display_data"
    },
    {
     "name": "stdout",
     "output_type": "stream",
     "text": [
      "===================Collocataion of Category 3:======================================\n"
     ]
    },
    {
     "data": {
      "application/vnd.jupyter.widget-view+json": {
       "model_id": "249f27a409614dccba1a5fe838e421f6",
       "version_major": 2,
       "version_minor": 0
      },
      "text/plain": [
       "HBox(children=(Output(), Output()))"
      ]
     },
     "metadata": {},
     "output_type": "display_data"
    }
   ],
   "source": [
    "for in_cluster_id in [0,1,2,3]:\n",
    "    print(f'===================Collocataion of Category {in_cluster_id}:======================================')\n",
    "    corpus = dataset[dataset[\"category_id\"]== in_cluster_id][\"clean_text\"]\n",
    "    tokens = nltk.tokenize.word_tokenize(corpus.str.cat(sep=\" \"))\n",
    "    bigrams = nltk.collocations.BigramAssocMeasures()\n",
    "    trigrams = nltk.collocations.TrigramAssocMeasures()\n",
    "    bigramFinder = nltk.collocations.BigramCollocationFinder.from_words(tokens)\n",
    "    trigramFinder = nltk.collocations.TrigramCollocationFinder.from_words(tokens)\n",
    "    bigramPMITable = pd.DataFrame(list(bigramFinder.score_ngrams(bigrams.pmi)), columns=['bigram','PMI']).sort_values(by='PMI', ascending=False)\n",
    "    trigramPMITable = pd.DataFrame(list(trigramFinder.score_ngrams(trigrams.pmi)), columns=['trigram','PMI']).sort_values(by='PMI', ascending=False)\n",
    "\n",
    "    # create output widgets\n",
    "    widget1 = widgets.Output()\n",
    "    widget2 = widgets.Output()\n",
    "\n",
    "    # render in output widgets\n",
    "    with widget1:\n",
    "        display.display(bigramPMITable)\n",
    "    with widget2:\n",
    "        display.display(trigramPMITable)\n",
    "\n",
    "    # create HBox\n",
    "    hbox = widgets.HBox([widget1, widget2])\n",
    "\n",
    "    # render hbox\n",
    "    display.display(hbox)"
   ]
  },
  {
   "cell_type": "code",
   "execution_count": 9,
   "id": "ba25a839",
   "metadata": {
    "execution": {
     "iopub.execute_input": "2021-07-25T14:45:27.031766Z",
     "iopub.status.busy": "2021-07-25T14:45:27.030909Z",
     "iopub.status.idle": "2021-07-25T14:45:27.909867Z",
     "shell.execute_reply": "2021-07-25T14:45:27.910379Z",
     "shell.execute_reply.started": "2021-07-25T11:08:06.390063Z"
    },
    "papermill": {
     "duration": 0.967044,
     "end_time": "2021-07-25T14:45:27.910569",
     "exception": false,
     "start_time": "2021-07-25T14:45:26.943525",
     "status": "completed"
    },
    "tags": []
   },
   "outputs": [
    {
     "name": "stdout",
     "output_type": "stream",
     "text": [
      "===================Collocataion of Category 0:======================================\n"
     ]
    },
    {
     "data": {
      "image/png": "[encoded data removed]",
      "text/plain": [
       "<Figure size 432x288 with 1 Axes>"
      ]
     },
     "metadata": {
      "needs_background": "light"
     },
     "output_type": "display_data"
    },
    {
     "name": "stdout",
     "output_type": "stream",
     "text": [
      "===================Collocataion of Category 1:======================================\n"
     ]
    },
    {
     "data": {
      "image/png": "[encoded data removed]",
      "text/plain": [
       "<Figure size 432x288 with 1 Axes>"
      ]
     },
     "metadata": {
      "needs_background": "light"
     },
     "output_type": "display_data"
    },
    {
     "name": "stdout",
     "output_type": "stream",
     "text": [
      "===================Collocataion of Category 2:======================================\n"
     ]
    },
    {
     "data": {
      "image/png": "[encoded data removed]",
      "text/plain": [
       "<Figure size 432x288 with 1 Axes>"
      ]
     },
     "metadata": {
      "needs_background": "light"
     },
     "output_type": "display_data"
    },
    {
     "name": "stdout",
     "output_type": "stream",
     "text": [
      "===================Collocataion of Category 3:======================================\n"
     ]
    },
    {
     "data": {
      "image/png": "[encoded data removed]",
      "text/plain": [
       "<Figure size 432x288 with 1 Axes>"
      ]
     },
     "metadata": {
      "needs_background": "light"
     },
     "output_type": "display_data"
    }
   ],
   "source": [
    "for in_cluster_id in [0,1,2,3]:\n",
    "    print(f'===================Collocataion of Category {in_cluster_id}:======================================')\n",
    "    corpus = dataset[dataset[\"category_id\"]== in_cluster_id][\"clean_text\"]\n",
    "    wc = wordcloud.WordCloud(background_color='black', max_words=100, max_font_size=35)\n",
    "    wc = wc.generate(str(corpus))\n",
    "    fig = plt.figure(num=1)\n",
    "    plt.axis('off')\n",
    "    plt.imshow(wc, cmap=None)\n",
    "    plt.show()"
   ]
  },
  {
   "cell_type": "code",
   "execution_count": 10,
   "id": "2bf455a3",
   "metadata": {
    "execution": {
     "iopub.execute_input": "2021-07-25T14:45:28.061580Z",
     "iopub.status.busy": "2021-07-25T14:45:28.060597Z",
     "iopub.status.idle": "2021-07-25T14:45:28.072625Z",
     "shell.execute_reply": "2021-07-25T14:45:28.073098Z",
     "shell.execute_reply.started": "2021-07-25T10:40:42.160493Z"
    },
    "papermill": {
     "duration": 0.090979,
     "end_time": "2021-07-25T14:45:28.073281",
     "exception": false,
     "start_time": "2021-07-25T14:45:27.982302",
     "status": "completed"
    },
    "tags": []
   },
   "outputs": [
    {
     "name": "stdout",
     "output_type": "stream",
     "text": [
      "Train x size : (25823,)\n",
      "Train y size : (25823,)\n",
      "Test x size : (11068,)\n",
      "Test y size : (11068,)\n"
     ]
    }
   ],
   "source": [
    "# Splitting the dataset into Training and Testing Data\n",
    "train_text, test_text, train_labels, test_labels = train_test_split(dataset[\"CONTENT\"], dataset[\"category_id\"], train_size=0.7, random_state=0)\n",
    "\n",
    "print(\"Train x size :\", train_text.shape)\n",
    "print(\"Train y size :\", train_labels.shape)\n",
    "print(\"Test x size :\", test_text.shape)\n",
    "print(\"Test y size :\", test_labels.shape)"
   ]
  },
  {
   "cell_type": "markdown",
   "id": "6011f9c1",
   "metadata": {
    "papermill": {
     "duration": 0.071281,
     "end_time": "2021-07-25T14:45:28.215993",
     "exception": false,
     "start_time": "2021-07-25T14:45:28.144712",
     "status": "completed"
    },
    "tags": []
   },
   "source": [
    "# Feature Engineering"
   ]
  },
  {
   "cell_type": "markdown",
   "id": "c87c1dab",
   "metadata": {
    "papermill": {
     "duration": 0.071118,
     "end_time": "2021-07-25T14:45:28.358701",
     "exception": false,
     "start_time": "2021-07-25T14:45:28.287583",
     "status": "completed"
    },
    "tags": []
   },
   "source": [
    "> BOW"
   ]
  },
  {
   "cell_type": "code",
   "execution_count": 11,
   "id": "752cff17",
   "metadata": {
    "execution": {
     "iopub.execute_input": "2021-07-25T14:45:28.505022Z",
     "iopub.status.busy": "2021-07-25T14:45:28.504321Z",
     "iopub.status.idle": "2021-07-25T14:45:43.903023Z",
     "shell.execute_reply": "2021-07-25T14:45:43.902457Z",
     "shell.execute_reply.started": "2021-07-25T10:40:44.367685Z"
    },
    "papermill": {
     "duration": 15.472818,
     "end_time": "2021-07-25T14:45:43.903177",
     "exception": false,
     "start_time": "2021-07-25T14:45:28.430359",
     "status": "completed"
    },
    "tags": []
   },
   "outputs": [],
   "source": [
    "# Extracting features by counting word counts (BOW)\n",
    "#Bag of words\n",
    "vectorizer = CountVectorizer(min_df=2)\n",
    "bow_train_features = vectorizer.fit_transform(train_text)\n",
    "bow_test_features = vectorizer.transform(test_text)"
   ]
  },
  {
   "cell_type": "markdown",
   "id": "13a771fc",
   "metadata": {
    "papermill": {
     "duration": 0.071725,
     "end_time": "2021-07-25T14:45:44.047288",
     "exception": false,
     "start_time": "2021-07-25T14:45:43.975563",
     "status": "completed"
    },
    "tags": []
   },
   "source": [
    "> TFIDF"
   ]
  },
  {
   "cell_type": "code",
   "execution_count": 12,
   "id": "4931b924",
   "metadata": {
    "execution": {
     "iopub.execute_input": "2021-07-25T14:45:44.202797Z",
     "iopub.status.busy": "2021-07-25T14:45:44.201820Z",
     "iopub.status.idle": "2021-07-25T14:45:59.587168Z",
     "shell.execute_reply": "2021-07-25T14:45:59.586617Z",
     "shell.execute_reply.started": "2021-07-25T10:41:00.561657Z"
    },
    "papermill": {
     "duration": 15.46694,
     "end_time": "2021-07-25T14:45:59.587319",
     "exception": false,
     "start_time": "2021-07-25T14:45:44.120379",
     "status": "completed"
    },
    "tags": []
   },
   "outputs": [],
   "source": [
    "\n",
    "# Extracting Features with TdIdf\n",
    "tfIdVector = TfidfVectorizer(min_df=6,norm='l2',smooth_idf=True,use_idf=True)\n",
    "\n",
    "#Extracting train and test features\n",
    "tfidTrainFeatures = tfIdVector.fit_transform(train_text)\n",
    "tfidTestFeatures = tfIdVector.transform(test_text)"
   ]
  },
  {
   "cell_type": "markdown",
   "id": "48e8c3b7",
   "metadata": {
    "papermill": {
     "duration": 0.071463,
     "end_time": "2021-07-25T14:45:59.730017",
     "exception": false,
     "start_time": "2021-07-25T14:45:59.658554",
     "status": "completed"
    },
    "tags": []
   },
   "source": [
    "# LR Classifier"
   ]
  },
  {
   "cell_type": "markdown",
   "id": "d10ac670",
   "metadata": {
    "papermill": {
     "duration": 0.072017,
     "end_time": "2021-07-25T14:45:59.873883",
     "exception": false,
     "start_time": "2021-07-25T14:45:59.801866",
     "status": "completed"
    },
    "tags": []
   },
   "source": [
    "> BOW"
   ]
  },
  {
   "cell_type": "code",
   "execution_count": 13,
   "id": "95091e85",
   "metadata": {
    "execution": {
     "iopub.execute_input": "2021-07-25T14:46:00.025073Z",
     "iopub.status.busy": "2021-07-25T14:46:00.024053Z",
     "iopub.status.idle": "2021-07-25T14:46:36.615787Z",
     "shell.execute_reply": "2021-07-25T14:46:36.616326Z",
     "shell.execute_reply.started": "2021-07-25T10:41:16.500962Z"
    },
    "papermill": {
     "duration": 36.671035,
     "end_time": "2021-07-25T14:46:36.616532",
     "exception": false,
     "start_time": "2021-07-25T14:45:59.945497",
     "status": "completed"
    },
    "tags": []
   },
   "outputs": [
    {
     "data": {
      "text/plain": [
       "LogisticRegression(solver='liblinear')"
      ]
     },
     "execution_count": 13,
     "metadata": {},
     "output_type": "execute_result"
    }
   ],
   "source": [
    "\n",
    "#Logistic Regression Model for training Data using s\n",
    "logRegModel = LogisticRegression(solver = 'liblinear')\n",
    "logRegModel.fit(bow_train_features,train_labels)"
   ]
  },
  {
   "cell_type": "code",
   "execution_count": 14,
   "id": "abb46bb3",
   "metadata": {
    "execution": {
     "iopub.execute_input": "2021-07-25T14:46:36.767717Z",
     "iopub.status.busy": "2021-07-25T14:46:36.766997Z",
     "iopub.status.idle": "2021-07-25T14:46:36.804491Z",
     "shell.execute_reply": "2021-07-25T14:46:36.804952Z",
     "shell.execute_reply.started": "2021-07-25T10:42:30.630942Z"
    },
    "papermill": {
     "duration": 0.115547,
     "end_time": "2021-07-25T14:46:36.805130",
     "exception": false,
     "start_time": "2021-07-25T14:46:36.689583",
     "status": "completed"
    },
    "tags": []
   },
   "outputs": [
    {
     "name": "stdout",
     "output_type": "stream",
     "text": [
      "Approximate Accuracy with BOW of LR:  93.30502349114565\n"
     ]
    }
   ],
   "source": [
    "# Finding the predictions of text dataset\n",
    "predLogReg1 = logRegModel.predict(bow_test_features)\n",
    "score1 = logRegModel.score(bow_test_features,test_labels)\n",
    "print(\"Approximate Accuracy with BOW of LR: \", score1*100)"
   ]
  },
  {
   "cell_type": "code",
   "execution_count": 15,
   "id": "2683cd8b",
   "metadata": {
    "execution": {
     "iopub.execute_input": "2021-07-25T14:46:36.957757Z",
     "iopub.status.busy": "2021-07-25T14:46:36.957027Z",
     "iopub.status.idle": "2021-07-25T14:46:37.237784Z",
     "shell.execute_reply": "2021-07-25T14:46:37.237176Z",
     "shell.execute_reply.started": "2021-07-25T10:42:42.990899Z"
    },
    "papermill": {
     "duration": 0.358685,
     "end_time": "2021-07-25T14:46:37.237927",
     "exception": false,
     "start_time": "2021-07-25T14:46:36.879242",
     "status": "completed"
    },
    "tags": []
   },
   "outputs": [
    {
     "data": {
      "text/plain": [
       "<sklearn.metrics._plot.confusion_matrix.ConfusionMatrixDisplay at 0x7f6a1d60cad0>"
      ]
     },
     "execution_count": 15,
     "metadata": {},
     "output_type": "execute_result"
    },
    {
     "data": {
      "image/png": "[encoded data removed]",
      "text/plain": [
       "<Figure size 432x288 with 2 Axes>"
      ]
     },
     "metadata": {
      "needs_background": "light"
     },
     "output_type": "display_data"
    }
   ],
   "source": [
    "metrics.plot_confusion_matrix(logRegModel ,bow_test_features , test_labels)"
   ]
  },
  {
   "cell_type": "markdown",
   "id": "39b361dd",
   "metadata": {
    "papermill": {
     "duration": 0.073819,
     "end_time": "2021-07-25T14:46:37.385377",
     "exception": false,
     "start_time": "2021-07-25T14:46:37.311558",
     "status": "completed"
    },
    "tags": []
   },
   "source": [
    "> TFIDF"
   ]
  },
  {
   "cell_type": "code",
   "execution_count": 16,
   "id": "6869e2f1",
   "metadata": {
    "execution": {
     "iopub.execute_input": "2021-07-25T14:46:37.538882Z",
     "iopub.status.busy": "2021-07-25T14:46:37.538213Z",
     "iopub.status.idle": "2021-07-25T14:46:42.202186Z",
     "shell.execute_reply": "2021-07-25T14:46:42.202717Z",
     "shell.execute_reply.started": "2021-07-25T10:42:47.226318Z"
    },
    "papermill": {
     "duration": 4.743919,
     "end_time": "2021-07-25T14:46:42.202906",
     "exception": false,
     "start_time": "2021-07-25T14:46:37.458987",
     "status": "completed"
    },
    "tags": []
   },
   "outputs": [
    {
     "data": {
      "text/plain": [
       "LogisticRegression(solver='liblinear')"
      ]
     },
     "execution_count": 16,
     "metadata": {},
     "output_type": "execute_result"
    }
   ],
   "source": [
    "#Logistic Regression Model for training Data with tfid features\n",
    "logRegModel2 = LogisticRegression(solver = 'liblinear')\n",
    "logRegModel2.fit(tfidTrainFeatures,train_labels)"
   ]
  },
  {
   "cell_type": "code",
   "execution_count": 17,
   "id": "aa552724",
   "metadata": {
    "execution": {
     "iopub.execute_input": "2021-07-25T14:46:42.353226Z",
     "iopub.status.busy": "2021-07-25T14:46:42.352295Z",
     "iopub.status.idle": "2021-07-25T14:46:42.386360Z",
     "shell.execute_reply": "2021-07-25T14:46:42.385832Z",
     "shell.execute_reply.started": "2021-07-25T10:42:52.576254Z"
    },
    "papermill": {
     "duration": 0.110443,
     "end_time": "2021-07-25T14:46:42.386513",
     "exception": false,
     "start_time": "2021-07-25T14:46:42.276070",
     "status": "completed"
    },
    "tags": []
   },
   "outputs": [
    {
     "name": "stdout",
     "output_type": "stream",
     "text": [
      "Approximate Accuracy with TfIdf of LR:  93.07914709071197\n"
     ]
    }
   ],
   "source": [
    "# Finding the predictions of text dataset\n",
    "predLogReg2 = logRegModel2.predict(tfidTestFeatures)\n",
    "score2 = logRegModel2.score(tfidTestFeatures,test_labels)\n",
    "print(\"Approximate Accuracy with TfIdf of LR: \", score2*100)"
   ]
  },
  {
   "cell_type": "code",
   "execution_count": 18,
   "id": "463e840c",
   "metadata": {
    "execution": {
     "iopub.execute_input": "2021-07-25T14:46:42.539503Z",
     "iopub.status.busy": "2021-07-25T14:46:42.538549Z",
     "iopub.status.idle": "2021-07-25T14:46:42.812142Z",
     "shell.execute_reply": "2021-07-25T14:46:42.811449Z",
     "shell.execute_reply.started": "2021-07-25T10:42:52.619603Z"
    },
    "papermill": {
     "duration": 0.352439,
     "end_time": "2021-07-25T14:46:42.812288",
     "exception": false,
     "start_time": "2021-07-25T14:46:42.459849",
     "status": "completed"
    },
    "tags": []
   },
   "outputs": [
    {
     "data": {
      "text/plain": [
       "<sklearn.metrics._plot.confusion_matrix.ConfusionMatrixDisplay at 0x7f6a4ba675d0>"
      ]
     },
     "execution_count": 18,
     "metadata": {},
     "output_type": "execute_result"
    },
    {
     "data": {
      "image/png": "[encoded data removed]",
      "text/plain": [
       "<Figure size 432x288 with 2 Axes>"
      ]
     },
     "metadata": {
      "needs_background": "light"
     },
     "output_type": "display_data"
    }
   ],
   "source": [
    "metrics.plot_confusion_matrix(logRegModel2 ,tfidTestFeatures , test_labels)"
   ]
  },
  {
   "cell_type": "markdown",
   "id": "c58951f2",
   "metadata": {
    "papermill": {
     "duration": 0.075578,
     "end_time": "2021-07-25T14:46:42.964180",
     "exception": false,
     "start_time": "2021-07-25T14:46:42.888602",
     "status": "completed"
    },
    "tags": []
   },
   "source": [
    "# Error Analysis: LR Classifier"
   ]
  },
  {
   "cell_type": "code",
   "execution_count": 19,
   "id": "07fc1738",
   "metadata": {
    "execution": {
     "iopub.execute_input": "2021-07-25T14:46:43.124815Z",
     "iopub.status.busy": "2021-07-25T14:46:43.123991Z",
     "iopub.status.idle": "2021-07-25T14:46:43.128659Z",
     "shell.execute_reply": "2021-07-25T14:46:43.129224Z",
     "shell.execute_reply.started": "2021-07-25T10:47:05.500576Z"
    },
    "papermill": {
     "duration": 0.089851,
     "end_time": "2021-07-25T14:46:43.129403",
     "exception": false,
     "start_time": "2021-07-25T14:46:43.039552",
     "status": "completed"
    },
    "tags": []
   },
   "outputs": [
    {
     "name": "stdout",
     "output_type": "stream",
     "text": [
      "[3 1 3 ... 0 3 2]\n"
     ]
    },
    {
     "data": {
      "text/plain": [
       "33579    3\n",
       "12361    1\n",
       "30654    3\n",
       "23593    2\n",
       "3316     0\n",
       "        ..\n",
       "24752    2\n",
       "19654    2\n",
       "3196     0\n",
       "36359    3\n",
       "35600    3\n",
       "Name: category_id, Length: 11068, dtype: int64"
      ]
     },
     "execution_count": 19,
     "metadata": {},
     "output_type": "execute_result"
    }
   ],
   "source": [
    "print(predLogReg1)\n",
    "(test_labels)"
   ]
  },
  {
   "cell_type": "code",
   "execution_count": 20,
   "id": "916bd5b7",
   "metadata": {
    "execution": {
     "iopub.execute_input": "2021-07-25T14:46:43.286449Z",
     "iopub.status.busy": "2021-07-25T14:46:43.285593Z",
     "iopub.status.idle": "2021-07-25T14:46:43.290043Z",
     "shell.execute_reply": "2021-07-25T14:46:43.289414Z",
     "shell.execute_reply.started": "2021-07-25T10:45:14.469386Z"
    },
    "papermill": {
     "duration": 0.085495,
     "end_time": "2021-07-25T14:46:43.290179",
     "exception": false,
     "start_time": "2021-07-25T14:46:43.204684",
     "status": "completed"
    },
    "tags": []
   },
   "outputs": [
    {
     "data": {
      "text/plain": [
       "3"
      ]
     },
     "execution_count": 20,
     "metadata": {},
     "output_type": "execute_result"
    }
   ],
   "source": [
    "dataset['category_id'][35600]"
   ]
  },
  {
   "cell_type": "code",
   "execution_count": 21,
   "id": "20bf00dc",
   "metadata": {
    "execution": {
     "iopub.execute_input": "2021-07-25T14:46:43.448442Z",
     "iopub.status.busy": "2021-07-25T14:46:43.447775Z",
     "iopub.status.idle": "2021-07-25T14:46:43.450580Z",
     "shell.execute_reply": "2021-07-25T14:46:43.451017Z",
     "shell.execute_reply.started": "2021-07-25T11:03:18.575102Z"
    },
    "papermill": {
     "duration": 0.084561,
     "end_time": "2021-07-25T14:46:43.451191",
     "exception": false,
     "start_time": "2021-07-25T14:46:43.366630",
     "status": "completed"
    },
    "tags": []
   },
   "outputs": [
    {
     "data": {
      "text/plain": [
       "'dr steven horng boston beth israel deaconess medical center technology thank saving recent patient life came accessing patient file bulky paper match agility google glass horng reliance glass helped quickly find medication patient allergic part larger pilot program instituted hospital morning emergency department staff arrives put futuristic eyewear like would scrub overall goal acclimate hospital employee experience interacting technology medical personnel quick adopt data keeping capability horng also hold degree computer science biomedical informatics basically use information along technology best way possible told boston globe glass enabled better bedside physician well rather excuse said mean quickly access information without interrupt patient lose eye contact even leave room glass also used take picture record instructional video send file wearer staff conduct test patient ass health current version stock however run android based platform designed company called wearable intelligence equips glass feature specific hospital setting including limited wi fi access medical dictionary place speech recognition total restriction social medium use doctor really need tweeting photo patient man allergic medication would probably say'"
      ]
     },
     "execution_count": 21,
     "metadata": {},
     "output_type": "execute_result"
    }
   ],
   "source": [
    "dataset['clean_text'][35600]"
   ]
  },
  {
   "cell_type": "code",
   "execution_count": 22,
   "id": "50a64fe3",
   "metadata": {
    "execution": {
     "iopub.execute_input": "2021-07-25T14:46:43.607731Z",
     "iopub.status.busy": "2021-07-25T14:46:43.607087Z",
     "iopub.status.idle": "2021-07-25T14:46:43.852698Z",
     "shell.execute_reply": "2021-07-25T14:46:43.853186Z",
     "shell.execute_reply.started": "2021-07-25T10:47:03.492538Z"
    },
    "papermill": {
     "duration": 0.325361,
     "end_time": "2021-07-25T14:46:43.853368",
     "exception": false,
     "start_time": "2021-07-25T14:46:43.528007",
     "status": "completed"
    },
    "tags": []
   },
   "outputs": [
    {
     "data": {
      "image/png": "[encoded data removed]",
      "text/plain": [
       "<Figure size 432x288 with 1 Axes>"
      ]
     },
     "metadata": {
      "needs_background": "light"
     },
     "output_type": "display_data"
    }
   ],
   "source": [
    "\n",
    "wc = wordcloud.WordCloud(background_color='black', max_words=100, max_font_size=35)\n",
    "wc = wc.generate(str(dataset['clean_text'][35600]))\n",
    "fig = plt.figure(num=1)\n",
    "plt.axis('off')\n",
    "plt.imshow(wc, cmap=None)\n",
    "plt.show()"
   ]
  },
  {
   "cell_type": "code",
   "execution_count": 23,
   "id": "fc5296ba",
   "metadata": {
    "execution": {
     "iopub.execute_input": "2021-07-25T14:46:44.384487Z",
     "iopub.status.busy": "2021-07-25T14:46:44.060664Z",
     "iopub.status.idle": "2021-07-25T14:46:44.946025Z",
     "shell.execute_reply": "2021-07-25T14:46:44.945192Z",
     "shell.execute_reply.started": "2021-07-25T10:46:30.62642Z"
    },
    "papermill": {
     "duration": 1.010792,
     "end_time": "2021-07-25T14:46:44.946227",
     "exception": false,
     "start_time": "2021-07-25T14:46:43.935435",
     "status": "completed"
    },
    "tags": []
   },
   "outputs": [
    {
     "data": {
      "application/vnd.jupyter.widget-view+json": {
       "model_id": "ec37d4310c5b4b9d9c34746a44f8babc",
       "version_major": 2,
       "version_minor": 0
      },
      "text/plain": [
       "HBox(children=(Output(), Output()))"
      ]
     },
     "metadata": {},
     "output_type": "display_data"
    }
   ],
   "source": [
    "\n",
    "tokens = dataset['tokenized'][35600]\n",
    "bigrams = nltk.collocations.BigramAssocMeasures()\n",
    "trigrams = nltk.collocations.TrigramAssocMeasures()\n",
    "bigramFinder = nltk.collocations.BigramCollocationFinder.from_words(tokens)\n",
    "trigramFinder = nltk.collocations.TrigramCollocationFinder.from_words(tokens)\n",
    "bigramPMITable = pd.DataFrame(list(bigramFinder.score_ngrams(bigrams.pmi)), columns=['bigram','PMI']).sort_values(by='PMI', ascending=False)\n",
    "trigramPMITable = pd.DataFrame(list(trigramFinder.score_ngrams(trigrams.pmi)), columns=['trigram','PMI']).sort_values(by='PMI', ascending=False)\n",
    "\n",
    "# create output widgets\n",
    "widget1 = widgets.Output()\n",
    "widget2 = widgets.Output()\n",
    "\n",
    "# render in output widgets\n",
    "with widget1:\n",
    "    display.display(bigramPMITable)\n",
    "with widget2:\n",
    "    display.display(trigramPMITable)\n",
    "\n",
    "# create HBox\n",
    "hbox = widgets.HBox([widget1, widget2])\n",
    "\n",
    "# render hbox\n",
    "display.display(hbox)"
   ]
  },
  {
   "cell_type": "markdown",
   "id": "4f36de91",
   "metadata": {
    "papermill": {
     "duration": 0.080654,
     "end_time": "2021-07-25T14:46:45.108920",
     "exception": false,
     "start_time": "2021-07-25T14:46:45.028266",
     "status": "completed"
    },
    "tags": []
   },
   "source": [
    "# Naive Bayes Classifier"
   ]
  },
  {
   "cell_type": "markdown",
   "id": "2c721720",
   "metadata": {
    "papermill": {
     "duration": 0.08021,
     "end_time": "2021-07-25T14:46:45.270258",
     "exception": false,
     "start_time": "2021-07-25T14:46:45.190048",
     "status": "completed"
    },
    "tags": []
   },
   "source": [
    "> BOW"
   ]
  },
  {
   "cell_type": "code",
   "execution_count": 24,
   "id": "34ac005b",
   "metadata": {
    "execution": {
     "iopub.execute_input": "2021-07-25T14:46:45.436143Z",
     "iopub.status.busy": "2021-07-25T14:46:45.435564Z",
     "iopub.status.idle": "2021-07-25T14:46:45.532041Z",
     "shell.execute_reply": "2021-07-25T14:46:45.531360Z",
     "shell.execute_reply.started": "2021-07-25T08:51:01.170867Z"
    },
    "papermill": {
     "duration": 0.181525,
     "end_time": "2021-07-25T14:46:45.532179",
     "exception": false,
     "start_time": "2021-07-25T14:46:45.350654",
     "status": "completed"
    },
    "tags": []
   },
   "outputs": [
    {
     "name": "stdout",
     "output_type": "stream",
     "text": [
      "Naive baysian Bag of words accuracy 90.08854354897 %\n"
     ]
    }
   ],
   "source": [
    "from sklearn.naive_bayes import MultinomialNB\n",
    "mnb = MultinomialNB()\n",
    "mnb.fit(bow_train_features,train_labels)\n",
    "\n",
    "predictions = mnb.predict(bow_test_features)\n",
    "\n",
    "score3 = mnb.score(bow_test_features, test_labels)\n",
    "print(\"Naive baysian Bag of words accuracy\",score3*100,'%')"
   ]
  },
  {
   "cell_type": "code",
   "execution_count": 25,
   "id": "15acb0e3",
   "metadata": {
    "execution": {
     "iopub.execute_input": "2021-07-25T14:46:45.698740Z",
     "iopub.status.busy": "2021-07-25T14:46:45.698105Z",
     "iopub.status.idle": "2021-07-25T14:46:45.974921Z",
     "shell.execute_reply": "2021-07-25T14:46:45.974239Z",
     "shell.execute_reply.started": "2021-07-25T08:51:01.478749Z"
    },
    "papermill": {
     "duration": 0.361607,
     "end_time": "2021-07-25T14:46:45.975069",
     "exception": false,
     "start_time": "2021-07-25T14:46:45.613462",
     "status": "completed"
    },
    "tags": []
   },
   "outputs": [
    {
     "data": {
      "text/plain": [
       "<sklearn.metrics._plot.confusion_matrix.ConfusionMatrixDisplay at 0x7f6a159bd390>"
      ]
     },
     "execution_count": 25,
     "metadata": {},
     "output_type": "execute_result"
    },
    {
     "data": {
      "image/png": "[encoded data removed]",
      "text/plain": [
       "<Figure size 432x288 with 2 Axes>"
      ]
     },
     "metadata": {
      "needs_background": "light"
     },
     "output_type": "display_data"
    }
   ],
   "source": [
    "metrics.plot_confusion_matrix(mnb ,bow_test_features , test_labels)"
   ]
  },
  {
   "cell_type": "markdown",
   "id": "b173ff01",
   "metadata": {
    "papermill": {
     "duration": 0.082235,
     "end_time": "2021-07-25T14:46:46.140270",
     "exception": false,
     "start_time": "2021-07-25T14:46:46.058035",
     "status": "completed"
    },
    "tags": []
   },
   "source": [
    "> TFIDF"
   ]
  },
  {
   "cell_type": "code",
   "execution_count": 26,
   "id": "bf670913",
   "metadata": {
    "execution": {
     "iopub.execute_input": "2021-07-25T14:46:46.309960Z",
     "iopub.status.busy": "2021-07-25T14:46:46.309283Z",
     "iopub.status.idle": "2021-07-25T14:46:46.385296Z",
     "shell.execute_reply": "2021-07-25T14:46:46.384779Z",
     "shell.execute_reply.started": "2021-07-25T08:51:02.92165Z"
    },
    "papermill": {
     "duration": 0.16303,
     "end_time": "2021-07-25T14:46:46.385469",
     "exception": false,
     "start_time": "2021-07-25T14:46:46.222439",
     "status": "completed"
    },
    "tags": []
   },
   "outputs": [
    {
     "name": "stdout",
     "output_type": "stream",
     "text": [
      "Naive baysian Tfidf accuracy 90.74810263823636 %\n"
     ]
    }
   ],
   "source": [
    "mnb = MultinomialNB()\n",
    "\n",
    "mnb.fit(tfidTrainFeatures,train_labels)\n",
    "\n",
    "pred = mnb.predict(tfidTestFeatures)\n",
    "\n",
    "score4 = mnb.score(tfidTestFeatures, test_labels)\n",
    "print(\"Naive baysian Tfidf accuracy\",score4*100,'%')"
   ]
  },
  {
   "cell_type": "code",
   "execution_count": 27,
   "id": "1a995577",
   "metadata": {
    "execution": {
     "iopub.execute_input": "2021-07-25T14:46:46.556730Z",
     "iopub.status.busy": "2021-07-25T14:46:46.555666Z",
     "iopub.status.idle": "2021-07-25T14:46:46.823516Z",
     "shell.execute_reply": "2021-07-25T14:46:46.822850Z",
     "shell.execute_reply.started": "2021-07-25T08:51:05.784286Z"
    },
    "papermill": {
     "duration": 0.354618,
     "end_time": "2021-07-25T14:46:46.823658",
     "exception": false,
     "start_time": "2021-07-25T14:46:46.469040",
     "status": "completed"
    },
    "tags": []
   },
   "outputs": [
    {
     "data": {
      "text/plain": [
       "<sklearn.metrics._plot.confusion_matrix.ConfusionMatrixDisplay at 0x7f6a1ee01290>"
      ]
     },
     "execution_count": 27,
     "metadata": {},
     "output_type": "execute_result"
    },
    {
     "data": {
      "image/png": "[encoded data removed]",
      "text/plain": [
       "<Figure size 432x288 with 2 Axes>"
      ]
     },
     "metadata": {
      "needs_background": "light"
     },
     "output_type": "display_data"
    }
   ],
   "source": [
    "metrics.plot_confusion_matrix(mnb ,tfidTestFeatures , test_labels)"
   ]
  },
  {
   "cell_type": "markdown",
   "id": "189fab00",
   "metadata": {
    "papermill": {
     "duration": 0.083043,
     "end_time": "2021-07-25T14:46:46.990546",
     "exception": false,
     "start_time": "2021-07-25T14:46:46.907503",
     "status": "completed"
    },
    "tags": []
   },
   "source": [
    "# Error Analysis: NB Classifier"
   ]
  },
  {
   "cell_type": "code",
   "execution_count": 28,
   "id": "ab852296",
   "metadata": {
    "execution": {
     "iopub.execute_input": "2021-07-25T14:46:47.223567Z",
     "iopub.status.busy": "2021-07-25T14:46:47.222878Z",
     "iopub.status.idle": "2021-07-25T14:46:47.226542Z",
     "shell.execute_reply": "2021-07-25T14:46:47.225956Z",
     "shell.execute_reply.started": "2021-07-25T06:35:21.900385Z"
    },
    "papermill": {
     "duration": 0.090925,
     "end_time": "2021-07-25T14:46:47.226683",
     "exception": false,
     "start_time": "2021-07-25T14:46:47.135758",
     "status": "completed"
    },
    "tags": []
   },
   "outputs": [],
   "source": [
    "# print(list(pred))\n",
    "# print(test_labels)"
   ]
  },
  {
   "cell_type": "code",
   "execution_count": 29,
   "id": "ff455675",
   "metadata": {
    "execution": {
     "iopub.execute_input": "2021-07-25T14:46:47.427771Z",
     "iopub.status.busy": "2021-07-25T14:46:47.418205Z",
     "iopub.status.idle": "2021-07-25T14:46:47.492369Z",
     "shell.execute_reply": "2021-07-25T14:46:47.489763Z",
     "shell.execute_reply.started": "2021-07-25T06:30:46.680127Z"
    },
    "papermill": {
     "duration": 0.180603,
     "end_time": "2021-07-25T14:46:47.492609",
     "exception": false,
     "start_time": "2021-07-25T14:46:47.312006",
     "status": "completed"
    },
    "tags": []
   },
   "outputs": [
    {
     "data": {
      "application/vnd.jupyter.widget-view+json": {
       "model_id": "0179f27681c4498494e91c32c86d567d",
       "version_major": 2,
       "version_minor": 0
      },
      "text/plain": [
       "HBox(children=(Output(), Output()))"
      ]
     },
     "metadata": {},
     "output_type": "display_data"
    }
   ],
   "source": [
    "\n",
    "tokens = dataset['tokenized'][36359]\n",
    "bigrams = nltk.collocations.BigramAssocMeasures()\n",
    "trigrams = nltk.collocations.TrigramAssocMeasures()\n",
    "bigramFinder = nltk.collocations.BigramCollocationFinder.from_words(tokens)\n",
    "trigramFinder = nltk.collocations.TrigramCollocationFinder.from_words(tokens)\n",
    "bigramPMITable = pd.DataFrame(list(bigramFinder.score_ngrams(bigrams.pmi)), columns=['bigram','PMI']).sort_values(by='PMI', ascending=False)\n",
    "trigramPMITable = pd.DataFrame(list(trigramFinder.score_ngrams(trigrams.pmi)), columns=['trigram','PMI']).sort_values(by='PMI', ascending=False)\n",
    "\n",
    "# create output widgets\n",
    "widget1 = widgets.Output()\n",
    "widget2 = widgets.Output()\n",
    "\n",
    "# render in output widgets\n",
    "with widget1:\n",
    "    display.display(bigramPMITable)\n",
    "with widget2:\n",
    "    display.display(trigramPMITable)\n",
    "\n",
    "# create HBox\n",
    "hbox = widgets.HBox([widget1, widget2])\n",
    "\n",
    "# render hbox\n",
    "display.display(hbox)"
   ]
  },
  {
   "cell_type": "markdown",
   "id": "5fe4a43d",
   "metadata": {
    "papermill": {
     "duration": 0.084166,
     "end_time": "2021-07-25T14:46:47.671899",
     "exception": false,
     "start_time": "2021-07-25T14:46:47.587733",
     "status": "completed"
    },
    "tags": []
   },
   "source": [
    "# Random Forest Classifier"
   ]
  },
  {
   "cell_type": "markdown",
   "id": "925ca158",
   "metadata": {
    "papermill": {
     "duration": 0.084046,
     "end_time": "2021-07-25T14:46:47.839661",
     "exception": false,
     "start_time": "2021-07-25T14:46:47.755615",
     "status": "completed"
    },
    "tags": []
   },
   "source": [
    "> BOW"
   ]
  },
  {
   "cell_type": "code",
   "execution_count": 30,
   "id": "b589c6a4",
   "metadata": {
    "execution": {
     "iopub.execute_input": "2021-07-25T14:46:48.015475Z",
     "iopub.status.busy": "2021-07-25T14:46:48.014737Z",
     "iopub.status.idle": "2021-07-25T14:46:48.018380Z",
     "shell.execute_reply": "2021-07-25T14:46:48.017762Z",
     "shell.execute_reply.started": "2021-07-25T08:55:28.071159Z"
    },
    "papermill": {
     "duration": 0.093764,
     "end_time": "2021-07-25T14:46:48.018538",
     "exception": false,
     "start_time": "2021-07-25T14:46:47.924774",
     "status": "completed"
    },
    "tags": []
   },
   "outputs": [],
   "source": [
    "clf = RandomForestClassifier(n_estimators=20, n_jobs=1)"
   ]
  },
  {
   "cell_type": "code",
   "execution_count": 31,
   "id": "34d3b15e",
   "metadata": {
    "execution": {
     "iopub.execute_input": "2021-07-25T14:46:48.196091Z",
     "iopub.status.busy": "2021-07-25T14:46:48.194208Z",
     "iopub.status.idle": "2021-07-25T14:47:51.579758Z",
     "shell.execute_reply": "2021-07-25T14:47:51.580321Z",
     "shell.execute_reply.started": "2021-07-25T08:55:28.381777Z"
    },
    "papermill": {
     "duration": 63.477611,
     "end_time": "2021-07-25T14:47:51.580535",
     "exception": false,
     "start_time": "2021-07-25T14:46:48.102924",
     "status": "completed"
    },
    "tags": []
   },
   "outputs": [
    {
     "name": "stdout",
     "output_type": "stream",
     "text": [
      "Accuracy using Random Forest BoW: 89.10372244307915\n"
     ]
    }
   ],
   "source": [
    "clf.fit(bow_train_features,train_labels)\n",
    "pred = clf.predict(bow_test_features)\n",
    "score5 = accuracy_score(pred, test_labels)\n",
    "print(\"Accuracy using Random Forest BoW: {}\".format(accuracy_score(pred, test_labels)*100))"
   ]
  },
  {
   "cell_type": "code",
   "execution_count": 32,
   "id": "404e8c1d",
   "metadata": {
    "execution": {
     "iopub.execute_input": "2021-07-25T14:47:51.756769Z",
     "iopub.status.busy": "2021-07-25T14:47:51.756068Z",
     "iopub.status.idle": "2021-07-25T14:47:52.262690Z",
     "shell.execute_reply": "2021-07-25T14:47:52.263160Z",
     "shell.execute_reply.started": "2021-07-25T08:56:35.761255Z"
    },
    "papermill": {
     "duration": 0.59679,
     "end_time": "2021-07-25T14:47:52.263341",
     "exception": false,
     "start_time": "2021-07-25T14:47:51.666551",
     "status": "completed"
    },
    "tags": []
   },
   "outputs": [
    {
     "data": {
      "text/plain": [
       "<sklearn.metrics._plot.confusion_matrix.ConfusionMatrixDisplay at 0x7f69fd518f50>"
      ]
     },
     "execution_count": 32,
     "metadata": {},
     "output_type": "execute_result"
    },
    {
     "data": {
      "image/png": "[encoded data removed]",
      "text/plain": [
       "<Figure size 432x288 with 2 Axes>"
      ]
     },
     "metadata": {
      "needs_background": "light"
     },
     "output_type": "display_data"
    }
   ],
   "source": [
    "metrics.plot_confusion_matrix(clf ,bow_test_features , test_labels)"
   ]
  },
  {
   "cell_type": "markdown",
   "id": "42e513c2",
   "metadata": {
    "papermill": {
     "duration": 0.087334,
     "end_time": "2021-07-25T14:47:52.439143",
     "exception": false,
     "start_time": "2021-07-25T14:47:52.351809",
     "status": "completed"
    },
    "tags": []
   },
   "source": [
    "> TFIDF"
   ]
  },
  {
   "cell_type": "code",
   "execution_count": 33,
   "id": "fd4ecad3",
   "metadata": {
    "execution": {
     "iopub.execute_input": "2021-07-25T14:47:52.617308Z",
     "iopub.status.busy": "2021-07-25T14:47:52.616668Z",
     "iopub.status.idle": "2021-07-25T14:48:47.910457Z",
     "shell.execute_reply": "2021-07-25T14:48:47.910984Z",
     "shell.execute_reply.started": "2021-07-25T08:56:36.301665Z"
    },
    "papermill": {
     "duration": 55.384083,
     "end_time": "2021-07-25T14:48:47.911167",
     "exception": false,
     "start_time": "2021-07-25T14:47:52.527084",
     "status": "completed"
    },
    "tags": []
   },
   "outputs": [
    {
     "name": "stdout",
     "output_type": "stream",
     "text": [
      "Accuracy using Random Forest Tfidf: 88.97723165883629\n"
     ]
    }
   ],
   "source": [
    "clf = RandomForestClassifier(n_estimators=20, n_jobs=1)\n",
    "clf.fit(tfidTrainFeatures,train_labels )\n",
    "\n",
    "pred = clf.predict(tfidTestFeatures)\n",
    "score6 = accuracy_score(pred, test_labels)\n",
    "print(\"Accuracy using Random Forest Tfidf: {}\".format(accuracy_score(pred, test_labels)*100))"
   ]
  },
  {
   "cell_type": "code",
   "execution_count": 34,
   "id": "2335fa2a",
   "metadata": {
    "execution": {
     "iopub.execute_input": "2021-07-25T14:48:48.088757Z",
     "iopub.status.busy": "2021-07-25T14:48:48.088081Z",
     "iopub.status.idle": "2021-07-25T14:48:48.966342Z",
     "shell.execute_reply": "2021-07-25T14:48:48.965707Z",
     "shell.execute_reply.started": "2021-07-25T08:57:33.429798Z"
    },
    "papermill": {
     "duration": 0.968012,
     "end_time": "2021-07-25T14:48:48.966506",
     "exception": false,
     "start_time": "2021-07-25T14:48:47.998494",
     "status": "completed"
    },
    "tags": []
   },
   "outputs": [
    {
     "data": {
      "text/plain": [
       "<sklearn.metrics._plot.confusion_matrix.ConfusionMatrixDisplay at 0x7f6a1d8749d0>"
      ]
     },
     "execution_count": 34,
     "metadata": {},
     "output_type": "execute_result"
    },
    {
     "data": {
      "image/png": "[encoded data removed]",
      "text/plain": [
       "<Figure size 432x288 with 2 Axes>"
      ]
     },
     "metadata": {
      "needs_background": "light"
     },
     "output_type": "display_data"
    }
   ],
   "source": [
    "metrics.plot_confusion_matrix(clf ,tfidTestFeatures , test_labels)"
   ]
  },
  {
   "cell_type": "markdown",
   "id": "8acc0c34",
   "metadata": {
    "papermill": {
     "duration": 0.08825,
     "end_time": "2021-07-25T14:48:49.142820",
     "exception": false,
     "start_time": "2021-07-25T14:48:49.054570",
     "status": "completed"
    },
    "tags": []
   },
   "source": [
    "# Clustering"
   ]
  },
  {
   "cell_type": "markdown",
   "id": "48eb4079",
   "metadata": {
    "papermill": {
     "duration": 0.087103,
     "end_time": "2021-07-25T14:48:49.317394",
     "exception": false,
     "start_time": "2021-07-25T14:48:49.230291",
     "status": "completed"
    },
    "tags": []
   },
   "source": [
    "> Reassigning labels"
   ]
  },
  {
   "cell_type": "code",
   "execution_count": 35,
   "id": "4ad2c6d2",
   "metadata": {
    "execution": {
     "iopub.execute_input": "2021-07-25T14:48:49.501187Z",
     "iopub.status.busy": "2021-07-25T14:48:49.500331Z",
     "iopub.status.idle": "2021-07-25T14:48:49.502869Z",
     "shell.execute_reply": "2021-07-25T14:48:49.503310Z",
     "shell.execute_reply.started": "2021-07-25T09:08:03.975595Z"
    },
    "papermill": {
     "duration": 0.098296,
     "end_time": "2021-07-25T14:48:49.503513",
     "exception": false,
     "start_time": "2021-07-25T14:48:49.405217",
     "status": "completed"
    },
    "tags": []
   },
   "outputs": [],
   "source": [
    "# https://docs.neurodata.io/notebooks/pedigo/graspologic/clustering/2020/10/12/remapping-labels.html\n",
    "from sklearn.metrics import confusion_matrix\n",
    "from scipy.optimize import linear_sum_assignment\n",
    "def remap_labels(y_true, y_pred, return_map=False):\n",
    "    \"\"\"\n",
    "    Remaps a categorical labeling (such as one predicted by a clustering algorithm) to\n",
    "    match the labels used by another similar labeling.\n",
    "\n",
    "    Parameters\n",
    "    ----------\n",
    "    y_true : array-like of shape (n_samples,)\n",
    "        Ground truth labels, or, labels to map to.\n",
    "    y_pred : array-like of shape (n_samples,)\n",
    "        Labels to remap to match the categorical labeling of `y_true`.\n",
    "\n",
    "    Returns\n",
    "    -------\n",
    "    remapped_y_pred : np.ndarray of shape (n_samples,)\n",
    "        Same categorical labeling as that of `y_pred`, but with the category labels\n",
    "        permuted to best match those of `y_true`.\n",
    "    label_map : dict\n",
    "        Mapping from the original labels of `y_pred` to the new labels which best\n",
    "        resemble those of `y_true`.\n",
    "\n",
    "    Examples\n",
    "    --------\n",
    "    >>> y_true = np.array([0,0,1,1,2,2])\n",
    "    >>> y_pred = np.array([2,2,1,1,0,0])\n",
    "    >>> remap_labels(y_true, y_pred)\n",
    "    array([0, 0, 1, 1, 2, 2])\n",
    "\n",
    "    \"\"\"\n",
    "    confusion_mat = confusion_matrix(y_true, y_pred)\n",
    "    row_inds, col_inds = linear_sum_assignment(confusion_mat, maximize=True)\n",
    "    label_map = dict(zip(col_inds, row_inds))\n",
    "    remapped_y_pred = np.vectorize(label_map.get)(y_pred)\n",
    "    if return_map:\n",
    "        return remapped_y_pred, label_map\n",
    "    else:\n",
    "        return remapped_y_pred"
   ]
  },
  {
   "cell_type": "markdown",
   "id": "4711c723",
   "metadata": {
    "papermill": {
     "duration": 0.086791,
     "end_time": "2021-07-25T14:48:49.678454",
     "exception": false,
     "start_time": "2021-07-25T14:48:49.591663",
     "status": "completed"
    },
    "tags": []
   },
   "source": [
    "> BOW"
   ]
  },
  {
   "cell_type": "code",
   "execution_count": 36,
   "id": "ccc51f13",
   "metadata": {
    "execution": {
     "iopub.execute_input": "2021-07-25T14:48:49.859448Z",
     "iopub.status.busy": "2021-07-25T14:48:49.858646Z",
     "iopub.status.idle": "2021-07-25T14:50:22.659058Z",
     "shell.execute_reply": "2021-07-25T14:50:22.659582Z",
     "shell.execute_reply.started": "2021-07-25T09:08:04.595904Z"
    },
    "papermill": {
     "duration": 92.894205,
     "end_time": "2021-07-25T14:50:22.659763",
     "exception": false,
     "start_time": "2021-07-25T14:48:49.765558",
     "status": "completed"
    },
    "tags": []
   },
   "outputs": [
    {
     "name": "stdout",
     "output_type": "stream",
     "text": [
      "Cohen kappa of BOW clustering before remaping labels 0.03501655037942142\n",
      "silhoutte score of BOW clustering =  0.0914915950769373\n",
      "Cohen kappa of BOW clustering after remaping labels 0.07519409872347749\n",
      "Accuracy of clustering labels: 31.293807845718934%\n"
     ]
    }
   ],
   "source": [
    "from sklearn.cluster import KMeans\n",
    "kms = KMeans(n_clusters=4, init='k-means++', max_iter=300,n_init = 1,random_state=42,verbose=0)\n",
    "kms.fit(bow_train_features)\n",
    "print('Cohen kappa of BOW clustering before remaping labels',metrics.cohen_kappa_score(train_labels, kms.labels_))\n",
    "print('silhoutte score of BOW clustering = ',metrics.silhouette_score(bow_train_features, kms.labels_))\n",
    "relabels = remap_labels(train_labels , kms.labels_)\n",
    "print('Cohen kappa of BOW clustering after remaping labels',metrics.cohen_kappa_score(train_labels, relabels))\n",
    "score7 = accuracy_score(relabels, train_labels)\n",
    "print(f'Accuracy of clustering labels: {score7*100}%')"
   ]
  },
  {
   "cell_type": "markdown",
   "id": "acf85c4e",
   "metadata": {
    "papermill": {
     "duration": 0.087592,
     "end_time": "2021-07-25T14:50:22.835549",
     "exception": false,
     "start_time": "2021-07-25T14:50:22.747957",
     "status": "completed"
    },
    "tags": []
   },
   "source": [
    "> TFIDF"
   ]
  },
  {
   "cell_type": "code",
   "execution_count": 37,
   "id": "f35aff86",
   "metadata": {
    "execution": {
     "iopub.execute_input": "2021-07-25T14:50:23.022452Z",
     "iopub.status.busy": "2021-07-25T14:50:23.020777Z",
     "iopub.status.idle": "2021-07-25T14:52:01.608050Z",
     "shell.execute_reply": "2021-07-25T14:52:01.608585Z",
     "shell.execute_reply.started": "2021-07-25T09:09:39.571598Z"
    },
    "papermill": {
     "duration": 98.6852,
     "end_time": "2021-07-25T14:52:01.608772",
     "exception": false,
     "start_time": "2021-07-25T14:50:22.923572",
     "status": "completed"
    },
    "tags": []
   },
   "outputs": [
    {
     "name": "stdout",
     "output_type": "stream",
     "text": [
      "Cohen kappa of TFIDF clustering before remaping labels -0.0666374888308836\n",
      "silhoutte score of TFIDF clustering =  0.009422738349267334\n",
      "Cohen kappa of TFIDF clustering after remaping labels 0.3927563231804636\n",
      "Accuracy of clustering labels: 55.11753088332107%\n"
     ]
    }
   ],
   "source": [
    "kms = KMeans(n_clusters=4, init='k-means++', max_iter=300,n_init = 1,random_state=42,verbose=0)\n",
    "kms.fit(tfidTrainFeatures)\n",
    "print('Cohen kappa of TFIDF clustering before remaping labels',metrics.cohen_kappa_score(train_labels, kms.labels_))\n",
    "print('silhoutte score of TFIDF clustering = ',metrics.silhouette_score(tfidTrainFeatures, kms.labels_))\n",
    "relabels = remap_labels(train_labels , kms.labels_)\n",
    "print('Cohen kappa of TFIDF clustering after remaping labels',metrics.cohen_kappa_score(train_labels, relabels))\n",
    "score8 = accuracy_score(relabels, train_labels)\n",
    "print(f'Accuracy of clustering labels: {score8*100}%')"
   ]
  },
  {
   "cell_type": "markdown",
   "id": "c09a06a3",
   "metadata": {
    "papermill": {
     "duration": 0.088213,
     "end_time": "2021-07-25T14:52:01.785796",
     "exception": false,
     "start_time": "2021-07-25T14:52:01.697583",
     "status": "completed"
    },
    "tags": []
   },
   "source": [
    "# Performance Visualizations"
   ]
  },
  {
   "cell_type": "code",
   "execution_count": 38,
   "id": "8ae61788",
   "metadata": {
    "execution": {
     "iopub.execute_input": "2021-07-25T14:52:01.967928Z",
     "iopub.status.busy": "2021-07-25T14:52:01.967220Z",
     "iopub.status.idle": "2021-07-25T14:52:01.971615Z",
     "shell.execute_reply": "2021-07-25T14:52:01.972168Z",
     "shell.execute_reply.started": "2021-07-25T09:11:47.567885Z"
    },
    "papermill": {
     "duration": 0.097632,
     "end_time": "2021-07-25T14:52:01.972339",
     "exception": false,
     "start_time": "2021-07-25T14:52:01.874707",
     "status": "completed"
    },
    "tags": []
   },
   "outputs": [],
   "source": [
    "accuracy_list = [score1 , score2, score3, score4, score5, score6, score7, score8]\n",
    "accuracy_labels= ['BOW_LR', 'TFIDF_LR', 'BOW_NB', 'TFIDF_NB', 'BOW_RF', 'TFIDF_RF', 'BOW_KMANS', 'TFIDF_KMEANS']"
   ]
  },
  {
   "cell_type": "code",
   "execution_count": 39,
   "id": "d400e4d9",
   "metadata": {
    "execution": {
     "iopub.execute_input": "2021-07-25T14:52:02.155208Z",
     "iopub.status.busy": "2021-07-25T14:52:02.154611Z",
     "iopub.status.idle": "2021-07-25T14:52:02.169581Z",
     "shell.execute_reply": "2021-07-25T14:52:02.170112Z",
     "shell.execute_reply.started": "2021-07-25T09:16:40.063683Z"
    },
    "papermill": {
     "duration": 0.107791,
     "end_time": "2021-07-25T14:52:02.170291",
     "exception": false,
     "start_time": "2021-07-25T14:52:02.062500",
     "status": "completed"
    },
    "tags": []
   },
   "outputs": [
    {
     "data": {
      "text/html": [
       "<div>\n",
       "<style scoped>\n",
       "    .dataframe tbody tr th:only-of-type {\n",
       "        vertical-align: middle;\n",
       "    }\n",
       "\n",
       "    .dataframe tbody tr th {\n",
       "        vertical-align: top;\n",
       "    }\n",
       "\n",
       "    .dataframe thead th {\n",
       "        text-align: right;\n",
       "    }\n",
       "</style>\n",
       "<table border=\"1\" class=\"dataframe\">\n",
       "  <thead>\n",
       "    <tr style=\"text-align: right;\">\n",
       "      <th></th>\n",
       "      <th>0</th>\n",
       "      <th>1</th>\n",
       "      <th>2</th>\n",
       "      <th>3</th>\n",
       "      <th>4</th>\n",
       "      <th>5</th>\n",
       "      <th>6</th>\n",
       "      <th>7</th>\n",
       "    </tr>\n",
       "  </thead>\n",
       "  <tbody>\n",
       "    <tr>\n",
       "      <th>0</th>\n",
       "      <td>BOW_LR</td>\n",
       "      <td>TFIDF_LR</td>\n",
       "      <td>BOW_NB</td>\n",
       "      <td>TFIDF_NB</td>\n",
       "      <td>BOW_RF</td>\n",
       "      <td>TFIDF_RF</td>\n",
       "      <td>BOW_KMANS</td>\n",
       "      <td>TFIDF_KMEANS</td>\n",
       "    </tr>\n",
       "    <tr>\n",
       "      <th>1</th>\n",
       "      <td>0.93305</td>\n",
       "      <td>0.930791</td>\n",
       "      <td>0.900885</td>\n",
       "      <td>0.907481</td>\n",
       "      <td>0.891037</td>\n",
       "      <td>0.889772</td>\n",
       "      <td>0.312938</td>\n",
       "      <td>0.551175</td>\n",
       "    </tr>\n",
       "  </tbody>\n",
       "</table>\n",
       "</div>"
      ],
      "text/plain": [
       "         0         1         2         3         4         5          6  \\\n",
       "0   BOW_LR  TFIDF_LR    BOW_NB  TFIDF_NB    BOW_RF  TFIDF_RF  BOW_KMANS   \n",
       "1  0.93305  0.930791  0.900885  0.907481  0.891037  0.889772   0.312938   \n",
       "\n",
       "              7  \n",
       "0  TFIDF_KMEANS  \n",
       "1      0.551175  "
      ]
     },
     "execution_count": 39,
     "metadata": {},
     "output_type": "execute_result"
    }
   ],
   "source": [
    "results = pd.DataFrame([accuracy_labels ,accuracy_list ])\n",
    "results"
   ]
  },
  {
   "cell_type": "code",
   "execution_count": 40,
   "id": "1ef85cd9",
   "metadata": {
    "execution": {
     "iopub.execute_input": "2021-07-25T14:52:02.352606Z",
     "iopub.status.busy": "2021-07-25T14:52:02.351899Z",
     "iopub.status.idle": "2021-07-25T14:52:02.525189Z",
     "shell.execute_reply": "2021-07-25T14:52:02.525876Z",
     "shell.execute_reply.started": "2021-07-25T09:27:32.004111Z"
    },
    "papermill": {
     "duration": 0.266234,
     "end_time": "2021-07-25T14:52:02.526059",
     "exception": false,
     "start_time": "2021-07-25T14:52:02.259825",
     "status": "completed"
    },
    "tags": []
   },
   "outputs": [
    {
     "data": {
      "image/png": "[encoded data removed]",
      "text/plain": [
       "<Figure size 1080x576 with 1 Axes>"
      ]
     },
     "metadata": {
      "needs_background": "light"
     },
     "output_type": "display_data"
    }
   ],
   "source": [
    "# algorithm comparison\n",
    "fig = plt.figure(figsize=(15, 8))\n",
    "ax = fig.add_subplot(111)\n",
    "for i in range(len(accuracy_list)):\n",
    "    plt.bar(accuracy_labels[i] ,accuracy_list[i]*100)\n",
    "# plt.legend()\n",
    "plt.xlabel('Method')\n",
    "plt.ylabel('Accuracy')\n",
    "plt.title('Performance Evaluation')\n",
    "plt.show()"
   ]
  },
  {
   "cell_type": "markdown",
   "id": "384e5f0a",
   "metadata": {
    "papermill": {
     "duration": 0.090805,
     "end_time": "2021-07-25T14:52:02.707219",
     "exception": false,
     "start_time": "2021-07-25T14:52:02.616414",
     "status": "completed"
    },
    "tags": []
   },
   "source": [
    "# Error Analysis"
   ]
  },
  {
   "cell_type": "code",
   "execution_count": 41,
   "id": "f9127007",
   "metadata": {
    "execution": {
     "iopub.execute_input": "2021-07-25T14:52:02.891491Z",
     "iopub.status.busy": "2021-07-25T14:52:02.890864Z",
     "iopub.status.idle": "2021-07-25T14:52:02.896684Z",
     "shell.execute_reply": "2021-07-25T14:52:02.897243Z"
    },
    "papermill": {
     "duration": 0.099459,
     "end_time": "2021-07-25T14:52:02.897437",
     "exception": false,
     "start_time": "2021-07-25T14:52:02.797978",
     "status": "completed"
    },
    "tags": []
   },
   "outputs": [
    {
     "name": "stdout",
     "output_type": "stream",
     "text": [
      "[1 3 3 ... 3 2 1]\n",
      "9030     1\n",
      "35793    3\n",
      "27173    3\n",
      "14662    1\n",
      "36481    3\n",
      "        ..\n",
      "20757    2\n",
      "32103    3\n",
      "30403    3\n",
      "21243    2\n",
      "2732     0\n",
      "Name: category_id, Length: 25823, dtype: int64\n"
     ]
    }
   ],
   "source": [
    "print(relabels)\n",
    "print(train_labels)"
   ]
  },
  {
   "cell_type": "code",
   "execution_count": 42,
   "id": "d083bdf4",
   "metadata": {
    "execution": {
     "iopub.execute_input": "2021-07-25T14:52:03.085058Z",
     "iopub.status.busy": "2021-07-25T14:52:03.084406Z",
     "iopub.status.idle": "2021-07-25T14:52:03.144191Z",
     "shell.execute_reply": "2021-07-25T14:52:03.144803Z"
    },
    "papermill": {
     "duration": 0.155773,
     "end_time": "2021-07-25T14:52:03.144996",
     "exception": false,
     "start_time": "2021-07-25T14:52:02.989223",
     "status": "completed"
    },
    "tags": []
   },
   "outputs": [
    {
     "data": {
      "application/vnd.jupyter.widget-view+json": {
       "model_id": "1753488579724b9a9078c3721626c944",
       "version_major": 2,
       "version_minor": 0
      },
      "text/plain": [
       "HBox(children=(Output(), Output()))"
      ]
     },
     "metadata": {},
     "output_type": "display_data"
    }
   ],
   "source": [
    "\n",
    "tokens = dataset['tokenized'][9030]\n",
    "bigrams = nltk.collocations.BigramAssocMeasures()\n",
    "trigrams = nltk.collocations.TrigramAssocMeasures()\n",
    "bigramFinder = nltk.collocations.BigramCollocationFinder.from_words(tokens)\n",
    "trigramFinder = nltk.collocations.TrigramCollocationFinder.from_words(tokens)\n",
    "bigramPMITable = pd.DataFrame(list(bigramFinder.score_ngrams(bigrams.pmi)), columns=['bigram','PMI']).sort_values(by='PMI', ascending=False)\n",
    "trigramPMITable = pd.DataFrame(list(trigramFinder.score_ngrams(trigrams.pmi)), columns=['trigram','PMI']).sort_values(by='PMI', ascending=False)\n",
    "\n",
    "# create output widgets\n",
    "widget1 = widgets.Output()\n",
    "widget2 = widgets.Output()\n",
    "\n",
    "# render in output widgets\n",
    "with widget1:\n",
    "    display.display(bigramPMITable)\n",
    "with widget2:\n",
    "    display.display(trigramPMITable)\n",
    "\n",
    "# create HBox\n",
    "hbox = widgets.HBox([widget1, widget2])\n",
    "\n",
    "# render hbox\n",
    "display.display(hbox)"
   ]
  },
  {
   "cell_type": "markdown",
   "id": "2c6e2798",
   "metadata": {
    "papermill": {
     "duration": 0.091303,
     "end_time": "2021-07-25T14:52:03.329103",
     "exception": false,
     "start_time": "2021-07-25T14:52:03.237800",
     "status": "completed"
    },
    "tags": []
   },
   "source": [
    "# Summarization"
   ]
  },
  {
   "cell_type": "markdown",
   "id": "0e081b38",
   "metadata": {
    "papermill": {
     "duration": 0.090348,
     "end_time": "2021-07-25T14:52:03.510190",
     "exception": false,
     "start_time": "2021-07-25T14:52:03.419842",
     "status": "completed"
    },
    "tags": []
   },
   "source": [
    "# Estractive Summarization: LSA"
   ]
  },
  {
   "cell_type": "code",
   "execution_count": 43,
   "id": "8fc7b357",
   "metadata": {
    "execution": {
     "iopub.execute_input": "2021-07-25T14:52:03.694987Z",
     "iopub.status.busy": "2021-07-25T14:52:03.694377Z",
     "iopub.status.idle": "2021-07-25T14:52:16.626459Z",
     "shell.execute_reply": "2021-07-25T14:52:16.625701Z",
     "shell.execute_reply.started": "2021-07-25T11:49:58.324509Z"
    },
    "papermill": {
     "duration": 13.025875,
     "end_time": "2021-07-25T14:52:16.626621",
     "exception": false,
     "start_time": "2021-07-25T14:52:03.600746",
     "status": "completed"
    },
    "tags": []
   },
   "outputs": [
    {
     "name": "stdout",
     "output_type": "stream",
     "text": [
      "Collecting sumy\r\n",
      "  Downloading sumy-0.8.1-py2.py3-none-any.whl (83 kB)\r\n",
      "\u001b[K     |████████████████████████████████| 83 kB 1.2 MB/s \r\n",
      "\u001b[?25hCollecting breadability>=0.1.20\r\n",
      "  Downloading breadability-0.1.20.tar.gz (32 kB)\r\n",
      "Requirement already satisfied: pycountry>=18.2.23 in /opt/conda/lib/python3.7/site-packages (from sumy) (20.7.3)\r\n",
      "Requirement already satisfied: requests>=2.7.0 in /opt/conda/lib/python3.7/site-packages (from sumy) (2.25.1)\r\n",
      "Requirement already satisfied: nltk>=3.0.2 in /opt/conda/lib/python3.7/site-packages (from sumy) (3.2.4)\r\n",
      "Collecting docopt<0.7,>=0.6.1\r\n",
      "  Downloading docopt-0.6.2.tar.gz (25 kB)\r\n",
      "Requirement already satisfied: chardet in /opt/conda/lib/python3.7/site-packages (from breadability>=0.1.20->sumy) (4.0.0)\r\n",
      "Requirement already satisfied: lxml>=2.0 in /opt/conda/lib/python3.7/site-packages (from breadability>=0.1.20->sumy) (4.6.3)\r\n",
      "Requirement already satisfied: six in /opt/conda/lib/python3.7/site-packages (from nltk>=3.0.2->sumy) (1.15.0)\r\n",
      "Requirement already satisfied: idna<3,>=2.5 in /opt/conda/lib/python3.7/site-packages (from requests>=2.7.0->sumy) (2.10)\r\n",
      "Requirement already satisfied: certifi>=2017.4.17 in /opt/conda/lib/python3.7/site-packages (from requests>=2.7.0->sumy) (2021.5.30)\r\n",
      "Requirement already satisfied: urllib3<1.27,>=1.21.1 in /opt/conda/lib/python3.7/site-packages (from requests>=2.7.0->sumy) (1.26.5)\r\n",
      "Building wheels for collected packages: breadability, docopt\r\n",
      "  Building wheel for breadability (setup.py) ... \u001b[?25l-\b \b\\\b \bdone\r\n",
      "\u001b[?25h  Created wheel for breadability: filename=breadability-0.1.20-py2.py3-none-any.whl size=21680 sha256=f4a8ef19baea61a427b6ea2213ee509d78d69460e15f554afa3e0af89c5b8f3b\r\n",
      "  Stored in directory: /root/.cache/pip/wheels/d4/bf/51/81d27ad638e1a6dca4f362ecc33d1e2c764b8ea7ec751b8fc1\r\n",
      "  Building wheel for docopt (setup.py) ... \u001b[?25l-\b \b\\\b \bdone\r\n",
      "\u001b[?25h  Created wheel for docopt: filename=docopt-0.6.2-py2.py3-none-any.whl size=13705 sha256=1ac1d50d7c1764b747546bb4b9ca6c0c0379c61928684f5eb183ced58d0735a0\r\n",
      "  Stored in directory: /root/.cache/pip/wheels/72/b0/3f/1d95f96ff986c7dfffe46ce2be4062f38ebd04b506c77c81b9\r\n",
      "Successfully built breadability docopt\r\n",
      "Installing collected packages: docopt, breadability, sumy\r\n",
      "Successfully installed breadability-0.1.20 docopt-0.6.2 sumy-0.8.1\r\n",
      "\u001b[33mWARNING: Running pip as root will break packages and permissions. You should install packages reliably by using venv: https://pip.pypa.io/warnings/venv\u001b[0m\r\n"
     ]
    }
   ],
   "source": [
    "!pip install sumy\n",
    "# Installing sumy library for implementing the LSA model.\n",
    "from sumy.parsers.plaintext import PlaintextParser\n",
    "from sumy.nlp.tokenizers import Tokenizer\n",
    "from sumy.summarizers.lsa import LsaSummarizer"
   ]
  },
  {
   "cell_type": "code",
   "execution_count": 44,
   "id": "6f35f272",
   "metadata": {
    "execution": {
     "iopub.execute_input": "2021-07-25T14:52:16.829202Z",
     "iopub.status.busy": "2021-07-25T14:52:16.828161Z",
     "iopub.status.idle": "2021-07-25T15:10:43.901146Z",
     "shell.execute_reply": "2021-07-25T15:10:43.901681Z",
     "shell.execute_reply.started": "2021-07-25T11:50:12.47849Z"
    },
    "papermill": {
     "duration": 1107.178784,
     "end_time": "2021-07-25T15:10:43.901873",
     "exception": false,
     "start_time": "2021-07-25T14:52:16.723089",
     "status": "completed"
    },
    "tags": []
   },
   "outputs": [
    {
     "name": "stderr",
     "output_type": "stream",
     "text": [
      "/opt/conda/lib/python3.7/site-packages/sumy/summarizers/lsa.py:76: UserWarning: Number of words (116) is lower than number of sentences (134). LSA algorithm may not work properly.\n",
      "  warn(message % (words_count, sentences_count))\n"
     ]
    },
    {
     "data": {
      "text/html": [
       "<div>\n",
       "<style scoped>\n",
       "    .dataframe tbody tr th:only-of-type {\n",
       "        vertical-align: middle;\n",
       "    }\n",
       "\n",
       "    .dataframe tbody tr th {\n",
       "        vertical-align: top;\n",
       "    }\n",
       "\n",
       "    .dataframe thead th {\n",
       "        text-align: right;\n",
       "    }\n",
       "</style>\n",
       "<table border=\"1\" class=\"dataframe\">\n",
       "  <thead>\n",
       "    <tr style=\"text-align: right;\">\n",
       "      <th></th>\n",
       "      <th>CATEGORY</th>\n",
       "      <th>CONTENT</th>\n",
       "      <th>SUMMARY</th>\n",
       "      <th>category_id</th>\n",
       "      <th>clean_text</th>\n",
       "      <th>tokenized</th>\n",
       "      <th>LSA_Summary</th>\n",
       "    </tr>\n",
       "  </thead>\n",
       "  <tbody>\n",
       "    <tr>\n",
       "      <th>0</th>\n",
       "      <td>business</td>\n",
       "      <td>The Federal Reserve approved Ally Financial In...</td>\n",
       "      <td>The Federal Reserve approved Ally Financial In...</td>\n",
       "      <td>0</td>\n",
       "      <td>federal reserve approved ally financial inc ca...</td>\n",
       "      <td>[federal, reserve, approved, ally, financial, ...</td>\n",
       "      <td>Ally’s plan was approved after the Federal Res...</td>\n",
       "    </tr>\n",
       "    <tr>\n",
       "      <th>1</th>\n",
       "      <td>business</td>\n",
       "      <td>— Major shareholders of Duke Energy Corp. have...</td>\n",
       "      <td>— Major shareholders of Duke Energy Corp. have...</td>\n",
       "      <td>0</td>\n",
       "      <td>major shareholder duke energy corp called comp...</td>\n",
       "      <td>[major, shareholder, duke, energy, corp, calle...</td>\n",
       "      <td>A federal grand jury also is investigating any...</td>\n",
       "    </tr>\n",
       "    <tr>\n",
       "      <th>2</th>\n",
       "      <td>business</td>\n",
       "      <td>Photos taken earlier this month show that Nort...</td>\n",
       "      <td>Photos taken earlier this month show that Nort...</td>\n",
       "      <td>0</td>\n",
       "      <td>photo taken earlier month show north carolina ...</td>\n",
       "      <td>[photo, taken, earlier, month, show, north, ca...</td>\n",
       "      <td>Once again Duke failed to notify the agency of...</td>\n",
       "    </tr>\n",
       "    <tr>\n",
       "      <th>3</th>\n",
       "      <td>business</td>\n",
       "      <td>Thanks to dogged reporting by the Associated P...</td>\n",
       "      <td>Thanks to dogged reporting by the Associated P...</td>\n",
       "      <td>0</td>\n",
       "      <td>thanks dogged reporting associated press know ...</td>\n",
       "      <td>[thanks, dogged, reporting, associated, press,...</td>\n",
       "      <td>A federal investigation is underway regarding ...</td>\n",
       "    </tr>\n",
       "    <tr>\n",
       "      <th>4</th>\n",
       "      <td>business</td>\n",
       "      <td>The energy giant says it is committed to clean...</td>\n",
       "      <td>The energy giant says it is committed to clean...</td>\n",
       "      <td>0</td>\n",
       "      <td>energy giant say committed cleaning dan river ...</td>\n",
       "      <td>[energy, giant, say, committed, cleaning, dan,...</td>\n",
       "      <td>Scanzoni says it will be several years before ...</td>\n",
       "    </tr>\n",
       "    <tr>\n",
       "      <th>...</th>\n",
       "      <td>...</td>\n",
       "      <td>...</td>\n",
       "      <td>...</td>\n",
       "      <td>...</td>\n",
       "      <td>...</td>\n",
       "      <td>...</td>\n",
       "      <td>...</td>\n",
       "    </tr>\n",
       "    <tr>\n",
       "      <th>36886</th>\n",
       "      <td>technology</td>\n",
       "      <td>Why did this happen?\\n\\nPlease make sure your ...</td>\n",
       "      <td>Why did this happen?\\nPlease make sure your br...</td>\n",
       "      <td>3</td>\n",
       "      <td>happen please make sure browser support javasc...</td>\n",
       "      <td>[happen, please, make, sure, browser, support,...</td>\n",
       "      <td>For more information you can review our Terms ...</td>\n",
       "    </tr>\n",
       "    <tr>\n",
       "      <th>36887</th>\n",
       "      <td>technology</td>\n",
       "      <td>Google Inc (NASDAQ:GOOGL) GOOGL +1.12% (NASDAQ...</td>\n",
       "      <td>Google Inc (NASDAQ:GOOGL) GOOGL +1.12% (NASDAQ...</td>\n",
       "      <td>3</td>\n",
       "      <td>google inc nasdaq googl googl nasdaq goog goog...</td>\n",
       "      <td>[google, inc, nasdaq, googl, googl, nasdaq, go...</td>\n",
       "      <td>Titan Aerospace claims that its drones can pro...</td>\n",
       "    </tr>\n",
       "    <tr>\n",
       "      <th>36888</th>\n",
       "      <td>technology</td>\n",
       "      <td>Google has purchased New Mexico-based unmanned...</td>\n",
       "      <td>Google has purchased New Mexico-based unmanned...</td>\n",
       "      <td>3</td>\n",
       "      <td>google purchased new mexico based unmanned aer...</td>\n",
       "      <td>[google, purchased, new, mexico, based, unmann...</td>\n",
       "      <td>Titan is working to develop two UAVs that rese...</td>\n",
       "    </tr>\n",
       "    <tr>\n",
       "      <th>36889</th>\n",
       "      <td>technology</td>\n",
       "      <td>hidden\\n\\nLooks like Facebook's plans to get I...</td>\n",
       "      <td>Google has beaten the world's largest social n...</td>\n",
       "      <td>3</td>\n",
       "      <td>hidden look like facebook plan get internet de...</td>\n",
       "      <td>[hidden, look, like, facebook, plan, get, inte...</td>\n",
       "      <td>Titan is developing a variety of solar-powered...</td>\n",
       "    </tr>\n",
       "    <tr>\n",
       "      <th>36890</th>\n",
       "      <td>technology</td>\n",
       "      <td>Google Has Plans For Titan Drones\\n\\nTitan Aer...</td>\n",
       "      <td>Google Has Plans For Titan DronesTitan Aerospa...</td>\n",
       "      <td>3</td>\n",
       "      <td>google plan titan drone titan aerospace drone ...</td>\n",
       "      <td>[google, plan, titan, drone, titan, aerospace,...</td>\n",
       "      <td>Before that, he worked in film and television,...</td>\n",
       "    </tr>\n",
       "  </tbody>\n",
       "</table>\n",
       "<p>36891 rows × 7 columns</p>\n",
       "</div>"
      ],
      "text/plain": [
       "         CATEGORY                                            CONTENT  \\\n",
       "0        business  The Federal Reserve approved Ally Financial In...   \n",
       "1        business  — Major shareholders of Duke Energy Corp. have...   \n",
       "2        business  Photos taken earlier this month show that Nort...   \n",
       "3        business  Thanks to dogged reporting by the Associated P...   \n",
       "4        business  The energy giant says it is committed to clean...   \n",
       "...           ...                                                ...   \n",
       "36886  technology  Why did this happen?\\n\\nPlease make sure your ...   \n",
       "36887  technology  Google Inc (NASDAQ:GOOGL) GOOGL +1.12% (NASDAQ...   \n",
       "36888  technology  Google has purchased New Mexico-based unmanned...   \n",
       "36889  technology  hidden\\n\\nLooks like Facebook's plans to get I...   \n",
       "36890  technology  Google Has Plans For Titan Drones\\n\\nTitan Aer...   \n",
       "\n",
       "                                                 SUMMARY  category_id  \\\n",
       "0      The Federal Reserve approved Ally Financial In...            0   \n",
       "1      — Major shareholders of Duke Energy Corp. have...            0   \n",
       "2      Photos taken earlier this month show that Nort...            0   \n",
       "3      Thanks to dogged reporting by the Associated P...            0   \n",
       "4      The energy giant says it is committed to clean...            0   \n",
       "...                                                  ...          ...   \n",
       "36886  Why did this happen?\\nPlease make sure your br...            3   \n",
       "36887  Google Inc (NASDAQ:GOOGL) GOOGL +1.12% (NASDAQ...            3   \n",
       "36888  Google has purchased New Mexico-based unmanned...            3   \n",
       "36889  Google has beaten the world's largest social n...            3   \n",
       "36890  Google Has Plans For Titan DronesTitan Aerospa...            3   \n",
       "\n",
       "                                              clean_text  \\\n",
       "0      federal reserve approved ally financial inc ca...   \n",
       "1      major shareholder duke energy corp called comp...   \n",
       "2      photo taken earlier month show north carolina ...   \n",
       "3      thanks dogged reporting associated press know ...   \n",
       "4      energy giant say committed cleaning dan river ...   \n",
       "...                                                  ...   \n",
       "36886  happen please make sure browser support javasc...   \n",
       "36887  google inc nasdaq googl googl nasdaq goog goog...   \n",
       "36888  google purchased new mexico based unmanned aer...   \n",
       "36889  hidden look like facebook plan get internet de...   \n",
       "36890  google plan titan drone titan aerospace drone ...   \n",
       "\n",
       "                                               tokenized  \\\n",
       "0      [federal, reserve, approved, ally, financial, ...   \n",
       "1      [major, shareholder, duke, energy, corp, calle...   \n",
       "2      [photo, taken, earlier, month, show, north, ca...   \n",
       "3      [thanks, dogged, reporting, associated, press,...   \n",
       "4      [energy, giant, say, committed, cleaning, dan,...   \n",
       "...                                                  ...   \n",
       "36886  [happen, please, make, sure, browser, support,...   \n",
       "36887  [google, inc, nasdaq, googl, googl, nasdaq, go...   \n",
       "36888  [google, purchased, new, mexico, based, unmann...   \n",
       "36889  [hidden, look, like, facebook, plan, get, inte...   \n",
       "36890  [google, plan, titan, drone, titan, aerospace,...   \n",
       "\n",
       "                                             LSA_Summary  \n",
       "0      Ally’s plan was approved after the Federal Res...  \n",
       "1      A federal grand jury also is investigating any...  \n",
       "2      Once again Duke failed to notify the agency of...  \n",
       "3      A federal investigation is underway regarding ...  \n",
       "4      Scanzoni says it will be several years before ...  \n",
       "...                                                  ...  \n",
       "36886  For more information you can review our Terms ...  \n",
       "36887  Titan Aerospace claims that its drones can pro...  \n",
       "36888  Titan is working to develop two UAVs that rese...  \n",
       "36889  Titan is developing a variety of solar-powered...  \n",
       "36890  Before that, he worked in film and television,...  \n",
       "\n",
       "[36891 rows x 7 columns]"
      ]
     },
     "execution_count": 44,
     "metadata": {},
     "output_type": "execute_result"
    }
   ],
   "source": [
    "pd.options.mode.chained_assignment = None\n",
    "dataset[\"LSA_Summary\"] = \"\"\n",
    "for i,j in dataset.iterrows():\n",
    "    parser = PlaintextParser.from_string(j.CONTENT,Tokenizer(\"english\"))\n",
    "    summarizer_lsa = LsaSummarizer()\n",
    "    summary2 = summarizer_lsa(parser.document,5)\n",
    "    for sentence in summary2:\n",
    "        dataset.LSA_Summary[i] = sentence\n",
    "dataset"
   ]
  },
  {
   "cell_type": "markdown",
   "id": "57c9bd86",
   "metadata": {
    "papermill": {
     "duration": 0.100607,
     "end_time": "2021-07-25T15:10:44.102221",
     "exception": false,
     "start_time": "2021-07-25T15:10:44.001614",
     "status": "completed"
    },
    "tags": []
   },
   "source": [
    "# Evaluation"
   ]
  },
  {
   "cell_type": "code",
   "execution_count": 45,
   "id": "3522afc1",
   "metadata": {
    "execution": {
     "iopub.execute_input": "2021-07-25T15:10:44.310087Z",
     "iopub.status.busy": "2021-07-25T15:10:44.309374Z",
     "iopub.status.idle": "2021-07-25T15:10:44.312273Z",
     "shell.execute_reply": "2021-07-25T15:10:44.312753Z",
     "shell.execute_reply.started": "2021-07-25T12:05:45.820648Z"
    },
    "papermill": {
     "duration": 0.108235,
     "end_time": "2021-07-25T15:10:44.312944",
     "exception": false,
     "start_time": "2021-07-25T15:10:44.204709",
     "status": "completed"
    },
    "tags": []
   },
   "outputs": [
    {
     "data": {
      "text/plain": [
       "'The Federal Reserve approved Ally Financial Inc.’s capital plan in the bank regulator’s annual review of the industry’s financial health, clearing another potential hurdle to the auto lender’s plans to exit government ownership.\\nAlly’s plan was approved after the Federal Reserve found that the bank could keep lending in a severe economic downturn, according to a report Wednesday.'"
      ]
     },
     "execution_count": 45,
     "metadata": {},
     "output_type": "execute_result"
    }
   ],
   "source": [
    "dataset['SUMMARY'][0]"
   ]
  },
  {
   "cell_type": "code",
   "execution_count": 46,
   "id": "92ce92c1",
   "metadata": {
    "execution": {
     "iopub.execute_input": "2021-07-25T15:10:44.514666Z",
     "iopub.status.busy": "2021-07-25T15:10:44.513924Z",
     "iopub.status.idle": "2021-07-25T15:10:44.519021Z",
     "shell.execute_reply": "2021-07-25T15:10:44.519492Z",
     "shell.execute_reply.started": "2021-07-25T12:05:49.354262Z"
    },
    "papermill": {
     "duration": 0.10735,
     "end_time": "2021-07-25T15:10:44.519681",
     "exception": false,
     "start_time": "2021-07-25T15:10:44.412331",
     "status": "completed"
    },
    "tags": []
   },
   "outputs": [
    {
     "data": {
      "text/plain": [
       "<Sentence: Ally’s plan was approved after the Federal Reserve found that the bank could keep lending in a severe economic downturn, according to a report Wednesday.>"
      ]
     },
     "execution_count": 46,
     "metadata": {},
     "output_type": "execute_result"
    }
   ],
   "source": [
    "dataset['LSA_Summary'][0]"
   ]
  },
  {
   "cell_type": "code",
   "execution_count": 47,
   "id": "f3867074",
   "metadata": {
    "execution": {
     "iopub.execute_input": "2021-07-25T15:10:44.720297Z",
     "iopub.status.busy": "2021-07-25T15:10:44.719624Z",
     "iopub.status.idle": "2021-07-25T15:10:44.726597Z",
     "shell.execute_reply": "2021-07-25T15:10:44.726060Z",
     "shell.execute_reply.started": "2021-07-25T12:10:02.331444Z"
    },
    "papermill": {
     "duration": 0.108438,
     "end_time": "2021-07-25T15:10:44.726749",
     "exception": false,
     "start_time": "2021-07-25T15:10:44.618311",
     "status": "completed"
    },
    "tags": []
   },
   "outputs": [
    {
     "data": {
      "text/plain": [
       "'business'"
      ]
     },
     "execution_count": 47,
     "metadata": {},
     "output_type": "execute_result"
    }
   ],
   "source": [
    "dataset['CATEGORY'][0]"
   ]
  },
  {
   "cell_type": "code",
   "execution_count": 48,
   "id": "15f242b7",
   "metadata": {
    "execution": {
     "iopub.execute_input": "2021-07-25T15:10:44.934769Z",
     "iopub.status.busy": "2021-07-25T15:10:44.933884Z",
     "iopub.status.idle": "2021-07-25T15:10:55.905585Z",
     "shell.execute_reply": "2021-07-25T15:10:55.905033Z",
     "shell.execute_reply.started": "2021-07-25T12:17:26.17836Z"
    },
    "papermill": {
     "duration": 11.077289,
     "end_time": "2021-07-25T15:10:55.905739",
     "exception": false,
     "start_time": "2021-07-25T15:10:44.828450",
     "status": "completed"
    },
    "tags": []
   },
   "outputs": [
    {
     "name": "stdout",
     "output_type": "stream",
     "text": [
      "The similarity between two articles is =  0.9999999648775513\n"
     ]
    }
   ],
   "source": [
    "import spacy\n",
    "\n",
    "nlp = spacy.load(\"en_core_web_lg\")\n",
    "doc1 = nlp(\"dataset['SUMMARY'][0]\")\n",
    "doc2 = nlp(\"dataset['LSA_Summary'][0]\")\n",
    "\n",
    "print('The similarity between two articles is = ',doc1.similarity(doc2))"
   ]
  },
  {
   "cell_type": "markdown",
   "id": "f713a60f",
   "metadata": {
    "papermill": {
     "duration": 0.09936,
     "end_time": "2021-07-25T15:10:56.103953",
     "exception": false,
     "start_time": "2021-07-25T15:10:56.004593",
     "status": "completed"
    },
    "tags": []
   },
   "source": [
    "# Bert summarizer"
   ]
  },
  {
   "cell_type": "code",
   "execution_count": 49,
   "id": "eb0f4d4d",
   "metadata": {
    "execution": {
     "iopub.execute_input": "2021-07-25T15:10:56.311962Z",
     "iopub.status.busy": "2021-07-25T15:10:56.310962Z",
     "iopub.status.idle": "2021-07-25T15:12:07.029157Z",
     "shell.execute_reply": "2021-07-25T15:12:07.030079Z",
     "shell.execute_reply.started": "2021-07-25T12:20:17.162533Z"
    },
    "papermill": {
     "duration": 70.825922,
     "end_time": "2021-07-25T15:12:07.030379",
     "exception": false,
     "start_time": "2021-07-25T15:10:56.204457",
     "status": "completed"
    },
    "tags": []
   },
   "outputs": [
    {
     "name": "stdout",
     "output_type": "stream",
     "text": [
      "Collecting bert-extractive-summarizer\r\n",
      "  Downloading bert_extractive_summarizer-0.7.1-py3-none-any.whl (18 kB)\r\n",
      "Requirement already satisfied: scikit-learn in /opt/conda/lib/python3.7/site-packages (from bert-extractive-summarizer) (0.23.2)\r\n",
      "Requirement already satisfied: transformers in /opt/conda/lib/python3.7/site-packages (from bert-extractive-summarizer) (4.6.1)\r\n",
      "Requirement already satisfied: spacy in /opt/conda/lib/python3.7/site-packages (from bert-extractive-summarizer) (2.3.7)\r\n",
      "Requirement already satisfied: scipy>=0.19.1 in /opt/conda/lib/python3.7/site-packages (from scikit-learn->bert-extractive-summarizer) (1.6.3)\r\n",
      "Requirement already satisfied: numpy>=1.13.3 in /opt/conda/lib/python3.7/site-packages (from scikit-learn->bert-extractive-summarizer) (1.19.5)\r\n",
      "Requirement already satisfied: threadpoolctl>=2.0.0 in /opt/conda/lib/python3.7/site-packages (from scikit-learn->bert-extractive-summarizer) (2.1.0)\r\n",
      "Requirement already satisfied: joblib>=0.11 in /opt/conda/lib/python3.7/site-packages (from scikit-learn->bert-extractive-summarizer) (1.0.1)\r\n",
      "Requirement already satisfied: srsly<1.1.0,>=1.0.2 in /opt/conda/lib/python3.7/site-packages (from spacy->bert-extractive-summarizer) (1.0.5)\r\n",
      "Requirement already satisfied: wasabi<1.1.0,>=0.4.0 in /opt/conda/lib/python3.7/site-packages (from spacy->bert-extractive-summarizer) (0.8.2)\r\n",
      "Requirement already satisfied: cymem<2.1.0,>=2.0.2 in /opt/conda/lib/python3.7/site-packages (from spacy->bert-extractive-summarizer) (2.0.5)\r\n",
      "Requirement already satisfied: setuptools in /opt/conda/lib/python3.7/site-packages (from spacy->bert-extractive-summarizer) (49.6.0.post20210108)\r\n",
      "Requirement already satisfied: murmurhash<1.1.0,>=0.28.0 in /opt/conda/lib/python3.7/site-packages (from spacy->bert-extractive-summarizer) (1.0.5)\r\n",
      "Requirement already satisfied: blis<0.8.0,>=0.4.0 in /opt/conda/lib/python3.7/site-packages (from spacy->bert-extractive-summarizer) (0.7.4)\r\n",
      "Requirement already satisfied: catalogue<1.1.0,>=0.0.7 in /opt/conda/lib/python3.7/site-packages (from spacy->bert-extractive-summarizer) (1.0.0)\r\n",
      "Requirement already satisfied: plac<1.2.0,>=0.9.6 in /opt/conda/lib/python3.7/site-packages (from spacy->bert-extractive-summarizer) (1.1.3)\r\n",
      "Requirement already satisfied: requests<3.0.0,>=2.13.0 in /opt/conda/lib/python3.7/site-packages (from spacy->bert-extractive-summarizer) (2.25.1)\r\n",
      "Requirement already satisfied: thinc<7.5.0,>=7.4.1 in /opt/conda/lib/python3.7/site-packages (from spacy->bert-extractive-summarizer) (7.4.5)\r\n",
      "Requirement already satisfied: preshed<3.1.0,>=3.0.2 in /opt/conda/lib/python3.7/site-packages (from spacy->bert-extractive-summarizer) (3.0.5)\r\n",
      "Requirement already satisfied: tqdm<5.0.0,>=4.38.0 in /opt/conda/lib/python3.7/site-packages (from spacy->bert-extractive-summarizer) (4.61.1)\r\n",
      "Requirement already satisfied: importlib-metadata>=0.20 in /opt/conda/lib/python3.7/site-packages (from catalogue<1.1.0,>=0.0.7->spacy->bert-extractive-summarizer) (3.4.0)\r\n",
      "Requirement already satisfied: zipp>=0.5 in /opt/conda/lib/python3.7/site-packages (from importlib-metadata>=0.20->catalogue<1.1.0,>=0.0.7->spacy->bert-extractive-summarizer) (3.4.1)\r\n",
      "Requirement already satisfied: typing-extensions>=3.6.4 in /opt/conda/lib/python3.7/site-packages (from importlib-metadata>=0.20->catalogue<1.1.0,>=0.0.7->spacy->bert-extractive-summarizer) (3.7.4.3)\r\n",
      "Requirement already satisfied: idna<3,>=2.5 in /opt/conda/lib/python3.7/site-packages (from requests<3.0.0,>=2.13.0->spacy->bert-extractive-summarizer) (2.10)\r\n",
      "Requirement already satisfied: urllib3<1.27,>=1.21.1 in /opt/conda/lib/python3.7/site-packages (from requests<3.0.0,>=2.13.0->spacy->bert-extractive-summarizer) (1.26.5)\r\n",
      "Requirement already satisfied: chardet<5,>=3.0.2 in /opt/conda/lib/python3.7/site-packages (from requests<3.0.0,>=2.13.0->spacy->bert-extractive-summarizer) (4.0.0)\r\n",
      "Requirement already satisfied: certifi>=2017.4.17 in /opt/conda/lib/python3.7/site-packages (from requests<3.0.0,>=2.13.0->spacy->bert-extractive-summarizer) (2021.5.30)\r\n",
      "Requirement already satisfied: tokenizers<0.11,>=0.10.1 in /opt/conda/lib/python3.7/site-packages (from transformers->bert-extractive-summarizer) (0.10.3)\r\n",
      "Requirement already satisfied: packaging in /opt/conda/lib/python3.7/site-packages (from transformers->bert-extractive-summarizer) (20.9)\r\n",
      "Requirement already satisfied: huggingface-hub==0.0.8 in /opt/conda/lib/python3.7/site-packages (from transformers->bert-extractive-summarizer) (0.0.8)\r\n",
      "Requirement already satisfied: sacremoses in /opt/conda/lib/python3.7/site-packages (from transformers->bert-extractive-summarizer) (0.0.45)\r\n",
      "Requirement already satisfied: regex!=2019.12.17 in /opt/conda/lib/python3.7/site-packages (from transformers->bert-extractive-summarizer) (2021.4.4)\r\n",
      "Requirement already satisfied: filelock in /opt/conda/lib/python3.7/site-packages (from transformers->bert-extractive-summarizer) (3.0.12)\r\n",
      "Requirement already satisfied: pyparsing>=2.0.2 in /opt/conda/lib/python3.7/site-packages (from packaging->transformers->bert-extractive-summarizer) (2.4.7)\r\n",
      "Requirement already satisfied: six in /opt/conda/lib/python3.7/site-packages (from sacremoses->transformers->bert-extractive-summarizer) (1.15.0)\r\n",
      "Requirement already satisfied: click in /opt/conda/lib/python3.7/site-packages (from sacremoses->transformers->bert-extractive-summarizer) (7.1.2)\r\n",
      "Installing collected packages: bert-extractive-summarizer\r\n",
      "Successfully installed bert-extractive-summarizer-0.7.1\r\n",
      "\u001b[33mWARNING: Running pip as root will break packages and permissions. You should install packages reliably by using venv: https://pip.pypa.io/warnings/venv\u001b[0m\r\n"
     ]
    },
    {
     "name": "stderr",
     "output_type": "stream",
     "text": [
      "/opt/conda/lib/python3.7/site-packages/torchaudio/backend/utils.py:54: UserWarning: \"sox\" backend is being deprecated. The default backend will be changed to \"sox_io\" backend in 0.8.0 and \"sox\" backend will be removed in 0.9.0. Please migrate to \"sox_io\" backend. Please refer to https://github.com/pytorch/audio/issues/903 for the detail.\n",
      "  '\"sox\" backend is being deprecated. '\n"
     ]
    },
    {
     "data": {
      "application/vnd.jupyter.widget-view+json": {
       "model_id": "2b4dc7b3562243a393bc9c3ccd28d271",
       "version_major": 2,
       "version_minor": 0
      },
      "text/plain": [
       "Downloading:   0%|          | 0.00/571 [00:00<?, ?B/s]"
      ]
     },
     "metadata": {},
     "output_type": "display_data"
    },
    {
     "data": {
      "application/vnd.jupyter.widget-view+json": {
       "model_id": "041ecfbe1494471989d68286ab87b7ab",
       "version_major": 2,
       "version_minor": 0
      },
      "text/plain": [
       "Downloading:   0%|          | 0.00/1.34G [00:00<?, ?B/s]"
      ]
     },
     "metadata": {},
     "output_type": "display_data"
    },
    {
     "name": "stderr",
     "output_type": "stream",
     "text": [
      "Some weights of the model checkpoint at bert-large-uncased were not used when initializing BertModel: ['cls.predictions.transform.LayerNorm.bias', 'cls.predictions.decoder.weight', 'cls.predictions.transform.dense.bias', 'cls.predictions.transform.dense.weight', 'cls.predictions.transform.LayerNorm.weight', 'cls.seq_relationship.weight', 'cls.predictions.bias', 'cls.seq_relationship.bias']\n",
      "- This IS expected if you are initializing BertModel from the checkpoint of a model trained on another task or with another architecture (e.g. initializing a BertForSequenceClassification model from a BertForPreTraining model).\n",
      "- This IS NOT expected if you are initializing BertModel from the checkpoint of a model that you expect to be exactly identical (initializing a BertForSequenceClassification model from a BertForSequenceClassification model).\n"
     ]
    },
    {
     "data": {
      "application/vnd.jupyter.widget-view+json": {
       "model_id": "d7e740d1bc584266abf94c8b82a55a71",
       "version_major": 2,
       "version_minor": 0
      },
      "text/plain": [
       "Downloading:   0%|          | 0.00/232k [00:00<?, ?B/s]"
      ]
     },
     "metadata": {},
     "output_type": "display_data"
    },
    {
     "data": {
      "application/vnd.jupyter.widget-view+json": {
       "model_id": "26e754248f0647aaa13d9362b8bd8cf1",
       "version_major": 2,
       "version_minor": 0
      },
      "text/plain": [
       "Downloading:   0%|          | 0.00/28.0 [00:00<?, ?B/s]"
      ]
     },
     "metadata": {},
     "output_type": "display_data"
    },
    {
     "data": {
      "application/vnd.jupyter.widget-view+json": {
       "model_id": "47e106d4d4374120bd9ca29553d7238a",
       "version_major": 2,
       "version_minor": 0
      },
      "text/plain": [
       "Downloading:   0%|          | 0.00/466k [00:00<?, ?B/s]"
      ]
     },
     "metadata": {},
     "output_type": "display_data"
    }
   ],
   "source": [
    "!pip install bert-extractive-summarizer\n",
    "from summarizer import Summarizer,TransformerSummarizer\n",
    "bert_model = Summarizer()\n",
    "bert_summary = ''.join(bert_model(dataset['CONTENT'][0], min_length=60))"
   ]
  },
  {
   "cell_type": "code",
   "execution_count": 50,
   "id": "aaf47eb2",
   "metadata": {
    "execution": {
     "iopub.execute_input": "2021-07-25T15:12:07.257762Z",
     "iopub.status.busy": "2021-07-25T15:12:07.257051Z",
     "iopub.status.idle": "2021-07-25T15:12:07.259664Z",
     "shell.execute_reply": "2021-07-25T15:12:07.260136Z",
     "shell.execute_reply.started": "2021-07-25T12:21:50.948298Z"
    },
    "papermill": {
     "duration": 0.117061,
     "end_time": "2021-07-25T15:12:07.260347",
     "exception": false,
     "start_time": "2021-07-25T15:12:07.143286",
     "status": "completed"
    },
    "tags": []
   },
   "outputs": [
    {
     "data": {
      "text/plain": [
       "'The Federal Reserve approved Ally Financial Inc.’s capital plan in the bank regulator’s annual review of the industry’s financial health, clearing another potential hurdle to the auto lender’s plans to exit government ownership. Ally’s plan was approved after the Federal Reserve found that the bank could keep lending in a severe economic downturn, according to a report Wednesday.'"
      ]
     },
     "execution_count": 50,
     "metadata": {},
     "output_type": "execute_result"
    }
   ],
   "source": [
    "bert_summary"
   ]
  },
  {
   "cell_type": "code",
   "execution_count": 51,
   "id": "e3669e7c",
   "metadata": {
    "execution": {
     "iopub.execute_input": "2021-07-25T15:12:07.474137Z",
     "iopub.status.busy": "2021-07-25T15:12:07.473415Z",
     "iopub.status.idle": "2021-07-25T15:12:14.662351Z",
     "shell.execute_reply": "2021-07-25T15:12:14.662906Z",
     "shell.execute_reply.started": "2021-07-25T12:24:40.467032Z"
    },
    "papermill": {
     "duration": 7.298447,
     "end_time": "2021-07-25T15:12:14.663097",
     "exception": false,
     "start_time": "2021-07-25T15:12:07.364650",
     "status": "completed"
    },
    "tags": []
   },
   "outputs": [
    {
     "name": "stdout",
     "output_type": "stream",
     "text": [
      "The similarity between two articles is =  0.17754551291345758\n"
     ]
    }
   ],
   "source": [
    "import spacy\n",
    "\n",
    "nlp = spacy.load(\"en_core_web_lg\")\n",
    "doc1 = nlp(\"dataset['SUMMARY'][0]\")\n",
    "doc2 = nlp(bert_summary)\n",
    "\n",
    "print('The similarity between two articles is = ',doc1.similarity(doc2))"
   ]
  },
  {
   "cell_type": "code",
   "execution_count": null,
   "id": "ad49ece8",
   "metadata": {
    "papermill": {
     "duration": 0.105577,
     "end_time": "2021-07-25T15:12:14.873287",
     "exception": false,
     "start_time": "2021-07-25T15:12:14.767710",
     "status": "completed"
    },
    "tags": []
   },
   "outputs": [],
   "source": []
  }
 ],
 "metadata": {
  "kernelspec": {
   "display_name": "Python 3",
   "language": "python",
   "name": "python3"
  },
  "language_info": {
   "codemirror_mode": {
    "name": "ipython",
    "version": 3
   },
   "file_extension": ".py",
   "mimetype": "text/x-python",
   "name": "python",
   "nbconvert_exporter": "python",
   "pygments_lexer": "ipython3",
   "version": "3.7.10"
  },
  "papermill": {
   "default_parameters": {},
   "duration": 2024.562509,
   "end_time": "2021-07-25T15:12:18.439170",
   "environment_variables": {},
   "exception": null,
   "input_path": "__notebook__.ipynb",
   "output_path": "__notebook__.ipynb",
   "parameters": {},
   "start_time": "2021-07-25T14:38:33.876661",
   "version": "2.3.3"
  },
  "widgets": {
   "application/vnd.jupyter.widget-state+json": {
    "state": {
     "0134ab8a4c7249408abd7f47f3788b47": {
      "model_module": "@jupyter-widgets/base",
      "model_module_version": "1.2.0",
      "model_name": "LayoutModel",
      "state": {
       "_model_module": "@jupyter-widgets/base",
       "_model_module_version": "1.2.0",
       "_model_name": "LayoutModel",
       "_view_count": null,
       "_view_module": "@jupyter-widgets/base",
       "_view_module_version": "1.2.0",
       "_view_name": "LayoutView",
       "align_content": null,
       "align_items": null,
       "align_self": null,
       "border": null,
       "bottom": null,
       "display": null,
       "flex": null,
       "flex_flow": null,
       "grid_area": null,
       "grid_auto_columns": null,
       "grid_auto_flow": null,
       "grid_auto_rows": null,
       "grid_column": null,
       "grid_gap": null,
       "grid_row": null,
       "grid_template_areas": null,
       "grid_template_columns": null,
       "grid_template_rows": null,
       "height": null,
       "justify_content": null,
       "justify_items": null,
       "left": null,
       "margin": null,
       "max_height": null,
       "max_width": null,
       "min_height": null,
       "min_width": null,
       "object_fit": null,
       "object_position": null,
       "order": null,
       "overflow": null,
       "overflow_x": null,
       "overflow_y": null,
       "padding": null,
       "right": null,
       "top": null,
       "visibility": null,
       "width": null
      }
     },
     "0179f27681c4498494e91c32c86d567d": {
      "model_module": "@jupyter-widgets/controls",
      "model_module_version": "1.5.0",
      "model_name": "HBoxModel",
      "state": {
       "_dom_classes": [],
       "_model_module": "@jupyter-widgets/controls",
       "_model_module_version": "1.5.0",
       "_model_name": "HBoxModel",
       "_view_count": null,
       "_view_module": "@jupyter-widgets/controls",
       "_view_module_version": "1.5.0",
       "_view_name": "HBoxView",
       "box_style": "",
       "children": [
        "IPY_MODEL_394beb10afcf4fe486626b7b18bfb248",
        "IPY_MODEL_6c9ecf2215ed421c8c20caca45d0f831"
       ],
       "layout": "IPY_MODEL_fd2c2ba64d214259b13aaadff24638f9"
      }
     },
     "041ecfbe1494471989d68286ab87b7ab": {
      "model_module": "@jupyter-widgets/controls",
      "model_module_version": "1.5.0",
      "model_name": "HBoxModel",
      "state": {
       "_dom_classes": [],
       "_model_module": "@jupyter-widgets/controls",
       "_model_module_version": "1.5.0",
       "_model_name": "HBoxModel",
       "_view_count": null,
       "_view_module": "@jupyter-widgets/controls",
       "_view_module_version": "1.5.0",
       "_view_name": "HBoxView",
       "box_style": "",
       "children": [
        "IPY_MODEL_6ce612c3eeb6486ca407cebbb1bc9fa3",
        "IPY_MODEL_9f869742d19d46179f4d25a4cc0285f0",
        "IPY_MODEL_fc1df187e29142afba2876aca4f30230"
       ],
       "layout": "IPY_MODEL_c1473b9275424b25a7200da5d2e5464e"
      }
     },
     "04bc318db3c4490bb44dceeed4f6d8d9": {
      "model_module": "@jupyter-widgets/base",
      "model_module_version": "1.2.0",
      "model_name": "LayoutModel",
      "state": {
       "_model_module": "@jupyter-widgets/base",
       "_model_module_version": "1.2.0",
       "_model_name": "LayoutModel",
       "_view_count": null,
       "_view_module": "@jupyter-widgets/base",
       "_view_module_version": "1.2.0",
       "_view_name": "LayoutView",
       "align_content": null,
       "align_items": null,
       "align_self": null,
       "border": null,
       "bottom": null,
       "display": null,
       "flex": null,
       "flex_flow": null,
       "grid_area": null,
       "grid_auto_columns": null,
       "grid_auto_flow": null,
       "grid_auto_rows": null,
       "grid_column": null,
       "grid_gap": null,
       "grid_row": null,
       "grid_template_areas": null,
       "grid_template_columns": null,
       "grid_template_rows": null,
       "height": null,
       "justify_content": null,
       "justify_items": null,
       "left": null,
       "margin": null,
       "max_height": null,
       "max_width": null,
       "min_height": null,
       "min_width": null,
       "object_fit": null,
       "object_position": null,
       "order": null,
       "overflow": null,
       "overflow_x": null,
       "overflow_y": null,
       "padding": null,
       "right": null,
       "top": null,
       "visibility": null,
       "width": null
      }
     },
     "06c162b6379b4748bffc0ed0f85331a7": {
      "model_module": "@jupyter-widgets/base",
      "model_module_version": "1.2.0",
      "model_name": "LayoutModel",
      "state": {
       "_model_module": "@jupyter-widgets/base",
       "_model_module_version": "1.2.0",
       "_model_name": "LayoutModel",
       "_view_count": null,
       "_view_module": "@jupyter-widgets/base",
       "_view_module_version": "1.2.0",
       "_view_name": "LayoutView",
       "align_content": null,
       "align_items": null,
       "align_self": null,
       "border": null,
       "bottom": null,
       "display": null,
       "flex": null,
       "flex_flow": null,
       "grid_area": null,
       "grid_auto_columns": null,
       "grid_auto_flow": null,
       "grid_auto_rows": null,
       "grid_column": null,
       "grid_gap": null,
       "grid_row": null,
       "grid_template_areas": null,
       "grid_template_columns": null,
       "grid_template_rows": null,
       "height": null,
       "justify_content": null,
       "justify_items": null,
       "left": null,
       "margin": null,
       "max_height": null,
       "max_width": null,
       "min_height": null,
       "min_width": null,
       "object_fit": null,
       "object_position": null,
       "order": null,
       "overflow": null,
       "overflow_x": null,
       "overflow_y": null,
       "padding": null,
       "right": null,
       "top": null,
       "visibility": null,
       "width": null
      }
     },
     "08bb0cbe0044474d8ea908ef385e1461": {
      "model_module": "@jupyter-widgets/base",
      "model_module_version": "1.2.0",
      "model_name": "LayoutModel",
      "state": {
       "_model_module": "@jupyter-widgets/base",
       "_model_module_version": "1.2.0",
       "_model_name": "LayoutModel",
       "_view_count": null,
       "_view_module": "@jupyter-widgets/base",
       "_view_module_version": "1.2.0",
       "_view_name": "LayoutView",
       "align_content": null,
       "align_items": null,
       "align_self": null,
       "border": null,
       "bottom": null,
       "display": null,
       "flex": null,
       "flex_flow": null,
       "grid_area": null,
       "grid_auto_columns": null,
       "grid_auto_flow": null,
       "grid_auto_rows": null,
       "grid_column": null,
       "grid_gap": null,
       "grid_row": null,
       "grid_template_areas": null,
       "grid_template_columns": null,
       "grid_template_rows": null,
       "height": null,
       "justify_content": null,
       "justify_items": null,
       "left": null,
       "margin": null,
       "max_height": null,
       "max_width": null,
       "min_height": null,
       "min_width": null,
       "object_fit": null,
       "object_position": null,
       "order": null,
       "overflow": null,
       "overflow_x": null,
       "overflow_y": null,
       "padding": null,
       "right": null,
       "top": null,
       "visibility": null,
       "width": null
      }
     },
     "08efa5466f214b40802eded692d9e291": {
      "model_module": "@jupyter-widgets/controls",
      "model_module_version": "1.5.0",
      "model_name": "HTMLModel",
      "state": {
       "_dom_classes": [],
       "_model_module": "@jupyter-widgets/controls",
       "_model_module_version": "1.5.0",
       "_model_name": "HTMLModel",
       "_view_count": null,
       "_view_module": "@jupyter-widgets/controls",
       "_view_module_version": "1.5.0",
       "_view_name": "HTMLView",
       "description": "",
       "description_tooltip": null,
       "layout": "IPY_MODEL_c16bfda652ed4dc1a4d5a018688c5df4",
       "placeholder": "​",
       "style": "IPY_MODEL_9f659755d19048f1b66243f8608abd05",
       "value": "Downloading: 100%"
      }
     },
     "08f7c011b2f0406bb35ace837fffcda5": {
      "model_module": "@jupyter-widgets/controls",
      "model_module_version": "1.5.0",
      "model_name": "ProgressStyleModel",
      "state": {
       "_model_module": "@jupyter-widgets/controls",
       "_model_module_version": "1.5.0",
       "_model_name": "ProgressStyleModel",
       "_view_count": null,
       "_view_module": "@jupyter-widgets/base",
       "_view_module_version": "1.2.0",
       "_view_name": "StyleView",
       "bar_color": null,
       "description_width": ""
      }
     },
     "133672f139cb45a7b19ca7edfe754307": {
      "model_module": "@jupyter-widgets/base",
      "model_module_version": "1.2.0",
      "model_name": "LayoutModel",
      "state": {
       "_model_module": "@jupyter-widgets/base",
       "_model_module_version": "1.2.0",
       "_model_name": "LayoutModel",
       "_view_count": null,
       "_view_module": "@jupyter-widgets/base",
       "_view_module_version": "1.2.0",
       "_view_name": "LayoutView",
       "align_content": null,
       "align_items": null,
       "align_self": null,
       "border": null,
       "bottom": null,
       "display": null,
       "flex": null,
       "flex_flow": null,
       "grid_area": null,
       "grid_auto_columns": null,
       "grid_auto_flow": null,
       "grid_auto_rows": null,
       "grid_column": null,
       "grid_gap": null,
       "grid_row": null,
       "grid_template_areas": null,
       "grid_template_columns": null,
       "grid_template_rows": null,
       "height": null,
       "justify_content": null,
       "justify_items": null,
       "left": null,
       "margin": null,
       "max_height": null,
       "max_width": null,
       "min_height": null,
       "min_width": null,
       "object_fit": null,
       "object_position": null,
       "order": null,
       "overflow": null,
       "overflow_x": null,
       "overflow_y": null,
       "padding": null,
       "right": null,
       "top": null,
       "visibility": null,
       "width": null
      }
     },
     "136233547b5f48a383e3f0a320266bbb": {
      "model_module": "@jupyter-widgets/controls",
      "model_module_version": "1.5.0",
      "model_name": "DescriptionStyleModel",
      "state": {
       "_model_module": "@jupyter-widgets/controls",
       "_model_module_version": "1.5.0",
       "_model_name": "DescriptionStyleModel",
       "_view_count": null,
       "_view_module": "@jupyter-widgets/base",
       "_view_module_version": "1.2.0",
       "_view_name": "StyleView",
       "description_width": ""
      }
     },
     "1753488579724b9a9078c3721626c944": {
      "model_module": "@jupyter-widgets/controls",
      "model_module_version": "1.5.0",
      "model_name": "HBoxModel",
      "state": {
       "_dom_classes": [],
       "_model_module": "@jupyter-widgets/controls",
       "_model_module_version": "1.5.0",
       "_model_name": "HBoxModel",
       "_view_count": null,
       "_view_module": "@jupyter-widgets/controls",
       "_view_module_version": "1.5.0",
       "_view_name": "HBoxView",
       "box_style": "",
       "children": [
        "IPY_MODEL_c105bc082bcc447e96beb68af1da6091",
        "IPY_MODEL_8e6d679158de4a39b7af5c10ac6acede"
       ],
       "layout": "IPY_MODEL_06c162b6379b4748bffc0ed0f85331a7"
      }
     },
     "175ad15f750f4d3c932f80359480b79b": {
      "model_module": "@jupyter-widgets/controls",
      "model_module_version": "1.5.0",
      "model_name": "ProgressStyleModel",
      "state": {
       "_model_module": "@jupyter-widgets/controls",
       "_model_module_version": "1.5.0",
       "_model_name": "ProgressStyleModel",
       "_view_count": null,
       "_view_module": "@jupyter-widgets/base",
       "_view_module_version": "1.2.0",
       "_view_name": "StyleView",
       "bar_color": null,
       "description_width": ""
      }
     },
     "1bc085c630e146c0b925dcaf1e527601": {
      "model_module": "@jupyter-widgets/base",
      "model_module_version": "1.2.0",
      "model_name": "LayoutModel",
      "state": {
       "_model_module": "@jupyter-widgets/base",
       "_model_module_version": "1.2.0",
       "_model_name": "LayoutModel",
       "_view_count": null,
       "_view_module": "@jupyter-widgets/base",
       "_view_module_version": "1.2.0",
       "_view_name": "LayoutView",
       "align_content": null,
       "align_items": null,
       "align_self": null,
       "border": null,
       "bottom": null,
       "display": null,
       "flex": null,
       "flex_flow": null,
       "grid_area": null,
       "grid_auto_columns": null,
       "grid_auto_flow": null,
       "grid_auto_rows": null,
       "grid_column": null,
       "grid_gap": null,
       "grid_row": null,
       "grid_template_areas": null,
       "grid_template_columns": null,
       "grid_template_rows": null,
       "height": null,
       "justify_content": null,
       "justify_items": null,
       "left": null,
       "margin": null,
       "max_height": null,
       "max_width": null,
       "min_height": null,
       "min_width": null,
       "object_fit": null,
       "object_position": null,
       "order": null,
       "overflow": null,
       "overflow_x": null,
       "overflow_y": null,
       "padding": null,
       "right": null,
       "top": null,
       "visibility": null,
       "width": null
      }
     },
     "1fed228759c94e28a24787647f04e4cb": {
      "model_module": "@jupyter-widgets/controls",
      "model_module_version": "1.5.0",
      "model_name": "ProgressStyleModel",
      "state": {
       "_model_module": "@jupyter-widgets/controls",
       "_model_module_version": "1.5.0",
       "_model_name": "ProgressStyleModel",
       "_view_count": null,
       "_view_module": "@jupyter-widgets/base",
       "_view_module_version": "1.2.0",
       "_view_name": "StyleView",
       "bar_color": null,
       "description_width": ""
      }
     },
     "22d362e2f1174dd8a6f4dd4f6e0e2fc6": {
      "model_module": "@jupyter-widgets/base",
      "model_module_version": "1.2.0",
      "model_name": "LayoutModel",
      "state": {
       "_model_module": "@jupyter-widgets/base",
       "_model_module_version": "1.2.0",
       "_model_name": "LayoutModel",
       "_view_count": null,
       "_view_module": "@jupyter-widgets/base",
       "_view_module_version": "1.2.0",
       "_view_name": "LayoutView",
       "align_content": null,
       "align_items": null,
       "align_self": null,
       "border": null,
       "bottom": null,
       "display": null,
       "flex": null,
       "flex_flow": null,
       "grid_area": null,
       "grid_auto_columns": null,
       "grid_auto_flow": null,
       "grid_auto_rows": null,
       "grid_column": null,
       "grid_gap": null,
       "grid_row": null,
       "grid_template_areas": null,
       "grid_template_columns": null,
       "grid_template_rows": null,
       "height": null,
       "justify_content": null,
       "justify_items": null,
       "left": null,
       "margin": null,
       "max_height": null,
       "max_width": null,
       "min_height": null,
       "min_width": null,
       "object_fit": null,
       "object_position": null,
       "order": null,
       "overflow": null,
       "overflow_x": null,
       "overflow_y": null,
       "padding": null,
       "right": null,
       "top": null,
       "visibility": null,
       "width": null
      }
     },
     "249f27a409614dccba1a5fe838e421f6": {
      "model_module": "@jupyter-widgets/controls",
      "model_module_version": "1.5.0",
      "model_name": "HBoxModel",
      "state": {
       "_dom_classes": [],
       "_model_module": "@jupyter-widgets/controls",
       "_model_module_version": "1.5.0",
       "_model_name": "HBoxModel",
       "_view_count": null,
       "_view_module": "@jupyter-widgets/controls",
       "_view_module_version": "1.5.0",
       "_view_name": "HBoxView",
       "box_style": "",
       "children": [
        "IPY_MODEL_d7b6615cc03244cbb6c2723fdc8d7d06",
        "IPY_MODEL_b1cbaefc7f5d4288ba0aca99544d1570"
       ],
       "layout": "IPY_MODEL_1bc085c630e146c0b925dcaf1e527601"
      }
     },
     "24b26266170443d7b2d8b3898b400c92": {
      "model_module": "@jupyter-widgets/base",
      "model_module_version": "1.2.0",
      "model_name": "LayoutModel",
      "state": {
       "_model_module": "@jupyter-widgets/base",
       "_model_module_version": "1.2.0",
       "_model_name": "LayoutModel",
       "_view_count": null,
       "_view_module": "@jupyter-widgets/base",
       "_view_module_version": "1.2.0",
       "_view_name": "LayoutView",
       "align_content": null,
       "align_items": null,
       "align_self": null,
       "border": null,
       "bottom": null,
       "display": null,
       "flex": null,
       "flex_flow": null,
       "grid_area": null,
       "grid_auto_columns": null,
       "grid_auto_flow": null,
       "grid_auto_rows": null,
       "grid_column": null,
       "grid_gap": null,
       "grid_row": null,
       "grid_template_areas": null,
       "grid_template_columns": null,
       "grid_template_rows": null,
       "height": null,
       "justify_content": null,
       "justify_items": null,
       "left": null,
       "margin": null,
       "max_height": null,
       "max_width": null,
       "min_height": null,
       "min_width": null,
       "object_fit": null,
       "object_position": null,
       "order": null,
       "overflow": null,
       "overflow_x": null,
       "overflow_y": null,
       "padding": null,
       "right": null,
       "top": null,
       "visibility": null,
       "width": null
      }
     },
     "24e06e67e5af439cb91edebcad2c214e": {
      "model_module": "@jupyter-widgets/controls",
      "model_module_version": "1.5.0",
      "model_name": "DescriptionStyleModel",
      "state": {
       "_model_module": "@jupyter-widgets/controls",
       "_model_module_version": "1.5.0",
       "_model_name": "DescriptionStyleModel",
       "_view_count": null,
       "_view_module": "@jupyter-widgets/base",
       "_view_module_version": "1.2.0",
       "_view_name": "StyleView",
       "description_width": ""
      }
     },
     "26e754248f0647aaa13d9362b8bd8cf1": {
      "model_module": "@jupyter-widgets/controls",
      "model_module_version": "1.5.0",
      "model_name": "HBoxModel",
      "state": {
       "_dom_classes": [],
       "_model_module": "@jupyter-widgets/controls",
       "_model_module_version": "1.5.0",
       "_model_name": "HBoxModel",
       "_view_count": null,
       "_view_module": "@jupyter-widgets/controls",
       "_view_module_version": "1.5.0",
       "_view_name": "HBoxView",
       "box_style": "",
       "children": [
        "IPY_MODEL_5e5131ff5067465791180eba3d78b39a",
        "IPY_MODEL_4ca9a161809b4c42846ab182101e591b",
        "IPY_MODEL_d0aeba6a04824219b2c54470baa9278c"
       ],
       "layout": "IPY_MODEL_5559550e47754030a505dd7217c050d3"
      }
     },
     "2800a92d498d4553b66bd3d98864964b": {
      "model_module": "@jupyter-widgets/output",
      "model_module_version": "1.0.0",
      "model_name": "OutputModel",
      "state": {
       "_dom_classes": [],
       "_model_module": "@jupyter-widgets/output",
       "_model_module_version": "1.0.0",
       "_model_name": "OutputModel",
       "_view_count": null,
       "_view_module": "@jupyter-widgets/output",
       "_view_module_version": "1.0.0",
       "_view_name": "OutputView",
       "layout": "IPY_MODEL_3d27358344c9488094e57cd2d3619780",
       "msg_id": "",
       "outputs": [
        {
         "data": {
          "text/html": "<div>\n<style scoped>\n    .dataframe tbody tr th:only-of-type {\n        vertical-align: middle;\n    }\n\n    .dataframe tbody tr th {\n        vertical-align: top;\n    }\n\n    .dataframe thead th {\n        text-align: right;\n    }\n</style>\n<table border=\"1\" class=\"dataframe\">\n  <thead>\n    <tr style=\"text-align: right;\">\n      <th></th>\n      <th>bigram</th>\n      <th>PMI</th>\n    </tr>\n  </thead>\n  <tbody>\n    <tr>\n      <th>0</th>\n      <td>(aav, birchcliff)</td>\n      <td>20.579585</td>\n    </tr>\n    <tr>\n      <th>564</th>\n      <td>(oneok, oke)</td>\n      <td>20.579585</td>\n    </tr>\n    <tr>\n      <th>566</th>\n      <td>(optagree, optshare)</td>\n      <td>20.579585</td>\n    </tr>\n    <tr>\n      <th>567</th>\n      <td>(optinregistration, optagree)</td>\n      <td>20.579585</td>\n    </tr>\n    <tr>\n      <th>568</th>\n      <td>(ori, hershkovitz)</td>\n      <td>20.579585</td>\n    </tr>\n    <tr>\n      <th>...</th>\n      <td>...</td>\n      <td>...</td>\n    </tr>\n    <tr>\n      <th>620342</th>\n      <td>(new, new)</td>\n      <td>-5.226673</td>\n    </tr>\n    <tr>\n      <th>620343</th>\n      <td>(two, said)</td>\n      <td>-5.265148</td>\n    </tr>\n    <tr>\n      <th>620344</th>\n      <td>(would, year)</td>\n      <td>-5.334727</td>\n    </tr>\n    <tr>\n      <th>620345</th>\n      <td>(bank, percent)</td>\n      <td>-5.358829</td>\n    </tr>\n    <tr>\n      <th>620346</th>\n      <td>(new, said)</td>\n      <td>-6.393078</td>\n    </tr>\n  </tbody>\n</table>\n<p>620347 rows × 2 columns</p>\n</div>",
          "text/plain": "                               bigram        PMI\n0                   (aav, birchcliff)  20.579585\n564                      (oneok, oke)  20.579585\n566              (optagree, optshare)  20.579585\n567     (optinregistration, optagree)  20.579585\n568                (ori, hershkovitz)  20.579585\n...                               ...        ...\n620342                     (new, new)  -5.226673\n620343                    (two, said)  -5.265148\n620344                  (would, year)  -5.334727\n620345                (bank, percent)  -5.358829\n620346                    (new, said)  -6.393078\n\n[620347 rows x 2 columns]"
         },
         "metadata": {},
         "output_type": "display_data"
        }
       ]
      }
     },
     "2ac5f85acce7449893ba306081de8344": {
      "model_module": "@jupyter-widgets/base",
      "model_module_version": "1.2.0",
      "model_name": "LayoutModel",
      "state": {
       "_model_module": "@jupyter-widgets/base",
       "_model_module_version": "1.2.0",
       "_model_name": "LayoutModel",
       "_view_count": null,
       "_view_module": "@jupyter-widgets/base",
       "_view_module_version": "1.2.0",
       "_view_name": "LayoutView",
       "align_content": null,
       "align_items": null,
       "align_self": null,
       "border": null,
       "bottom": null,
       "display": null,
       "flex": null,
       "flex_flow": null,
       "grid_area": null,
       "grid_auto_columns": null,
       "grid_auto_flow": null,
       "grid_auto_rows": null,
       "grid_column": null,
       "grid_gap": null,
       "grid_row": null,
       "grid_template_areas": null,
       "grid_template_columns": null,
       "grid_template_rows": null,
       "height": null,
       "justify_content": null,
       "justify_items": null,
       "left": null,
       "margin": null,
       "max_height": null,
       "max_width": null,
       "min_height": null,
       "min_width": null,
       "object_fit": null,
       "object_position": null,
       "order": null,
       "overflow": null,
       "overflow_x": null,
       "overflow_y": null,
       "padding": null,
       "right": null,
       "top": null,
       "visibility": null,
       "width": null
      }
     },
     "2b4dc7b3562243a393bc9c3ccd28d271": {
      "model_module": "@jupyter-widgets/controls",
      "model_module_version": "1.5.0",
      "model_name": "HBoxModel",
      "state": {
       "_dom_classes": [],
       "_model_module": "@jupyter-widgets/controls",
       "_model_module_version": "1.5.0",
       "_model_name": "HBoxModel",
       "_view_count": null,
       "_view_module": "@jupyter-widgets/controls",
       "_view_module_version": "1.5.0",
       "_view_name": "HBoxView",
       "box_style": "",
       "children": [
        "IPY_MODEL_867db1198c154ae2b0949922f10c9559",
        "IPY_MODEL_eb46695c42eb44449e6242918a70f95f",
        "IPY_MODEL_c822ce834c2c4e1da06a78fd6dd60a72"
       ],
       "layout": "IPY_MODEL_2ddfc138c91749bca44321e590c1510d"
      }
     },
     "2ddfc138c91749bca44321e590c1510d": {
      "model_module": "@jupyter-widgets/base",
      "model_module_version": "1.2.0",
      "model_name": "LayoutModel",
      "state": {
       "_model_module": "@jupyter-widgets/base",
       "_model_module_version": "1.2.0",
       "_model_name": "LayoutModel",
       "_view_count": null,
       "_view_module": "@jupyter-widgets/base",
       "_view_module_version": "1.2.0",
       "_view_name": "LayoutView",
       "align_content": null,
       "align_items": null,
       "align_self": null,
       "border": null,
       "bottom": null,
       "display": null,
       "flex": null,
       "flex_flow": null,
       "grid_area": null,
       "grid_auto_columns": null,
       "grid_auto_flow": null,
       "grid_auto_rows": null,
       "grid_column": null,
       "grid_gap": null,
       "grid_row": null,
       "grid_template_areas": null,
       "grid_template_columns": null,
       "grid_template_rows": null,
       "height": null,
       "justify_content": null,
       "justify_items": null,
       "left": null,
       "margin": null,
       "max_height": null,
       "max_width": null,
       "min_height": null,
       "min_width": null,
       "object_fit": null,
       "object_position": null,
       "order": null,
       "overflow": null,
       "overflow_x": null,
       "overflow_y": null,
       "padding": null,
       "right": null,
       "top": null,
       "visibility": null,
       "width": null
      }
     },
     "3725d22d87d14071b8a0059a71723480": {
      "model_module": "@jupyter-widgets/base",
      "model_module_version": "1.2.0",
      "model_name": "LayoutModel",
      "state": {
       "_model_module": "@jupyter-widgets/base",
       "_model_module_version": "1.2.0",
       "_model_name": "LayoutModel",
       "_view_count": null,
       "_view_module": "@jupyter-widgets/base",
       "_view_module_version": "1.2.0",
       "_view_name": "LayoutView",
       "align_content": null,
       "align_items": null,
       "align_self": null,
       "border": null,
       "bottom": null,
       "display": null,
       "flex": null,
       "flex_flow": null,
       "grid_area": null,
       "grid_auto_columns": null,
       "grid_auto_flow": null,
       "grid_auto_rows": null,
       "grid_column": null,
       "grid_gap": null,
       "grid_row": null,
       "grid_template_areas": null,
       "grid_template_columns": null,
       "grid_template_rows": null,
       "height": null,
       "justify_content": null,
       "justify_items": null,
       "left": null,
       "margin": null,
       "max_height": null,
       "max_width": null,
       "min_height": null,
       "min_width": null,
       "object_fit": null,
       "object_position": null,
       "order": null,
       "overflow": null,
       "overflow_x": null,
       "overflow_y": null,
       "padding": null,
       "right": null,
       "top": null,
       "visibility": null,
       "width": null
      }
     },
     "394beb10afcf4fe486626b7b18bfb248": {
      "model_module": "@jupyter-widgets/output",
      "model_module_version": "1.0.0",
      "model_name": "OutputModel",
      "state": {
       "_dom_classes": [],
       "_model_module": "@jupyter-widgets/output",
       "_model_module_version": "1.0.0",
       "_model_name": "OutputModel",
       "_view_count": null,
       "_view_module": "@jupyter-widgets/output",
       "_view_module_version": "1.0.0",
       "_view_name": "OutputView",
       "layout": "IPY_MODEL_bc8c1dfc9c884933948fb8be9cab90c9",
       "msg_id": "",
       "outputs": [
        {
         "data": {
          "text/html": "<div>\n<style scoped>\n    .dataframe tbody tr th:only-of-type {\n        vertical-align: middle;\n    }\n\n    .dataframe tbody tr th {\n        vertical-align: top;\n    }\n\n    .dataframe thead th {\n        text-align: right;\n    }\n</style>\n<table border=\"1\" class=\"dataframe\">\n  <thead>\n    <tr style=\"text-align: right;\">\n      <th></th>\n      <th>bigram</th>\n      <th>PMI</th>\n    </tr>\n  </thead>\n  <tbody>\n    <tr>\n      <th>0</th>\n      <td>(according, draft)</td>\n      <td>7.851749</td>\n    </tr>\n    <tr>\n      <th>69</th>\n      <td>(rolling, back)</td>\n      <td>7.851749</td>\n    </tr>\n    <tr>\n      <th>67</th>\n      <td>(revolution, sea)</td>\n      <td>7.851749</td>\n    </tr>\n    <tr>\n      <th>66</th>\n      <td>(reversed, scenario)</td>\n      <td>7.851749</td>\n    </tr>\n    <tr>\n      <th>65</th>\n      <td>(resume, three)</td>\n      <td>7.851749</td>\n    </tr>\n    <tr>\n      <th>...</th>\n      <td>...</td>\n      <td>...</td>\n    </tr>\n    <tr>\n      <th>220</th>\n      <td>(ipcc, assessment)</td>\n      <td>4.681824</td>\n    </tr>\n    <tr>\n      <th>221</th>\n      <td>(panel, climate)</td>\n      <td>3.944858</td>\n    </tr>\n    <tr>\n      <th>222</th>\n      <td>(source, climate)</td>\n      <td>3.944858</td>\n    </tr>\n    <tr>\n      <th>223</th>\n      <td>(report, copenhagen)</td>\n      <td>3.851749</td>\n    </tr>\n    <tr>\n      <th>224</th>\n      <td>(un, report)</td>\n      <td>2.851749</td>\n    </tr>\n  </tbody>\n</table>\n<p>225 rows × 2 columns</p>\n</div>",
          "text/plain": "                   bigram       PMI\n0      (according, draft)  7.851749\n69        (rolling, back)  7.851749\n67      (revolution, sea)  7.851749\n66   (reversed, scenario)  7.851749\n65        (resume, three)  7.851749\n..                    ...       ...\n220    (ipcc, assessment)  4.681824\n221      (panel, climate)  3.944858\n222     (source, climate)  3.944858\n223  (report, copenhagen)  3.851749\n224          (un, report)  2.851749\n\n[225 rows x 2 columns]"
         },
         "metadata": {},
         "output_type": "display_data"
        }
       ]
      }
     },
     "3a945421b7d5474c8688b7fc89201870": {
      "model_module": "@jupyter-widgets/controls",
      "model_module_version": "1.5.0",
      "model_name": "HBoxModel",
      "state": {
       "_dom_classes": [],
       "_model_module": "@jupyter-widgets/controls",
       "_model_module_version": "1.5.0",
       "_model_name": "HBoxModel",
       "_view_count": null,
       "_view_module": "@jupyter-widgets/controls",
       "_view_module_version": "1.5.0",
       "_view_name": "HBoxView",
       "box_style": "",
       "children": [
        "IPY_MODEL_bc7a71ffe4704f3f821a1252e4950a13",
        "IPY_MODEL_be073ca62df5433b87362db5b81c19e2"
       ],
       "layout": "IPY_MODEL_d9f49d46214e4486a64ba0446278d486"
      }
     },
     "3aa0b735d1f248358626e8d487d00b6e": {
      "model_module": "@jupyter-widgets/controls",
      "model_module_version": "1.5.0",
      "model_name": "HTMLModel",
      "state": {
       "_dom_classes": [],
       "_model_module": "@jupyter-widgets/controls",
       "_model_module_version": "1.5.0",
       "_model_name": "HTMLModel",
       "_view_count": null,
       "_view_module": "@jupyter-widgets/controls",
       "_view_module_version": "1.5.0",
       "_view_name": "HTMLView",
       "description": "",
       "description_tooltip": null,
       "layout": "IPY_MODEL_24b26266170443d7b2d8b3898b400c92",
       "placeholder": "​",
       "style": "IPY_MODEL_a7edfbeec531404e96fcdf682b8986db",
       "value": " 466k/466k [00:00&lt;00:00, 5.31MB/s]"
      }
     },
     "3c605083dcfc49b0a2e7c7cf160a6f59": {
      "model_module": "@jupyter-widgets/base",
      "model_module_version": "1.2.0",
      "model_name": "LayoutModel",
      "state": {
       "_model_module": "@jupyter-widgets/base",
       "_model_module_version": "1.2.0",
       "_model_name": "LayoutModel",
       "_view_count": null,
       "_view_module": "@jupyter-widgets/base",
       "_view_module_version": "1.2.0",
       "_view_name": "LayoutView",
       "align_content": null,
       "align_items": null,
       "align_self": null,
       "border": null,
       "bottom": null,
       "display": null,
       "flex": null,
       "flex_flow": null,
       "grid_area": null,
       "grid_auto_columns": null,
       "grid_auto_flow": null,
       "grid_auto_rows": null,
       "grid_column": null,
       "grid_gap": null,
       "grid_row": null,
       "grid_template_areas": null,
       "grid_template_columns": null,
       "grid_template_rows": null,
       "height": null,
       "justify_content": null,
       "justify_items": null,
       "left": null,
       "margin": null,
       "max_height": null,
       "max_width": null,
       "min_height": null,
       "min_width": null,
       "object_fit": null,
       "object_position": null,
       "order": null,
       "overflow": null,
       "overflow_x": null,
       "overflow_y": null,
       "padding": null,
       "right": null,
       "top": null,
       "visibility": null,
       "width": null
      }
     },
     "3d27358344c9488094e57cd2d3619780": {
      "model_module": "@jupyter-widgets/base",
      "model_module_version": "1.2.0",
      "model_name": "LayoutModel",
      "state": {
       "_model_module": "@jupyter-widgets/base",
       "_model_module_version": "1.2.0",
       "_model_name": "LayoutModel",
       "_view_count": null,
       "_view_module": "@jupyter-widgets/base",
       "_view_module_version": "1.2.0",
       "_view_name": "LayoutView",
       "align_content": null,
       "align_items": null,
       "align_self": null,
       "border": null,
       "bottom": null,
       "display": null,
       "flex": null,
       "flex_flow": null,
       "grid_area": null,
       "grid_auto_columns": null,
       "grid_auto_flow": null,
       "grid_auto_rows": null,
       "grid_column": null,
       "grid_gap": null,
       "grid_row": null,
       "grid_template_areas": null,
       "grid_template_columns": null,
       "grid_template_rows": null,
       "height": null,
       "justify_content": null,
       "justify_items": null,
       "left": null,
       "margin": null,
       "max_height": null,
       "max_width": null,
       "min_height": null,
       "min_width": null,
       "object_fit": null,
       "object_position": null,
       "order": null,
       "overflow": null,
       "overflow_x": null,
       "overflow_y": null,
       "padding": null,
       "right": null,
       "top": null,
       "visibility": null,
       "width": null
      }
     },
     "3f0ca017348242879a6d8eacf10ad2f9": {
      "model_module": "@jupyter-widgets/base",
      "model_module_version": "1.2.0",
      "model_name": "LayoutModel",
      "state": {
       "_model_module": "@jupyter-widgets/base",
       "_model_module_version": "1.2.0",
       "_model_name": "LayoutModel",
       "_view_count": null,
       "_view_module": "@jupyter-widgets/base",
       "_view_module_version": "1.2.0",
       "_view_name": "LayoutView",
       "align_content": null,
       "align_items": null,
       "align_self": null,
       "border": null,
       "bottom": null,
       "display": null,
       "flex": null,
       "flex_flow": null,
       "grid_area": null,
       "grid_auto_columns": null,
       "grid_auto_flow": null,
       "grid_auto_rows": null,
       "grid_column": null,
       "grid_gap": null,
       "grid_row": null,
       "grid_template_areas": null,
       "grid_template_columns": null,
       "grid_template_rows": null,
       "height": null,
       "justify_content": null,
       "justify_items": null,
       "left": null,
       "margin": null,
       "max_height": null,
       "max_width": null,
       "min_height": null,
       "min_width": null,
       "object_fit": null,
       "object_position": null,
       "order": null,
       "overflow": null,
       "overflow_x": null,
       "overflow_y": null,
       "padding": null,
       "right": null,
       "top": null,
       "visibility": null,
       "width": null
      }
     },
     "43c36b1d223f4ceabff16c08ec48db55": {
      "model_module": "@jupyter-widgets/controls",
      "model_module_version": "1.5.0",
      "model_name": "HTMLModel",
      "state": {
       "_dom_classes": [],
       "_model_module": "@jupyter-widgets/controls",
       "_model_module_version": "1.5.0",
       "_model_name": "HTMLModel",
       "_view_count": null,
       "_view_module": "@jupyter-widgets/controls",
       "_view_module_version": "1.5.0",
       "_view_name": "HTMLView",
       "description": "",
       "description_tooltip": null,
       "layout": "IPY_MODEL_9c14454b74184bb7803c2b353c67002d",
       "placeholder": "​",
       "style": "IPY_MODEL_a829d17f28f94ba0b4d72c1f9acb6e33",
       "value": " 232k/232k [00:00&lt;00:00, 3.41MB/s]"
      }
     },
     "43da1c093fa94ca0a74ae64244118536": {
      "model_module": "@jupyter-widgets/base",
      "model_module_version": "1.2.0",
      "model_name": "LayoutModel",
      "state": {
       "_model_module": "@jupyter-widgets/base",
       "_model_module_version": "1.2.0",
       "_model_name": "LayoutModel",
       "_view_count": null,
       "_view_module": "@jupyter-widgets/base",
       "_view_module_version": "1.2.0",
       "_view_name": "LayoutView",
       "align_content": null,
       "align_items": null,
       "align_self": null,
       "border": null,
       "bottom": null,
       "display": null,
       "flex": null,
       "flex_flow": null,
       "grid_area": null,
       "grid_auto_columns": null,
       "grid_auto_flow": null,
       "grid_auto_rows": null,
       "grid_column": null,
       "grid_gap": null,
       "grid_row": null,
       "grid_template_areas": null,
       "grid_template_columns": null,
       "grid_template_rows": null,
       "height": null,
       "justify_content": null,
       "justify_items": null,
       "left": null,
       "margin": null,
       "max_height": null,
       "max_width": null,
       "min_height": null,
       "min_width": null,
       "object_fit": null,
       "object_position": null,
       "order": null,
       "overflow": null,
       "overflow_x": null,
       "overflow_y": null,
       "padding": null,
       "right": null,
       "top": null,
       "visibility": null,
       "width": null
      }
     },
     "43ed678a365f4b74bd2e39b64989b5ae": {
      "model_module": "@jupyter-widgets/base",
      "model_module_version": "1.2.0",
      "model_name": "LayoutModel",
      "state": {
       "_model_module": "@jupyter-widgets/base",
       "_model_module_version": "1.2.0",
       "_model_name": "LayoutModel",
       "_view_count": null,
       "_view_module": "@jupyter-widgets/base",
       "_view_module_version": "1.2.0",
       "_view_name": "LayoutView",
       "align_content": null,
       "align_items": null,
       "align_self": null,
       "border": null,
       "bottom": null,
       "display": null,
       "flex": null,
       "flex_flow": null,
       "grid_area": null,
       "grid_auto_columns": null,
       "grid_auto_flow": null,
       "grid_auto_rows": null,
       "grid_column": null,
       "grid_gap": null,
       "grid_row": null,
       "grid_template_areas": null,
       "grid_template_columns": null,
       "grid_template_rows": null,
       "height": null,
       "justify_content": null,
       "justify_items": null,
       "left": null,
       "margin": null,
       "max_height": null,
       "max_width": null,
       "min_height": null,
       "min_width": null,
       "object_fit": null,
       "object_position": null,
       "order": null,
       "overflow": null,
       "overflow_x": null,
       "overflow_y": null,
       "padding": null,
       "right": null,
       "top": null,
       "visibility": null,
       "width": null
      }
     },
     "454158cfbef5491b8501ff164479d926": {
      "model_module": "@jupyter-widgets/controls",
      "model_module_version": "1.5.0",
      "model_name": "DescriptionStyleModel",
      "state": {
       "_model_module": "@jupyter-widgets/controls",
       "_model_module_version": "1.5.0",
       "_model_name": "DescriptionStyleModel",
       "_view_count": null,
       "_view_module": "@jupyter-widgets/base",
       "_view_module_version": "1.2.0",
       "_view_name": "StyleView",
       "description_width": ""
      }
     },
     "46bea36429a94d0bb1979985f921202a": {
      "model_module": "@jupyter-widgets/base",
      "model_module_version": "1.2.0",
      "model_name": "LayoutModel",
      "state": {
       "_model_module": "@jupyter-widgets/base",
       "_model_module_version": "1.2.0",
       "_model_name": "LayoutModel",
       "_view_count": null,
       "_view_module": "@jupyter-widgets/base",
       "_view_module_version": "1.2.0",
       "_view_name": "LayoutView",
       "align_content": null,
       "align_items": null,
       "align_self": null,
       "border": null,
       "bottom": null,
       "display": null,
       "flex": null,
       "flex_flow": null,
       "grid_area": null,
       "grid_auto_columns": null,
       "grid_auto_flow": null,
       "grid_auto_rows": null,
       "grid_column": null,
       "grid_gap": null,
       "grid_row": null,
       "grid_template_areas": null,
       "grid_template_columns": null,
       "grid_template_rows": null,
       "height": null,
       "justify_content": null,
       "justify_items": null,
       "left": null,
       "margin": null,
       "max_height": null,
       "max_width": null,
       "min_height": null,
       "min_width": null,
       "object_fit": null,
       "object_position": null,
       "order": null,
       "overflow": null,
       "overflow_x": null,
       "overflow_y": null,
       "padding": null,
       "right": null,
       "top": null,
       "visibility": null,
       "width": null
      }
     },
     "47e106d4d4374120bd9ca29553d7238a": {
      "model_module": "@jupyter-widgets/controls",
      "model_module_version": "1.5.0",
      "model_name": "HBoxModel",
      "state": {
       "_dom_classes": [],
       "_model_module": "@jupyter-widgets/controls",
       "_model_module_version": "1.5.0",
       "_model_name": "HBoxModel",
       "_view_count": null,
       "_view_module": "@jupyter-widgets/controls",
       "_view_module_version": "1.5.0",
       "_view_name": "HBoxView",
       "box_style": "",
       "children": [
        "IPY_MODEL_08efa5466f214b40802eded692d9e291",
        "IPY_MODEL_50939802147a4347ae1a79d932e60b3f",
        "IPY_MODEL_3aa0b735d1f248358626e8d487d00b6e"
       ],
       "layout": "IPY_MODEL_a989231707f44a9c99b87bbfcc84168c"
      }
     },
     "4c619e15955743968e742e0e8c2e1e7d": {
      "model_module": "@jupyter-widgets/base",
      "model_module_version": "1.2.0",
      "model_name": "LayoutModel",
      "state": {
       "_model_module": "@jupyter-widgets/base",
       "_model_module_version": "1.2.0",
       "_model_name": "LayoutModel",
       "_view_count": null,
       "_view_module": "@jupyter-widgets/base",
       "_view_module_version": "1.2.0",
       "_view_name": "LayoutView",
       "align_content": null,
       "align_items": null,
       "align_self": null,
       "border": null,
       "bottom": null,
       "display": null,
       "flex": null,
       "flex_flow": null,
       "grid_area": null,
       "grid_auto_columns": null,
       "grid_auto_flow": null,
       "grid_auto_rows": null,
       "grid_column": null,
       "grid_gap": null,
       "grid_row": null,
       "grid_template_areas": null,
       "grid_template_columns": null,
       "grid_template_rows": null,
       "height": null,
       "justify_content": null,
       "justify_items": null,
       "left": null,
       "margin": null,
       "max_height": null,
       "max_width": null,
       "min_height": null,
       "min_width": null,
       "object_fit": null,
       "object_position": null,
       "order": null,
       "overflow": null,
       "overflow_x": null,
       "overflow_y": null,
       "padding": null,
       "right": null,
       "top": null,
       "visibility": null,
       "width": null
      }
     },
     "4ca9a161809b4c42846ab182101e591b": {
      "model_module": "@jupyter-widgets/controls",
      "model_module_version": "1.5.0",
      "model_name": "FloatProgressModel",
      "state": {
       "_dom_classes": [],
       "_model_module": "@jupyter-widgets/controls",
       "_model_module_version": "1.5.0",
       "_model_name": "FloatProgressModel",
       "_view_count": null,
       "_view_module": "@jupyter-widgets/controls",
       "_view_module_version": "1.5.0",
       "_view_name": "ProgressView",
       "bar_style": "success",
       "description": "",
       "description_tooltip": null,
       "layout": "IPY_MODEL_d4888c3d28954398996a06ff87ca9770",
       "max": 28.0,
       "min": 0.0,
       "orientation": "horizontal",
       "style": "IPY_MODEL_85706743b05145dcb74b1c2bb758cbdc",
       "value": 28.0
      }
     },
     "50939802147a4347ae1a79d932e60b3f": {
      "model_module": "@jupyter-widgets/controls",
      "model_module_version": "1.5.0",
      "model_name": "FloatProgressModel",
      "state": {
       "_dom_classes": [],
       "_model_module": "@jupyter-widgets/controls",
       "_model_module_version": "1.5.0",
       "_model_name": "FloatProgressModel",
       "_view_count": null,
       "_view_module": "@jupyter-widgets/controls",
       "_view_module_version": "1.5.0",
       "_view_name": "ProgressView",
       "bar_style": "success",
       "description": "",
       "description_tooltip": null,
       "layout": "IPY_MODEL_9555ab87d9584344bf840777a66fdc8d",
       "max": 466062.0,
       "min": 0.0,
       "orientation": "horizontal",
       "style": "IPY_MODEL_b13529f132374e469049ea0fac81f1ea",
       "value": 466062.0
      }
     },
     "5528ea6b59d44aad9582f5d6f2798b68": {
      "model_module": "@jupyter-widgets/controls",
      "model_module_version": "1.5.0",
      "model_name": "DescriptionStyleModel",
      "state": {
       "_model_module": "@jupyter-widgets/controls",
       "_model_module_version": "1.5.0",
       "_model_name": "DescriptionStyleModel",
       "_view_count": null,
       "_view_module": "@jupyter-widgets/base",
       "_view_module_version": "1.2.0",
       "_view_name": "StyleView",
       "description_width": ""
      }
     },
     "5559550e47754030a505dd7217c050d3": {
      "model_module": "@jupyter-widgets/base",
      "model_module_version": "1.2.0",
      "model_name": "LayoutModel",
      "state": {
       "_model_module": "@jupyter-widgets/base",
       "_model_module_version": "1.2.0",
       "_model_name": "LayoutModel",
       "_view_count": null,
       "_view_module": "@jupyter-widgets/base",
       "_view_module_version": "1.2.0",
       "_view_name": "LayoutView",
       "align_content": null,
       "align_items": null,
       "align_self": null,
       "border": null,
       "bottom": null,
       "display": null,
       "flex": null,
       "flex_flow": null,
       "grid_area": null,
       "grid_auto_columns": null,
       "grid_auto_flow": null,
       "grid_auto_rows": null,
       "grid_column": null,
       "grid_gap": null,
       "grid_row": null,
       "grid_template_areas": null,
       "grid_template_columns": null,
       "grid_template_rows": null,
       "height": null,
       "justify_content": null,
       "justify_items": null,
       "left": null,
       "margin": null,
       "max_height": null,
       "max_width": null,
       "min_height": null,
       "min_width": null,
       "object_fit": null,
       "object_position": null,
       "order": null,
       "overflow": null,
       "overflow_x": null,
       "overflow_y": null,
       "padding": null,
       "right": null,
       "top": null,
       "visibility": null,
       "width": null
      }
     },
     "587f0ef52ed84ab3bbe2be40fbcaef70": {
      "model_module": "@jupyter-widgets/controls",
      "model_module_version": "1.5.0",
      "model_name": "DescriptionStyleModel",
      "state": {
       "_model_module": "@jupyter-widgets/controls",
       "_model_module_version": "1.5.0",
       "_model_name": "DescriptionStyleModel",
       "_view_count": null,
       "_view_module": "@jupyter-widgets/base",
       "_view_module_version": "1.2.0",
       "_view_name": "StyleView",
       "description_width": ""
      }
     },
     "5e5131ff5067465791180eba3d78b39a": {
      "model_module": "@jupyter-widgets/controls",
      "model_module_version": "1.5.0",
      "model_name": "HTMLModel",
      "state": {
       "_dom_classes": [],
       "_model_module": "@jupyter-widgets/controls",
       "_model_module_version": "1.5.0",
       "_model_name": "HTMLModel",
       "_view_count": null,
       "_view_module": "@jupyter-widgets/controls",
       "_view_module_version": "1.5.0",
       "_view_name": "HTMLView",
       "description": "",
       "description_tooltip": null,
       "layout": "IPY_MODEL_6ef352f11304445bbb11ac2f7c0e0147",
       "placeholder": "​",
       "style": "IPY_MODEL_5528ea6b59d44aad9582f5d6f2798b68",
       "value": "Downloading: 100%"
      }
     },
     "5f70d00c8ab64e5aac233d2941fe7df0": {
      "model_module": "@jupyter-widgets/base",
      "model_module_version": "1.2.0",
      "model_name": "LayoutModel",
      "state": {
       "_model_module": "@jupyter-widgets/base",
       "_model_module_version": "1.2.0",
       "_model_name": "LayoutModel",
       "_view_count": null,
       "_view_module": "@jupyter-widgets/base",
       "_view_module_version": "1.2.0",
       "_view_name": "LayoutView",
       "align_content": null,
       "align_items": null,
       "align_self": null,
       "border": null,
       "bottom": null,
       "display": null,
       "flex": null,
       "flex_flow": null,
       "grid_area": null,
       "grid_auto_columns": null,
       "grid_auto_flow": null,
       "grid_auto_rows": null,
       "grid_column": null,
       "grid_gap": null,
       "grid_row": null,
       "grid_template_areas": null,
       "grid_template_columns": null,
       "grid_template_rows": null,
       "height": null,
       "justify_content": null,
       "justify_items": null,
       "left": null,
       "margin": null,
       "max_height": null,
       "max_width": null,
       "min_height": null,
       "min_width": null,
       "object_fit": null,
       "object_position": null,
       "order": null,
       "overflow": null,
       "overflow_x": null,
       "overflow_y": null,
       "padding": null,
       "right": null,
       "top": null,
       "visibility": null,
       "width": null
      }
     },
     "633fae53f78b452c8e16c5722c07af43": {
      "model_module": "@jupyter-widgets/output",
      "model_module_version": "1.0.0",
      "model_name": "OutputModel",
      "state": {
       "_dom_classes": [],
       "_model_module": "@jupyter-widgets/output",
       "_model_module_version": "1.0.0",
       "_model_name": "OutputModel",
       "_view_count": null,
       "_view_module": "@jupyter-widgets/output",
       "_view_module_version": "1.0.0",
       "_view_name": "OutputView",
       "layout": "IPY_MODEL_7c9f14309b044eafbfca2429a7cc4866",
       "msg_id": "",
       "outputs": [
        {
         "data": {
          "text/html": "<div>\n<style scoped>\n    .dataframe tbody tr th:only-of-type {\n        vertical-align: middle;\n    }\n\n    .dataframe tbody tr th {\n        vertical-align: top;\n    }\n\n    .dataframe thead th {\n        text-align: right;\n    }\n</style>\n<table border=\"1\" class=\"dataframe\">\n  <thead>\n    <tr style=\"text-align: right;\">\n      <th></th>\n      <th>bigram</th>\n      <th>PMI</th>\n    </tr>\n  </thead>\n  <tbody>\n    <tr>\n      <th>0</th>\n      <td>(adopt, data)</td>\n      <td>7.409391</td>\n    </tr>\n    <tr>\n      <th>59</th>\n      <td>(pilot, program)</td>\n      <td>7.409391</td>\n    </tr>\n    <tr>\n      <th>68</th>\n      <td>(really, need)</td>\n      <td>7.409391</td>\n    </tr>\n    <tr>\n      <th>67</th>\n      <td>(rather, excuse)</td>\n      <td>7.409391</td>\n    </tr>\n    <tr>\n      <th>66</th>\n      <td>(quick, adopt)</td>\n      <td>7.409391</td>\n    </tr>\n    <tr>\n      <th>...</th>\n      <td>...</td>\n      <td>...</td>\n    </tr>\n    <tr>\n      <th>164</th>\n      <td>(glass, also)</td>\n      <td>4.087463</td>\n    </tr>\n    <tr>\n      <th>165</th>\n      <td>(medication, patient)</td>\n      <td>3.824428</td>\n    </tr>\n    <tr>\n      <th>166</th>\n      <td>(patient, allergic)</td>\n      <td>3.824428</td>\n    </tr>\n    <tr>\n      <th>167</th>\n      <td>(patient, file)</td>\n      <td>3.824428</td>\n    </tr>\n    <tr>\n      <th>168</th>\n      <td>(glass, horng)</td>\n      <td>3.502500</td>\n    </tr>\n  </tbody>\n</table>\n<p>169 rows × 2 columns</p>\n</div>",
          "text/plain": "                    bigram       PMI\n0            (adopt, data)  7.409391\n59        (pilot, program)  7.409391\n68          (really, need)  7.409391\n67        (rather, excuse)  7.409391\n66          (quick, adopt)  7.409391\n..                     ...       ...\n164          (glass, also)  4.087463\n165  (medication, patient)  3.824428\n166    (patient, allergic)  3.824428\n167        (patient, file)  3.824428\n168         (glass, horng)  3.502500\n\n[169 rows x 2 columns]"
         },
         "metadata": {},
         "output_type": "display_data"
        }
       ]
      }
     },
     "63e06dfc921b4379ace53152f2a3c8a5": {
      "model_module": "@jupyter-widgets/controls",
      "model_module_version": "1.5.0",
      "model_name": "HTMLModel",
      "state": {
       "_dom_classes": [],
       "_model_module": "@jupyter-widgets/controls",
       "_model_module_version": "1.5.0",
       "_model_name": "HTMLModel",
       "_view_count": null,
       "_view_module": "@jupyter-widgets/controls",
       "_view_module_version": "1.5.0",
       "_view_name": "HTMLView",
       "description": "",
       "description_tooltip": null,
       "layout": "IPY_MODEL_ea2e3dc564f8468795e52ebefc86e7a5",
       "placeholder": "​",
       "style": "IPY_MODEL_587f0ef52ed84ab3bbe2be40fbcaef70",
       "value": "Downloading: 100%"
      }
     },
     "64ec03e9a58b418fb15287e53a75d300": {
      "model_module": "@jupyter-widgets/base",
      "model_module_version": "1.2.0",
      "model_name": "LayoutModel",
      "state": {
       "_model_module": "@jupyter-widgets/base",
       "_model_module_version": "1.2.0",
       "_model_name": "LayoutModel",
       "_view_count": null,
       "_view_module": "@jupyter-widgets/base",
       "_view_module_version": "1.2.0",
       "_view_name": "LayoutView",
       "align_content": null,
       "align_items": null,
       "align_self": null,
       "border": null,
       "bottom": null,
       "display": null,
       "flex": null,
       "flex_flow": null,
       "grid_area": null,
       "grid_auto_columns": null,
       "grid_auto_flow": null,
       "grid_auto_rows": null,
       "grid_column": null,
       "grid_gap": null,
       "grid_row": null,
       "grid_template_areas": null,
       "grid_template_columns": null,
       "grid_template_rows": null,
       "height": null,
       "justify_content": null,
       "justify_items": null,
       "left": null,
       "margin": null,
       "max_height": null,
       "max_width": null,
       "min_height": null,
       "min_width": null,
       "object_fit": null,
       "object_position": null,
       "order": null,
       "overflow": null,
       "overflow_x": null,
       "overflow_y": null,
       "padding": null,
       "right": null,
       "top": null,
       "visibility": null,
       "width": null
      }
     },
     "6c9ecf2215ed421c8c20caca45d0f831": {
      "model_module": "@jupyter-widgets/output",
      "model_module_version": "1.0.0",
      "model_name": "OutputModel",
      "state": {
       "_dom_classes": [],
       "_model_module": "@jupyter-widgets/output",
       "_model_module_version": "1.0.0",
       "_model_name": "OutputModel",
       "_view_count": null,
       "_view_module": "@jupyter-widgets/output",
       "_view_module_version": "1.0.0",
       "_view_name": "OutputView",
       "layout": "IPY_MODEL_2ac5f85acce7449893ba306081de8344",
       "msg_id": "",
       "outputs": [
        {
         "data": {
          "text/html": "<div>\n<style scoped>\n    .dataframe tbody tr th:only-of-type {\n        vertical-align: middle;\n    }\n\n    .dataframe tbody tr th {\n        vertical-align: top;\n    }\n\n    .dataframe thead th {\n        text-align: right;\n    }\n</style>\n<table border=\"1\" class=\"dataframe\">\n  <thead>\n    <tr style=\"text-align: right;\">\n      <th></th>\n      <th>trigram</th>\n      <th>PMI</th>\n    </tr>\n  </thead>\n  <tbody>\n    <tr>\n      <th>0</th>\n      <td>(according, draft, seen)</td>\n      <td>15.703498</td>\n    </tr>\n    <tr>\n      <th>44</th>\n      <td>(risk, conflict, hunger)</td>\n      <td>15.703498</td>\n    </tr>\n    <tr>\n      <th>32</th>\n      <td>(march, yokohama, japan)</td>\n      <td>15.703498</td>\n    </tr>\n    <tr>\n      <th>33</th>\n      <td>(mass, displacement, increased)</td>\n      <td>15.703498</td>\n    </tr>\n    <tr>\n      <th>34</th>\n      <td>(member, vow, complete)</td>\n      <td>15.703498</td>\n    </tr>\n    <tr>\n      <th>...</th>\n      <td>...</td>\n      <td>...</td>\n    </tr>\n    <tr>\n      <th>224</th>\n      <td>(panel, climate, change)</td>\n      <td>10.211645</td>\n    </tr>\n    <tr>\n      <th>225</th>\n      <td>(source, climate, change)</td>\n      <td>10.211645</td>\n    </tr>\n    <tr>\n      <th>226</th>\n      <td>(last, assessment, report)</td>\n      <td>10.118536</td>\n    </tr>\n    <tr>\n      <th>227</th>\n      <td>(approved, un, report)</td>\n      <td>9.703498</td>\n    </tr>\n    <tr>\n      <th>228</th>\n      <td>(ipcc, assessment, report)</td>\n      <td>9.533573</td>\n    </tr>\n  </tbody>\n</table>\n<p>229 rows × 2 columns</p>\n</div>",
          "text/plain": "                             trigram        PMI\n0           (according, draft, seen)  15.703498\n44          (risk, conflict, hunger)  15.703498\n32          (march, yokohama, japan)  15.703498\n33   (mass, displacement, increased)  15.703498\n34           (member, vow, complete)  15.703498\n..                               ...        ...\n224         (panel, climate, change)  10.211645\n225        (source, climate, change)  10.211645\n226       (last, assessment, report)  10.118536\n227           (approved, un, report)   9.703498\n228       (ipcc, assessment, report)   9.533573\n\n[229 rows x 2 columns]"
         },
         "metadata": {},
         "output_type": "display_data"
        }
       ]
      }
     },
     "6ce612c3eeb6486ca407cebbb1bc9fa3": {
      "model_module": "@jupyter-widgets/controls",
      "model_module_version": "1.5.0",
      "model_name": "HTMLModel",
      "state": {
       "_dom_classes": [],
       "_model_module": "@jupyter-widgets/controls",
       "_model_module_version": "1.5.0",
       "_model_name": "HTMLModel",
       "_view_count": null,
       "_view_module": "@jupyter-widgets/controls",
       "_view_module_version": "1.5.0",
       "_view_name": "HTMLView",
       "description": "",
       "description_tooltip": null,
       "layout": "IPY_MODEL_43da1c093fa94ca0a74ae64244118536",
       "placeholder": "​",
       "style": "IPY_MODEL_d47460070d534c35a38043d0be70caf2",
       "value": "Downloading: 100%"
      }
     },
     "6ef352f11304445bbb11ac2f7c0e0147": {
      "model_module": "@jupyter-widgets/base",
      "model_module_version": "1.2.0",
      "model_name": "LayoutModel",
      "state": {
       "_model_module": "@jupyter-widgets/base",
       "_model_module_version": "1.2.0",
       "_model_name": "LayoutModel",
       "_view_count": null,
       "_view_module": "@jupyter-widgets/base",
       "_view_module_version": "1.2.0",
       "_view_name": "LayoutView",
       "align_content": null,
       "align_items": null,
       "align_self": null,
       "border": null,
       "bottom": null,
       "display": null,
       "flex": null,
       "flex_flow": null,
       "grid_area": null,
       "grid_auto_columns": null,
       "grid_auto_flow": null,
       "grid_auto_rows": null,
       "grid_column": null,
       "grid_gap": null,
       "grid_row": null,
       "grid_template_areas": null,
       "grid_template_columns": null,
       "grid_template_rows": null,
       "height": null,
       "justify_content": null,
       "justify_items": null,
       "left": null,
       "margin": null,
       "max_height": null,
       "max_width": null,
       "min_height": null,
       "min_width": null,
       "object_fit": null,
       "object_position": null,
       "order": null,
       "overflow": null,
       "overflow_x": null,
       "overflow_y": null,
       "padding": null,
       "right": null,
       "top": null,
       "visibility": null,
       "width": null
      }
     },
     "7200481231424fcab13c4ebb540d7de3": {
      "model_module": "@jupyter-widgets/base",
      "model_module_version": "1.2.0",
      "model_name": "LayoutModel",
      "state": {
       "_model_module": "@jupyter-widgets/base",
       "_model_module_version": "1.2.0",
       "_model_name": "LayoutModel",
       "_view_count": null,
       "_view_module": "@jupyter-widgets/base",
       "_view_module_version": "1.2.0",
       "_view_name": "LayoutView",
       "align_content": null,
       "align_items": null,
       "align_self": null,
       "border": null,
       "bottom": null,
       "display": null,
       "flex": null,
       "flex_flow": null,
       "grid_area": null,
       "grid_auto_columns": null,
       "grid_auto_flow": null,
       "grid_auto_rows": null,
       "grid_column": null,
       "grid_gap": null,
       "grid_row": null,
       "grid_template_areas": null,
       "grid_template_columns": null,
       "grid_template_rows": null,
       "height": null,
       "justify_content": null,
       "justify_items": null,
       "left": null,
       "margin": null,
       "max_height": null,
       "max_width": null,
       "min_height": null,
       "min_width": null,
       "object_fit": null,
       "object_position": null,
       "order": null,
       "overflow": null,
       "overflow_x": null,
       "overflow_y": null,
       "padding": null,
       "right": null,
       "top": null,
       "visibility": null,
       "width": null
      }
     },
     "73d43181986244c9ab3f9e8dec235495": {
      "model_module": "@jupyter-widgets/controls",
      "model_module_version": "1.5.0",
      "model_name": "DescriptionStyleModel",
      "state": {
       "_model_module": "@jupyter-widgets/controls",
       "_model_module_version": "1.5.0",
       "_model_name": "DescriptionStyleModel",
       "_view_count": null,
       "_view_module": "@jupyter-widgets/base",
       "_view_module_version": "1.2.0",
       "_view_name": "StyleView",
       "description_width": ""
      }
     },
     "7c9f14309b044eafbfca2429a7cc4866": {
      "model_module": "@jupyter-widgets/base",
      "model_module_version": "1.2.0",
      "model_name": "LayoutModel",
      "state": {
       "_model_module": "@jupyter-widgets/base",
       "_model_module_version": "1.2.0",
       "_model_name": "LayoutModel",
       "_view_count": null,
       "_view_module": "@jupyter-widgets/base",
       "_view_module_version": "1.2.0",
       "_view_name": "LayoutView",
       "align_content": null,
       "align_items": null,
       "align_self": null,
       "border": null,
       "bottom": null,
       "display": null,
       "flex": null,
       "flex_flow": null,
       "grid_area": null,
       "grid_auto_columns": null,
       "grid_auto_flow": null,
       "grid_auto_rows": null,
       "grid_column": null,
       "grid_gap": null,
       "grid_row": null,
       "grid_template_areas": null,
       "grid_template_columns": null,
       "grid_template_rows": null,
       "height": null,
       "justify_content": null,
       "justify_items": null,
       "left": null,
       "margin": null,
       "max_height": null,
       "max_width": null,
       "min_height": null,
       "min_width": null,
       "object_fit": null,
       "object_position": null,
       "order": null,
       "overflow": null,
       "overflow_x": null,
       "overflow_y": null,
       "padding": null,
       "right": null,
       "top": null,
       "visibility": null,
       "width": null
      }
     },
     "7e15497ea8e74f5ca3d9192a13700662": {
      "model_module": "@jupyter-widgets/output",
      "model_module_version": "1.0.0",
      "model_name": "OutputModel",
      "state": {
       "_dom_classes": [],
       "_model_module": "@jupyter-widgets/output",
       "_model_module_version": "1.0.0",
       "_model_name": "OutputModel",
       "_view_count": null,
       "_view_module": "@jupyter-widgets/output",
       "_view_module_version": "1.0.0",
       "_view_name": "OutputView",
       "layout": "IPY_MODEL_3c605083dcfc49b0a2e7c7cf160a6f59",
       "msg_id": "",
       "outputs": [
        {
         "data": {
          "text/html": "<div>\n<style scoped>\n    .dataframe tbody tr th:only-of-type {\n        vertical-align: middle;\n    }\n\n    .dataframe tbody tr th {\n        vertical-align: top;\n    }\n\n    .dataframe thead th {\n        text-align: right;\n    }\n</style>\n<table border=\"1\" class=\"dataframe\">\n  <thead>\n    <tr style=\"text-align: right;\">\n      <th></th>\n      <th>trigram</th>\n      <th>PMI</th>\n    </tr>\n  </thead>\n  <tbody>\n    <tr>\n      <th>0</th>\n      <td>(adopt, data, keeping)</td>\n      <td>14.818782</td>\n    </tr>\n    <tr>\n      <th>45</th>\n      <td>(pilot, program, instituted)</td>\n      <td>14.818782</td>\n    </tr>\n    <tr>\n      <th>51</th>\n      <td>(really, need, tweeting)</td>\n      <td>14.818782</td>\n    </tr>\n    <tr>\n      <th>50</th>\n      <td>(rather, excuse, said)</td>\n      <td>14.818782</td>\n    </tr>\n    <tr>\n      <th>49</th>\n      <td>(quick, adopt, data)</td>\n      <td>14.818782</td>\n    </tr>\n    <tr>\n      <th>...</th>\n      <td>...</td>\n      <td>...</td>\n    </tr>\n    <tr>\n      <th>163</th>\n      <td>(patient, man, allergic)</td>\n      <td>11.233819</td>\n    </tr>\n    <tr>\n      <th>164</th>\n      <td>(glass, horng, reliance)</td>\n      <td>10.911891</td>\n    </tr>\n    <tr>\n      <th>165</th>\n      <td>(google, glass, horng)</td>\n      <td>10.911891</td>\n    </tr>\n    <tr>\n      <th>166</th>\n      <td>(horng, reliance, glass)</td>\n      <td>10.911891</td>\n    </tr>\n    <tr>\n      <th>167</th>\n      <td>(medication, patient, allergic)</td>\n      <td>10.233819</td>\n    </tr>\n  </tbody>\n</table>\n<p>168 rows × 2 columns</p>\n</div>",
          "text/plain": "                             trigram        PMI\n0             (adopt, data, keeping)  14.818782\n45      (pilot, program, instituted)  14.818782\n51          (really, need, tweeting)  14.818782\n50            (rather, excuse, said)  14.818782\n49              (quick, adopt, data)  14.818782\n..                               ...        ...\n163         (patient, man, allergic)  11.233819\n164         (glass, horng, reliance)  10.911891\n165           (google, glass, horng)  10.911891\n166         (horng, reliance, glass)  10.911891\n167  (medication, patient, allergic)  10.233819\n\n[168 rows x 2 columns]"
         },
         "metadata": {},
         "output_type": "display_data"
        }
       ]
      }
     },
     "85706743b05145dcb74b1c2bb758cbdc": {
      "model_module": "@jupyter-widgets/controls",
      "model_module_version": "1.5.0",
      "model_name": "ProgressStyleModel",
      "state": {
       "_model_module": "@jupyter-widgets/controls",
       "_model_module_version": "1.5.0",
       "_model_name": "ProgressStyleModel",
       "_view_count": null,
       "_view_module": "@jupyter-widgets/base",
       "_view_module_version": "1.2.0",
       "_view_name": "StyleView",
       "bar_color": null,
       "description_width": ""
      }
     },
     "867db1198c154ae2b0949922f10c9559": {
      "model_module": "@jupyter-widgets/controls",
      "model_module_version": "1.5.0",
      "model_name": "HTMLModel",
      "state": {
       "_dom_classes": [],
       "_model_module": "@jupyter-widgets/controls",
       "_model_module_version": "1.5.0",
       "_model_name": "HTMLModel",
       "_view_count": null,
       "_view_module": "@jupyter-widgets/controls",
       "_view_module_version": "1.5.0",
       "_view_name": "HTMLView",
       "description": "",
       "description_tooltip": null,
       "layout": "IPY_MODEL_43ed678a365f4b74bd2e39b64989b5ae",
       "placeholder": "​",
       "style": "IPY_MODEL_24e06e67e5af439cb91edebcad2c214e",
       "value": "Downloading: 100%"
      }
     },
     "8e6d679158de4a39b7af5c10ac6acede": {
      "model_module": "@jupyter-widgets/output",
      "model_module_version": "1.0.0",
      "model_name": "OutputModel",
      "state": {
       "_dom_classes": [],
       "_model_module": "@jupyter-widgets/output",
       "_model_module_version": "1.0.0",
       "_model_name": "OutputModel",
       "_view_count": null,
       "_view_module": "@jupyter-widgets/output",
       "_view_module_version": "1.0.0",
       "_view_name": "OutputView",
       "layout": "IPY_MODEL_64ec03e9a58b418fb15287e53a75d300",
       "msg_id": "",
       "outputs": [
        {
         "data": {
          "text/html": "<div>\n<style scoped>\n    .dataframe tbody tr th:only-of-type {\n        vertical-align: middle;\n    }\n\n    .dataframe tbody tr th {\n        vertical-align: top;\n    }\n\n    .dataframe thead th {\n        text-align: right;\n    }\n</style>\n<table border=\"1\" class=\"dataframe\">\n  <thead>\n    <tr style=\"text-align: right;\">\n      <th></th>\n      <th>trigram</th>\n      <th>PMI</th>\n    </tr>\n  </thead>\n  <tbody>\n    <tr>\n      <th>0</th>\n      <td>(allegedly, beat, photographer)</td>\n      <td>12.088788</td>\n    </tr>\n    <tr>\n      <th>1</th>\n      <td>(arrogant, play, much)</td>\n      <td>12.088788</td>\n    </tr>\n    <tr>\n      <th>24</th>\n      <td>(much, role, usher)</td>\n      <td>12.088788</td>\n    </tr>\n    <tr>\n      <th>25</th>\n      <td>(obtained, tmz, canadian)</td>\n      <td>12.088788</td>\n    </tr>\n    <tr>\n      <th>26</th>\n      <td>(old, revealed, feeling)</td>\n      <td>12.088788</td>\n    </tr>\n    <tr>\n      <th>...</th>\n      <td>...</td>\n      <td>...</td>\n    </tr>\n    <tr>\n      <th>59</th>\n      <td>(together, bieber, showed)</td>\n      <td>10.503826</td>\n    </tr>\n    <tr>\n      <th>60</th>\n      <td>(still, video, deposition)</td>\n      <td>10.088788</td>\n    </tr>\n    <tr>\n      <th>61</th>\n      <td>(video, deposition, obtained)</td>\n      <td>10.088788</td>\n    </tr>\n    <tr>\n      <th>62</th>\n      <td>(ask, justin, bieber)</td>\n      <td>9.503826</td>\n    </tr>\n    <tr>\n      <th>63</th>\n      <td>(video, interview, bieber)</td>\n      <td>9.503826</td>\n    </tr>\n  </tbody>\n</table>\n<p>64 rows × 2 columns</p>\n</div>",
          "text/plain": "                            trigram        PMI\n0   (allegedly, beat, photographer)  12.088788\n1            (arrogant, play, much)  12.088788\n24              (much, role, usher)  12.088788\n25        (obtained, tmz, canadian)  12.088788\n26         (old, revealed, feeling)  12.088788\n..                              ...        ...\n59       (together, bieber, showed)  10.503826\n60       (still, video, deposition)  10.088788\n61    (video, deposition, obtained)  10.088788\n62            (ask, justin, bieber)   9.503826\n63       (video, interview, bieber)   9.503826\n\n[64 rows x 2 columns]"
         },
         "metadata": {},
         "output_type": "display_data"
        }
       ]
      }
     },
     "8e991301286948e1949a31372188230b": {
      "model_module": "@jupyter-widgets/controls",
      "model_module_version": "1.5.0",
      "model_name": "FloatProgressModel",
      "state": {
       "_dom_classes": [],
       "_model_module": "@jupyter-widgets/controls",
       "_model_module_version": "1.5.0",
       "_model_name": "FloatProgressModel",
       "_view_count": null,
       "_view_module": "@jupyter-widgets/controls",
       "_view_module_version": "1.5.0",
       "_view_name": "ProgressView",
       "bar_style": "success",
       "description": "",
       "description_tooltip": null,
       "layout": "IPY_MODEL_a4d5dea1982e406c8541dd0afe652a4f",
       "max": 231508.0,
       "min": 0.0,
       "orientation": "horizontal",
       "style": "IPY_MODEL_1fed228759c94e28a24787647f04e4cb",
       "value": 231508.0
      }
     },
     "9016433be6a04700bef7ad8c238d92bd": {
      "model_module": "@jupyter-widgets/base",
      "model_module_version": "1.2.0",
      "model_name": "LayoutModel",
      "state": {
       "_model_module": "@jupyter-widgets/base",
       "_model_module_version": "1.2.0",
       "_model_name": "LayoutModel",
       "_view_count": null,
       "_view_module": "@jupyter-widgets/base",
       "_view_module_version": "1.2.0",
       "_view_name": "LayoutView",
       "align_content": null,
       "align_items": null,
       "align_self": null,
       "border": null,
       "bottom": null,
       "display": null,
       "flex": null,
       "flex_flow": null,
       "grid_area": null,
       "grid_auto_columns": null,
       "grid_auto_flow": null,
       "grid_auto_rows": null,
       "grid_column": null,
       "grid_gap": null,
       "grid_row": null,
       "grid_template_areas": null,
       "grid_template_columns": null,
       "grid_template_rows": null,
       "height": null,
       "justify_content": null,
       "justify_items": null,
       "left": null,
       "margin": null,
       "max_height": null,
       "max_width": null,
       "min_height": null,
       "min_width": null,
       "object_fit": null,
       "object_position": null,
       "order": null,
       "overflow": null,
       "overflow_x": null,
       "overflow_y": null,
       "padding": null,
       "right": null,
       "top": null,
       "visibility": null,
       "width": null
      }
     },
     "9555ab87d9584344bf840777a66fdc8d": {
      "model_module": "@jupyter-widgets/base",
      "model_module_version": "1.2.0",
      "model_name": "LayoutModel",
      "state": {
       "_model_module": "@jupyter-widgets/base",
       "_model_module_version": "1.2.0",
       "_model_name": "LayoutModel",
       "_view_count": null,
       "_view_module": "@jupyter-widgets/base",
       "_view_module_version": "1.2.0",
       "_view_name": "LayoutView",
       "align_content": null,
       "align_items": null,
       "align_self": null,
       "border": null,
       "bottom": null,
       "display": null,
       "flex": null,
       "flex_flow": null,
       "grid_area": null,
       "grid_auto_columns": null,
       "grid_auto_flow": null,
       "grid_auto_rows": null,
       "grid_column": null,
       "grid_gap": null,
       "grid_row": null,
       "grid_template_areas": null,
       "grid_template_columns": null,
       "grid_template_rows": null,
       "height": null,
       "justify_content": null,
       "justify_items": null,
       "left": null,
       "margin": null,
       "max_height": null,
       "max_width": null,
       "min_height": null,
       "min_width": null,
       "object_fit": null,
       "object_position": null,
       "order": null,
       "overflow": null,
       "overflow_x": null,
       "overflow_y": null,
       "padding": null,
       "right": null,
       "top": null,
       "visibility": null,
       "width": null
      }
     },
     "971d9b8b08ea4090ac1ac23b529da618": {
      "model_module": "@jupyter-widgets/controls",
      "model_module_version": "1.5.0",
      "model_name": "HBoxModel",
      "state": {
       "_dom_classes": [],
       "_model_module": "@jupyter-widgets/controls",
       "_model_module_version": "1.5.0",
       "_model_name": "HBoxModel",
       "_view_count": null,
       "_view_module": "@jupyter-widgets/controls",
       "_view_module_version": "1.5.0",
       "_view_name": "HBoxView",
       "box_style": "",
       "children": [
        "IPY_MODEL_2800a92d498d4553b66bd3d98864964b",
        "IPY_MODEL_e81b4c780dc44eaeb497243f3ffa657b"
       ],
       "layout": "IPY_MODEL_3f0ca017348242879a6d8eacf10ad2f9"
      }
     },
     "9c14454b74184bb7803c2b353c67002d": {
      "model_module": "@jupyter-widgets/base",
      "model_module_version": "1.2.0",
      "model_name": "LayoutModel",
      "state": {
       "_model_module": "@jupyter-widgets/base",
       "_model_module_version": "1.2.0",
       "_model_name": "LayoutModel",
       "_view_count": null,
       "_view_module": "@jupyter-widgets/base",
       "_view_module_version": "1.2.0",
       "_view_name": "LayoutView",
       "align_content": null,
       "align_items": null,
       "align_self": null,
       "border": null,
       "bottom": null,
       "display": null,
       "flex": null,
       "flex_flow": null,
       "grid_area": null,
       "grid_auto_columns": null,
       "grid_auto_flow": null,
       "grid_auto_rows": null,
       "grid_column": null,
       "grid_gap": null,
       "grid_row": null,
       "grid_template_areas": null,
       "grid_template_columns": null,
       "grid_template_rows": null,
       "height": null,
       "justify_content": null,
       "justify_items": null,
       "left": null,
       "margin": null,
       "max_height": null,
       "max_width": null,
       "min_height": null,
       "min_width": null,
       "object_fit": null,
       "object_position": null,
       "order": null,
       "overflow": null,
       "overflow_x": null,
       "overflow_y": null,
       "padding": null,
       "right": null,
       "top": null,
       "visibility": null,
       "width": null
      }
     },
     "9c9d42bb87754b27927a0a4694d6f703": {
      "model_module": "@jupyter-widgets/controls",
      "model_module_version": "1.5.0",
      "model_name": "HBoxModel",
      "state": {
       "_dom_classes": [],
       "_model_module": "@jupyter-widgets/controls",
       "_model_module_version": "1.5.0",
       "_model_name": "HBoxModel",
       "_view_count": null,
       "_view_module": "@jupyter-widgets/controls",
       "_view_module_version": "1.5.0",
       "_view_name": "HBoxView",
       "box_style": "",
       "children": [
        "IPY_MODEL_a6b75ea1abf147398fac064be5bcd409",
        "IPY_MODEL_9e5285004e3f4952baec1eecc84bc858"
       ],
       "layout": "IPY_MODEL_46bea36429a94d0bb1979985f921202a"
      }
     },
     "9e5285004e3f4952baec1eecc84bc858": {
      "model_module": "@jupyter-widgets/output",
      "model_module_version": "1.0.0",
      "model_name": "OutputModel",
      "state": {
       "_dom_classes": [],
       "_model_module": "@jupyter-widgets/output",
       "_model_module_version": "1.0.0",
       "_model_name": "OutputModel",
       "_view_count": null,
       "_view_module": "@jupyter-widgets/output",
       "_view_module_version": "1.0.0",
       "_view_name": "OutputView",
       "layout": "IPY_MODEL_3725d22d87d14071b8a0059a71723480",
       "msg_id": "",
       "outputs": [
        {
         "data": {
          "text/html": "<div>\n<style scoped>\n    .dataframe tbody tr th:only-of-type {\n        vertical-align: middle;\n    }\n\n    .dataframe tbody tr th {\n        vertical-align: top;\n    }\n\n    .dataframe thead th {\n        text-align: right;\n    }\n</style>\n<table border=\"1\" class=\"dataframe\">\n  <thead>\n    <tr style=\"text-align: right;\">\n      <th></th>\n      <th>trigram</th>\n      <th>PMI</th>\n    </tr>\n  </thead>\n  <tbody>\n    <tr>\n      <th>0</th>\n      <td>(adenine, guanine, thyamines)</td>\n      <td>42.165119</td>\n    </tr>\n    <tr>\n      <th>104</th>\n      <td>(qvar, beclomethasone, dipropionate)</td>\n      <td>42.165119</td>\n    </tr>\n    <tr>\n      <th>97</th>\n      <td>(plexiform, neurofibroma, pns)</td>\n      <td>42.165119</td>\n    </tr>\n    <tr>\n      <th>98</th>\n      <td>(pogostemon, cablin, tangerine)</td>\n      <td>42.165119</td>\n    </tr>\n    <tr>\n      <th>99</th>\n      <td>(postdoc, manisha, sinha)</td>\n      <td>42.165119</td>\n    </tr>\n    <tr>\n      <th>...</th>\n      <td>...</td>\n      <td>...</td>\n    </tr>\n    <tr>\n      <th>1320354</th>\n      <td>(health, study, health)</td>\n      <td>-0.082000</td>\n    </tr>\n    <tr>\n      <th>1320355</th>\n      <td>(disease, said, said)</td>\n      <td>-0.268914</td>\n    </tr>\n    <tr>\n      <th>1320356</th>\n      <td>(people, said, said)</td>\n      <td>-0.579670</td>\n    </tr>\n    <tr>\n      <th>1320357</th>\n      <td>(said, said, people)</td>\n      <td>-0.579670</td>\n    </tr>\n    <tr>\n      <th>1320358</th>\n      <td>(health, said, said)</td>\n      <td>-0.946765</td>\n    </tr>\n  </tbody>\n</table>\n<p>1320359 rows × 2 columns</p>\n</div>",
          "text/plain": "                                      trigram        PMI\n0               (adenine, guanine, thyamines)  42.165119\n104      (qvar, beclomethasone, dipropionate)  42.165119\n97             (plexiform, neurofibroma, pns)  42.165119\n98            (pogostemon, cablin, tangerine)  42.165119\n99                  (postdoc, manisha, sinha)  42.165119\n...                                       ...        ...\n1320354               (health, study, health)  -0.082000\n1320355                 (disease, said, said)  -0.268914\n1320356                  (people, said, said)  -0.579670\n1320357                  (said, said, people)  -0.579670\n1320358                  (health, said, said)  -0.946765\n\n[1320359 rows x 2 columns]"
         },
         "metadata": {},
         "output_type": "display_data"
        }
       ]
      }
     },
     "9f659755d19048f1b66243f8608abd05": {
      "model_module": "@jupyter-widgets/controls",
      "model_module_version": "1.5.0",
      "model_name": "DescriptionStyleModel",
      "state": {
       "_model_module": "@jupyter-widgets/controls",
       "_model_module_version": "1.5.0",
       "_model_name": "DescriptionStyleModel",
       "_view_count": null,
       "_view_module": "@jupyter-widgets/base",
       "_view_module_version": "1.2.0",
       "_view_name": "StyleView",
       "description_width": ""
      }
     },
     "9f869742d19d46179f4d25a4cc0285f0": {
      "model_module": "@jupyter-widgets/controls",
      "model_module_version": "1.5.0",
      "model_name": "FloatProgressModel",
      "state": {
       "_dom_classes": [],
       "_model_module": "@jupyter-widgets/controls",
       "_model_module_version": "1.5.0",
       "_model_name": "FloatProgressModel",
       "_view_count": null,
       "_view_module": "@jupyter-widgets/controls",
       "_view_module_version": "1.5.0",
       "_view_name": "ProgressView",
       "bar_style": "success",
       "description": "",
       "description_tooltip": null,
       "layout": "IPY_MODEL_ab15d11feca84a2db7111e59d2286709",
       "max": 1344997306.0,
       "min": 0.0,
       "orientation": "horizontal",
       "style": "IPY_MODEL_08f7c011b2f0406bb35ace837fffcda5",
       "value": 1344997306.0
      }
     },
     "a4d5dea1982e406c8541dd0afe652a4f": {
      "model_module": "@jupyter-widgets/base",
      "model_module_version": "1.2.0",
      "model_name": "LayoutModel",
      "state": {
       "_model_module": "@jupyter-widgets/base",
       "_model_module_version": "1.2.0",
       "_model_name": "LayoutModel",
       "_view_count": null,
       "_view_module": "@jupyter-widgets/base",
       "_view_module_version": "1.2.0",
       "_view_name": "LayoutView",
       "align_content": null,
       "align_items": null,
       "align_self": null,
       "border": null,
       "bottom": null,
       "display": null,
       "flex": null,
       "flex_flow": null,
       "grid_area": null,
       "grid_auto_columns": null,
       "grid_auto_flow": null,
       "grid_auto_rows": null,
       "grid_column": null,
       "grid_gap": null,
       "grid_row": null,
       "grid_template_areas": null,
       "grid_template_columns": null,
       "grid_template_rows": null,
       "height": null,
       "justify_content": null,
       "justify_items": null,
       "left": null,
       "margin": null,
       "max_height": null,
       "max_width": null,
       "min_height": null,
       "min_width": null,
       "object_fit": null,
       "object_position": null,
       "order": null,
       "overflow": null,
       "overflow_x": null,
       "overflow_y": null,
       "padding": null,
       "right": null,
       "top": null,
       "visibility": null,
       "width": null
      }
     },
     "a6b75ea1abf147398fac064be5bcd409": {
      "model_module": "@jupyter-widgets/output",
      "model_module_version": "1.0.0",
      "model_name": "OutputModel",
      "state": {
       "_dom_classes": [],
       "_model_module": "@jupyter-widgets/output",
       "_model_module_version": "1.0.0",
       "_model_name": "OutputModel",
       "_view_count": null,
       "_view_module": "@jupyter-widgets/output",
       "_view_module_version": "1.0.0",
       "_view_name": "OutputView",
       "layout": "IPY_MODEL_0134ab8a4c7249408abd7f47f3788b47",
       "msg_id": "",
       "outputs": [
        {
         "data": {
          "text/html": "<div>\n<style scoped>\n    .dataframe tbody tr th:only-of-type {\n        vertical-align: middle;\n    }\n\n    .dataframe tbody tr th {\n        vertical-align: top;\n    }\n\n    .dataframe thead th {\n        text-align: right;\n    }\n</style>\n<table border=\"1\" class=\"dataframe\">\n  <thead>\n    <tr style=\"text-align: right;\">\n      <th></th>\n      <th>bigram</th>\n      <th>PMI</th>\n    </tr>\n  </thead>\n  <tbody>\n    <tr>\n      <th>0</th>\n      <td>(ablum, cchs)</td>\n      <td>21.082560</td>\n    </tr>\n    <tr>\n      <th>728</th>\n      <td>(oon, tek)</td>\n      <td>21.082560</td>\n    </tr>\n    <tr>\n      <th>734</th>\n      <td>(oxkx, wrkwe)</td>\n      <td>21.082560</td>\n    </tr>\n    <tr>\n      <th>733</th>\n      <td>(overwe, ight)</td>\n      <td>21.082560</td>\n    </tr>\n    <tr>\n      <th>732</th>\n      <td>(outfielder, nate)</td>\n      <td>21.082560</td>\n    </tr>\n    <tr>\n      <th>...</th>\n      <td>...</td>\n      <td>...</td>\n    </tr>\n    <tr>\n      <th>783402</th>\n      <td>(blood, said)</td>\n      <td>-5.479722</td>\n    </tr>\n    <tr>\n      <th>783403</th>\n      <td>(also, disease)</td>\n      <td>-5.488286</td>\n    </tr>\n    <tr>\n      <th>783404</th>\n      <td>(health, use)</td>\n      <td>-5.534529</td>\n    </tr>\n    <tr>\n      <th>783405</th>\n      <td>(may, cancer)</td>\n      <td>-5.624547</td>\n    </tr>\n    <tr>\n      <th>783406</th>\n      <td>(e, said)</td>\n      <td>-5.701640</td>\n    </tr>\n  </tbody>\n</table>\n<p>783407 rows × 2 columns</p>\n</div>",
          "text/plain": "                    bigram        PMI\n0            (ablum, cchs)  21.082560\n728             (oon, tek)  21.082560\n734          (oxkx, wrkwe)  21.082560\n733         (overwe, ight)  21.082560\n732     (outfielder, nate)  21.082560\n...                    ...        ...\n783402       (blood, said)  -5.479722\n783403     (also, disease)  -5.488286\n783404       (health, use)  -5.534529\n783405       (may, cancer)  -5.624547\n783406           (e, said)  -5.701640\n\n[783407 rows x 2 columns]"
         },
         "metadata": {},
         "output_type": "display_data"
        }
       ]
      }
     },
     "a7edfbeec531404e96fcdf682b8986db": {
      "model_module": "@jupyter-widgets/controls",
      "model_module_version": "1.5.0",
      "model_name": "DescriptionStyleModel",
      "state": {
       "_model_module": "@jupyter-widgets/controls",
       "_model_module_version": "1.5.0",
       "_model_name": "DescriptionStyleModel",
       "_view_count": null,
       "_view_module": "@jupyter-widgets/base",
       "_view_module_version": "1.2.0",
       "_view_name": "StyleView",
       "description_width": ""
      }
     },
     "a829d17f28f94ba0b4d72c1f9acb6e33": {
      "model_module": "@jupyter-widgets/controls",
      "model_module_version": "1.5.0",
      "model_name": "DescriptionStyleModel",
      "state": {
       "_model_module": "@jupyter-widgets/controls",
       "_model_module_version": "1.5.0",
       "_model_name": "DescriptionStyleModel",
       "_view_count": null,
       "_view_module": "@jupyter-widgets/base",
       "_view_module_version": "1.2.0",
       "_view_name": "StyleView",
       "description_width": ""
      }
     },
     "a989231707f44a9c99b87bbfcc84168c": {
      "model_module": "@jupyter-widgets/base",
      "model_module_version": "1.2.0",
      "model_name": "LayoutModel",
      "state": {
       "_model_module": "@jupyter-widgets/base",
       "_model_module_version": "1.2.0",
       "_model_name": "LayoutModel",
       "_view_count": null,
       "_view_module": "@jupyter-widgets/base",
       "_view_module_version": "1.2.0",
       "_view_name": "LayoutView",
       "align_content": null,
       "align_items": null,
       "align_self": null,
       "border": null,
       "bottom": null,
       "display": null,
       "flex": null,
       "flex_flow": null,
       "grid_area": null,
       "grid_auto_columns": null,
       "grid_auto_flow": null,
       "grid_auto_rows": null,
       "grid_column": null,
       "grid_gap": null,
       "grid_row": null,
       "grid_template_areas": null,
       "grid_template_columns": null,
       "grid_template_rows": null,
       "height": null,
       "justify_content": null,
       "justify_items": null,
       "left": null,
       "margin": null,
       "max_height": null,
       "max_width": null,
       "min_height": null,
       "min_width": null,
       "object_fit": null,
       "object_position": null,
       "order": null,
       "overflow": null,
       "overflow_x": null,
       "overflow_y": null,
       "padding": null,
       "right": null,
       "top": null,
       "visibility": null,
       "width": null
      }
     },
     "ab15d11feca84a2db7111e59d2286709": {
      "model_module": "@jupyter-widgets/base",
      "model_module_version": "1.2.0",
      "model_name": "LayoutModel",
      "state": {
       "_model_module": "@jupyter-widgets/base",
       "_model_module_version": "1.2.0",
       "_model_name": "LayoutModel",
       "_view_count": null,
       "_view_module": "@jupyter-widgets/base",
       "_view_module_version": "1.2.0",
       "_view_name": "LayoutView",
       "align_content": null,
       "align_items": null,
       "align_self": null,
       "border": null,
       "bottom": null,
       "display": null,
       "flex": null,
       "flex_flow": null,
       "grid_area": null,
       "grid_auto_columns": null,
       "grid_auto_flow": null,
       "grid_auto_rows": null,
       "grid_column": null,
       "grid_gap": null,
       "grid_row": null,
       "grid_template_areas": null,
       "grid_template_columns": null,
       "grid_template_rows": null,
       "height": null,
       "justify_content": null,
       "justify_items": null,
       "left": null,
       "margin": null,
       "max_height": null,
       "max_width": null,
       "min_height": null,
       "min_width": null,
       "object_fit": null,
       "object_position": null,
       "order": null,
       "overflow": null,
       "overflow_x": null,
       "overflow_y": null,
       "padding": null,
       "right": null,
       "top": null,
       "visibility": null,
       "width": null
      }
     },
     "b13529f132374e469049ea0fac81f1ea": {
      "model_module": "@jupyter-widgets/controls",
      "model_module_version": "1.5.0",
      "model_name": "ProgressStyleModel",
      "state": {
       "_model_module": "@jupyter-widgets/controls",
       "_model_module_version": "1.5.0",
       "_model_name": "ProgressStyleModel",
       "_view_count": null,
       "_view_module": "@jupyter-widgets/base",
       "_view_module_version": "1.2.0",
       "_view_name": "StyleView",
       "bar_color": null,
       "description_width": ""
      }
     },
     "b1cbaefc7f5d4288ba0aca99544d1570": {
      "model_module": "@jupyter-widgets/output",
      "model_module_version": "1.0.0",
      "model_name": "OutputModel",
      "state": {
       "_dom_classes": [],
       "_model_module": "@jupyter-widgets/output",
       "_model_module_version": "1.0.0",
       "_model_name": "OutputModel",
       "_view_count": null,
       "_view_module": "@jupyter-widgets/output",
       "_view_module_version": "1.0.0",
       "_view_name": "OutputView",
       "layout": "IPY_MODEL_4c619e15955743968e742e0e8c2e1e7d",
       "msg_id": "",
       "outputs": [
        {
         "data": {
          "text/html": "<div>\n<style scoped>\n    .dataframe tbody tr th:only-of-type {\n        vertical-align: middle;\n    }\n\n    .dataframe tbody tr th {\n        vertical-align: top;\n    }\n\n    .dataframe thead th {\n        text-align: right;\n    }\n</style>\n<table border=\"1\" class=\"dataframe\">\n  <thead>\n    <tr style=\"text-align: right;\">\n      <th></th>\n      <th>trigram</th>\n      <th>PMI</th>\n    </tr>\n  </thead>\n  <tbody>\n    <tr>\n      <th>0</th>\n      <td>(abdul, hamid, husin)</td>\n      <td>41.996102</td>\n    </tr>\n    <tr>\n      <th>115</th>\n      <td>(polytheist, pantheist, druid)</td>\n      <td>41.996102</td>\n    </tr>\n    <tr>\n      <th>117</th>\n      <td>(qdf, qdef, qdyn)</td>\n      <td>41.996102</td>\n    </tr>\n    <tr>\n      <th>118</th>\n      <td>(qqq, pbp, phdg)</td>\n      <td>41.996102</td>\n    </tr>\n    <tr>\n      <th>119</th>\n      <td>(reformulated, blendstock, oxygenate)</td>\n      <td>41.996102</td>\n    </tr>\n    <tr>\n      <th>...</th>\n      <td>...</td>\n      <td>...</td>\n    </tr>\n    <tr>\n      <th>1453047</th>\n      <td>(said, would, said)</td>\n      <td>1.381379</td>\n    </tr>\n    <tr>\n      <th>1453048</th>\n      <td>(new, google, said)</td>\n      <td>1.291569</td>\n    </tr>\n    <tr>\n      <th>1453049</th>\n      <td>(said, said, u)</td>\n      <td>1.279135</td>\n    </tr>\n    <tr>\n      <th>1453050</th>\n      <td>(said, company, said)</td>\n      <td>1.017919</td>\n    </tr>\n    <tr>\n      <th>1453051</th>\n      <td>(said, said, company)</td>\n      <td>1.017919</td>\n    </tr>\n  </tbody>\n</table>\n<p>1453052 rows × 2 columns</p>\n</div>",
          "text/plain": "                                       trigram        PMI\n0                        (abdul, hamid, husin)  41.996102\n115             (polytheist, pantheist, druid)  41.996102\n117                          (qdf, qdef, qdyn)  41.996102\n118                           (qqq, pbp, phdg)  41.996102\n119      (reformulated, blendstock, oxygenate)  41.996102\n...                                        ...        ...\n1453047                    (said, would, said)   1.381379\n1453048                    (new, google, said)   1.291569\n1453049                        (said, said, u)   1.279135\n1453050                  (said, company, said)   1.017919\n1453051                  (said, said, company)   1.017919\n\n[1453052 rows x 2 columns]"
         },
         "metadata": {},
         "output_type": "display_data"
        }
       ]
      }
     },
     "bc7a71ffe4704f3f821a1252e4950a13": {
      "model_module": "@jupyter-widgets/output",
      "model_module_version": "1.0.0",
      "model_name": "OutputModel",
      "state": {
       "_dom_classes": [],
       "_model_module": "@jupyter-widgets/output",
       "_model_module_version": "1.0.0",
       "_model_name": "OutputModel",
       "_view_count": null,
       "_view_module": "@jupyter-widgets/output",
       "_view_module_version": "1.0.0",
       "_view_name": "OutputView",
       "layout": "IPY_MODEL_08bb0cbe0044474d8ea908ef385e1461",
       "msg_id": "",
       "outputs": [
        {
         "data": {
          "text/html": "<div>\n<style scoped>\n    .dataframe tbody tr th:only-of-type {\n        vertical-align: middle;\n    }\n\n    .dataframe tbody tr th {\n        vertical-align: top;\n    }\n\n    .dataframe thead th {\n        text-align: right;\n    }\n</style>\n<table border=\"1\" class=\"dataframe\">\n  <thead>\n    <tr style=\"text-align: right;\">\n      <th></th>\n      <th>bigram</th>\n      <th>PMI</th>\n    </tr>\n  </thead>\n  <tbody>\n    <tr>\n      <th>0</th>\n      <td>(aamer, madhani)</td>\n      <td>20.520303</td>\n    </tr>\n    <tr>\n      <th>680</th>\n      <td>(panabakerandrew, kreisbergstephen)</td>\n      <td>20.520303</td>\n    </tr>\n    <tr>\n      <th>667</th>\n      <td>(orjan, nilsen)</td>\n      <td>20.520303</td>\n    </tr>\n    <tr>\n      <th>668</th>\n      <td>(oroko, saki)</td>\n      <td>20.520303</td>\n    </tr>\n    <tr>\n      <th>669</th>\n      <td>(orsi, kristinorsi)</td>\n      <td>20.520303</td>\n    </tr>\n    <tr>\n      <th>...</th>\n      <td>...</td>\n      <td>...</td>\n    </tr>\n    <tr>\n      <th>726761</th>\n      <td>(film, season)</td>\n      <td>-4.233141</td>\n    </tr>\n    <tr>\n      <th>726762</th>\n      <td>(get, season)</td>\n      <td>-4.245638</td>\n    </tr>\n    <tr>\n      <th>726763</th>\n      <td>(last, new)</td>\n      <td>-4.326137</td>\n    </tr>\n    <tr>\n      <th>726764</th>\n      <td>(new, last)</td>\n      <td>-4.326137</td>\n    </tr>\n    <tr>\n      <th>726765</th>\n      <td>(show, music)</td>\n      <td>-4.881353</td>\n    </tr>\n  </tbody>\n</table>\n<p>726766 rows × 2 columns</p>\n</div>",
          "text/plain": "                                     bigram        PMI\n0                          (aamer, madhani)  20.520303\n680     (panabakerandrew, kreisbergstephen)  20.520303\n667                         (orjan, nilsen)  20.520303\n668                           (oroko, saki)  20.520303\n669                     (orsi, kristinorsi)  20.520303\n...                                     ...        ...\n726761                       (film, season)  -4.233141\n726762                        (get, season)  -4.245638\n726763                          (last, new)  -4.326137\n726764                          (new, last)  -4.326137\n726765                        (show, music)  -4.881353\n\n[726766 rows x 2 columns]"
         },
         "metadata": {},
         "output_type": "display_data"
        }
       ]
      }
     },
     "bc8c1dfc9c884933948fb8be9cab90c9": {
      "model_module": "@jupyter-widgets/base",
      "model_module_version": "1.2.0",
      "model_name": "LayoutModel",
      "state": {
       "_model_module": "@jupyter-widgets/base",
       "_model_module_version": "1.2.0",
       "_model_name": "LayoutModel",
       "_view_count": null,
       "_view_module": "@jupyter-widgets/base",
       "_view_module_version": "1.2.0",
       "_view_name": "LayoutView",
       "align_content": null,
       "align_items": null,
       "align_self": null,
       "border": null,
       "bottom": null,
       "display": null,
       "flex": null,
       "flex_flow": null,
       "grid_area": null,
       "grid_auto_columns": null,
       "grid_auto_flow": null,
       "grid_auto_rows": null,
       "grid_column": null,
       "grid_gap": null,
       "grid_row": null,
       "grid_template_areas": null,
       "grid_template_columns": null,
       "grid_template_rows": null,
       "height": null,
       "justify_content": null,
       "justify_items": null,
       "left": null,
       "margin": null,
       "max_height": null,
       "max_width": null,
       "min_height": null,
       "min_width": null,
       "object_fit": null,
       "object_position": null,
       "order": null,
       "overflow": null,
       "overflow_x": null,
       "overflow_y": null,
       "padding": null,
       "right": null,
       "top": null,
       "visibility": null,
       "width": null
      }
     },
     "bcadc0a03dbb48288b1dae968816e565": {
      "model_module": "@jupyter-widgets/base",
      "model_module_version": "1.2.0",
      "model_name": "LayoutModel",
      "state": {
       "_model_module": "@jupyter-widgets/base",
       "_model_module_version": "1.2.0",
       "_model_name": "LayoutModel",
       "_view_count": null,
       "_view_module": "@jupyter-widgets/base",
       "_view_module_version": "1.2.0",
       "_view_name": "LayoutView",
       "align_content": null,
       "align_items": null,
       "align_self": null,
       "border": null,
       "bottom": null,
       "display": null,
       "flex": null,
       "flex_flow": null,
       "grid_area": null,
       "grid_auto_columns": null,
       "grid_auto_flow": null,
       "grid_auto_rows": null,
       "grid_column": null,
       "grid_gap": null,
       "grid_row": null,
       "grid_template_areas": null,
       "grid_template_columns": null,
       "grid_template_rows": null,
       "height": null,
       "justify_content": null,
       "justify_items": null,
       "left": null,
       "margin": null,
       "max_height": null,
       "max_width": null,
       "min_height": null,
       "min_width": null,
       "object_fit": null,
       "object_position": null,
       "order": null,
       "overflow": null,
       "overflow_x": null,
       "overflow_y": null,
       "padding": null,
       "right": null,
       "top": null,
       "visibility": null,
       "width": null
      }
     },
     "be073ca62df5433b87362db5b81c19e2": {
      "model_module": "@jupyter-widgets/output",
      "model_module_version": "1.0.0",
      "model_name": "OutputModel",
      "state": {
       "_dom_classes": [],
       "_model_module": "@jupyter-widgets/output",
       "_model_module_version": "1.0.0",
       "_model_name": "OutputModel",
       "_view_count": null,
       "_view_module": "@jupyter-widgets/output",
       "_view_module_version": "1.0.0",
       "_view_name": "OutputView",
       "layout": "IPY_MODEL_c528a5037d1549e6ac4d1084c22a8c24",
       "msg_id": "",
       "outputs": [
        {
         "data": {
          "text/html": "<div>\n<style scoped>\n    .dataframe tbody tr th:only-of-type {\n        vertical-align: middle;\n    }\n\n    .dataframe tbody tr th {\n        vertical-align: top;\n    }\n\n    .dataframe thead th {\n        text-align: right;\n    }\n</style>\n<table border=\"1\" class=\"dataframe\">\n  <thead>\n    <tr style=\"text-align: right;\">\n      <th></th>\n      <th>trigram</th>\n      <th>PMI</th>\n    </tr>\n  </thead>\n  <tbody>\n    <tr>\n      <th>0</th>\n      <td>(abdullah, sheetal, mafatlal)</td>\n      <td>41.040606</td>\n    </tr>\n    <tr>\n      <th>137</th>\n      <td>(orjan, nilsen, jochen)</td>\n      <td>41.040606</td>\n    </tr>\n    <tr>\n      <th>127</th>\n      <td>(memmingen, nchengladbach, lheim)</td>\n      <td>41.040606</td>\n    </tr>\n    <tr>\n      <th>128</th>\n      <td>(mira, sorvino, mirasorvino)</td>\n      <td>41.040606</td>\n    </tr>\n    <tr>\n      <th>129</th>\n      <td>(mme, ediab, corina)</td>\n      <td>41.040606</td>\n    </tr>\n    <tr>\n      <th>...</th>\n      <td>...</td>\n      <td>...</td>\n    </tr>\n    <tr>\n      <th>1083369</th>\n      <td>(one, year, one)</td>\n      <td>2.110503</td>\n    </tr>\n    <tr>\n      <th>1083370</th>\n      <td>(year, said, year)</td>\n      <td>2.089589</td>\n    </tr>\n    <tr>\n      <th>1083371</th>\n      <td>(time, show, show)</td>\n      <td>1.994340</td>\n    </tr>\n    <tr>\n      <th>1083372</th>\n      <td>(year, one, year)</td>\n      <td>1.987552</td>\n    </tr>\n    <tr>\n      <th>1083373</th>\n      <td>(show, one, show)</td>\n      <td>1.662017</td>\n    </tr>\n  </tbody>\n</table>\n<p>1083374 rows × 2 columns</p>\n</div>",
          "text/plain": "                                   trigram        PMI\n0            (abdullah, sheetal, mafatlal)  41.040606\n137                (orjan, nilsen, jochen)  41.040606\n127      (memmingen, nchengladbach, lheim)  41.040606\n128           (mira, sorvino, mirasorvino)  41.040606\n129                   (mme, ediab, corina)  41.040606\n...                                    ...        ...\n1083369                   (one, year, one)   2.110503\n1083370                 (year, said, year)   2.089589\n1083371                 (time, show, show)   1.994340\n1083372                  (year, one, year)   1.987552\n1083373                  (show, one, show)   1.662017\n\n[1083374 rows x 2 columns]"
         },
         "metadata": {},
         "output_type": "display_data"
        }
       ]
      }
     },
     "c105bc082bcc447e96beb68af1da6091": {
      "model_module": "@jupyter-widgets/output",
      "model_module_version": "1.0.0",
      "model_name": "OutputModel",
      "state": {
       "_dom_classes": [],
       "_model_module": "@jupyter-widgets/output",
       "_model_module_version": "1.0.0",
       "_model_name": "OutputModel",
       "_view_count": null,
       "_view_module": "@jupyter-widgets/output",
       "_view_module_version": "1.0.0",
       "_view_name": "OutputView",
       "layout": "IPY_MODEL_7200481231424fcab13c4ebb540d7de3",
       "msg_id": "",
       "outputs": [
        {
         "data": {
          "text/html": "<div>\n<style scoped>\n    .dataframe tbody tr th:only-of-type {\n        vertical-align: middle;\n    }\n\n    .dataframe tbody tr th {\n        vertical-align: top;\n    }\n\n    .dataframe thead th {\n        text-align: right;\n    }\n</style>\n<table border=\"1\" class=\"dataframe\">\n  <thead>\n    <tr style=\"text-align: right;\">\n      <th></th>\n      <th>bigram</th>\n      <th>PMI</th>\n    </tr>\n  </thead>\n  <tbody>\n    <tr>\n      <th>0</th>\n      <td>(allegedly, beat)</td>\n      <td>6.044394</td>\n    </tr>\n    <tr>\n      <th>25</th>\n      <td>(much, role)</td>\n      <td>6.044394</td>\n    </tr>\n    <tr>\n      <th>27</th>\n      <td>(old, revealed)</td>\n      <td>6.044394</td>\n    </tr>\n    <tr>\n      <th>28</th>\n      <td>(performer, grilled)</td>\n      <td>6.044394</td>\n    </tr>\n    <tr>\n      <th>29</th>\n      <td>(photographer, empty)</td>\n      <td>6.044394</td>\n    </tr>\n    <tr>\n      <th>...</th>\n      <td>...</td>\n      <td>...</td>\n    </tr>\n    <tr>\n      <th>60</th>\n      <td>(bieber, showed)</td>\n      <td>4.459432</td>\n    </tr>\n    <tr>\n      <th>61</th>\n      <td>(interview, bieber)</td>\n      <td>4.459432</td>\n    </tr>\n    <tr>\n      <th>62</th>\n      <td>(justin, bieber)</td>\n      <td>4.459432</td>\n    </tr>\n    <tr>\n      <th>63</th>\n      <td>(together, bieber)</td>\n      <td>4.459432</td>\n    </tr>\n    <tr>\n      <th>64</th>\n      <td>(video, deposition)</td>\n      <td>4.044394</td>\n    </tr>\n  </tbody>\n</table>\n<p>65 rows × 2 columns</p>\n</div>",
          "text/plain": "                   bigram       PMI\n0       (allegedly, beat)  6.044394\n25           (much, role)  6.044394\n27        (old, revealed)  6.044394\n28   (performer, grilled)  6.044394\n29  (photographer, empty)  6.044394\n..                    ...       ...\n60       (bieber, showed)  4.459432\n61    (interview, bieber)  4.459432\n62       (justin, bieber)  4.459432\n63     (together, bieber)  4.459432\n64    (video, deposition)  4.044394\n\n[65 rows x 2 columns]"
         },
         "metadata": {},
         "output_type": "display_data"
        }
       ]
      }
     },
     "c1473b9275424b25a7200da5d2e5464e": {
      "model_module": "@jupyter-widgets/base",
      "model_module_version": "1.2.0",
      "model_name": "LayoutModel",
      "state": {
       "_model_module": "@jupyter-widgets/base",
       "_model_module_version": "1.2.0",
       "_model_name": "LayoutModel",
       "_view_count": null,
       "_view_module": "@jupyter-widgets/base",
       "_view_module_version": "1.2.0",
       "_view_name": "LayoutView",
       "align_content": null,
       "align_items": null,
       "align_self": null,
       "border": null,
       "bottom": null,
       "display": null,
       "flex": null,
       "flex_flow": null,
       "grid_area": null,
       "grid_auto_columns": null,
       "grid_auto_flow": null,
       "grid_auto_rows": null,
       "grid_column": null,
       "grid_gap": null,
       "grid_row": null,
       "grid_template_areas": null,
       "grid_template_columns": null,
       "grid_template_rows": null,
       "height": null,
       "justify_content": null,
       "justify_items": null,
       "left": null,
       "margin": null,
       "max_height": null,
       "max_width": null,
       "min_height": null,
       "min_width": null,
       "object_fit": null,
       "object_position": null,
       "order": null,
       "overflow": null,
       "overflow_x": null,
       "overflow_y": null,
       "padding": null,
       "right": null,
       "top": null,
       "visibility": null,
       "width": null
      }
     },
     "c16bfda652ed4dc1a4d5a018688c5df4": {
      "model_module": "@jupyter-widgets/base",
      "model_module_version": "1.2.0",
      "model_name": "LayoutModel",
      "state": {
       "_model_module": "@jupyter-widgets/base",
       "_model_module_version": "1.2.0",
       "_model_name": "LayoutModel",
       "_view_count": null,
       "_view_module": "@jupyter-widgets/base",
       "_view_module_version": "1.2.0",
       "_view_name": "LayoutView",
       "align_content": null,
       "align_items": null,
       "align_self": null,
       "border": null,
       "bottom": null,
       "display": null,
       "flex": null,
       "flex_flow": null,
       "grid_area": null,
       "grid_auto_columns": null,
       "grid_auto_flow": null,
       "grid_auto_rows": null,
       "grid_column": null,
       "grid_gap": null,
       "grid_row": null,
       "grid_template_areas": null,
       "grid_template_columns": null,
       "grid_template_rows": null,
       "height": null,
       "justify_content": null,
       "justify_items": null,
       "left": null,
       "margin": null,
       "max_height": null,
       "max_width": null,
       "min_height": null,
       "min_width": null,
       "object_fit": null,
       "object_position": null,
       "order": null,
       "overflow": null,
       "overflow_x": null,
       "overflow_y": null,
       "padding": null,
       "right": null,
       "top": null,
       "visibility": null,
       "width": null
      }
     },
     "c528a5037d1549e6ac4d1084c22a8c24": {
      "model_module": "@jupyter-widgets/base",
      "model_module_version": "1.2.0",
      "model_name": "LayoutModel",
      "state": {
       "_model_module": "@jupyter-widgets/base",
       "_model_module_version": "1.2.0",
       "_model_name": "LayoutModel",
       "_view_count": null,
       "_view_module": "@jupyter-widgets/base",
       "_view_module_version": "1.2.0",
       "_view_name": "LayoutView",
       "align_content": null,
       "align_items": null,
       "align_self": null,
       "border": null,
       "bottom": null,
       "display": null,
       "flex": null,
       "flex_flow": null,
       "grid_area": null,
       "grid_auto_columns": null,
       "grid_auto_flow": null,
       "grid_auto_rows": null,
       "grid_column": null,
       "grid_gap": null,
       "grid_row": null,
       "grid_template_areas": null,
       "grid_template_columns": null,
       "grid_template_rows": null,
       "height": null,
       "justify_content": null,
       "justify_items": null,
       "left": null,
       "margin": null,
       "max_height": null,
       "max_width": null,
       "min_height": null,
       "min_width": null,
       "object_fit": null,
       "object_position": null,
       "order": null,
       "overflow": null,
       "overflow_x": null,
       "overflow_y": null,
       "padding": null,
       "right": null,
       "top": null,
       "visibility": null,
       "width": null
      }
     },
     "c822ce834c2c4e1da06a78fd6dd60a72": {
      "model_module": "@jupyter-widgets/controls",
      "model_module_version": "1.5.0",
      "model_name": "HTMLModel",
      "state": {
       "_dom_classes": [],
       "_model_module": "@jupyter-widgets/controls",
       "_model_module_version": "1.5.0",
       "_model_name": "HTMLModel",
       "_view_count": null,
       "_view_module": "@jupyter-widgets/controls",
       "_view_module_version": "1.5.0",
       "_view_name": "HTMLView",
       "description": "",
       "description_tooltip": null,
       "layout": "IPY_MODEL_bcadc0a03dbb48288b1dae968816e565",
       "placeholder": "​",
       "style": "IPY_MODEL_73d43181986244c9ab3f9e8dec235495",
       "value": " 571/571 [00:00&lt;00:00, 16.1kB/s]"
      }
     },
     "ca215808361a45618653bf176a9d0cae": {
      "model_module": "@jupyter-widgets/base",
      "model_module_version": "1.2.0",
      "model_name": "LayoutModel",
      "state": {
       "_model_module": "@jupyter-widgets/base",
       "_model_module_version": "1.2.0",
       "_model_name": "LayoutModel",
       "_view_count": null,
       "_view_module": "@jupyter-widgets/base",
       "_view_module_version": "1.2.0",
       "_view_name": "LayoutView",
       "align_content": null,
       "align_items": null,
       "align_self": null,
       "border": null,
       "bottom": null,
       "display": null,
       "flex": null,
       "flex_flow": null,
       "grid_area": null,
       "grid_auto_columns": null,
       "grid_auto_flow": null,
       "grid_auto_rows": null,
       "grid_column": null,
       "grid_gap": null,
       "grid_row": null,
       "grid_template_areas": null,
       "grid_template_columns": null,
       "grid_template_rows": null,
       "height": null,
       "justify_content": null,
       "justify_items": null,
       "left": null,
       "margin": null,
       "max_height": null,
       "max_width": null,
       "min_height": null,
       "min_width": null,
       "object_fit": null,
       "object_position": null,
       "order": null,
       "overflow": null,
       "overflow_x": null,
       "overflow_y": null,
       "padding": null,
       "right": null,
       "top": null,
       "visibility": null,
       "width": null
      }
     },
     "d0aeba6a04824219b2c54470baa9278c": {
      "model_module": "@jupyter-widgets/controls",
      "model_module_version": "1.5.0",
      "model_name": "HTMLModel",
      "state": {
       "_dom_classes": [],
       "_model_module": "@jupyter-widgets/controls",
       "_model_module_version": "1.5.0",
       "_model_name": "HTMLModel",
       "_view_count": null,
       "_view_module": "@jupyter-widgets/controls",
       "_view_module_version": "1.5.0",
       "_view_name": "HTMLView",
       "description": "",
       "description_tooltip": null,
       "layout": "IPY_MODEL_f14e5b53f51b4e74b6b2319d82329fcb",
       "placeholder": "​",
       "style": "IPY_MODEL_136233547b5f48a383e3f0a320266bbb",
       "value": " 28.0/28.0 [00:00&lt;00:00, 613B/s]"
      }
     },
     "d47460070d534c35a38043d0be70caf2": {
      "model_module": "@jupyter-widgets/controls",
      "model_module_version": "1.5.0",
      "model_name": "DescriptionStyleModel",
      "state": {
       "_model_module": "@jupyter-widgets/controls",
       "_model_module_version": "1.5.0",
       "_model_name": "DescriptionStyleModel",
       "_view_count": null,
       "_view_module": "@jupyter-widgets/base",
       "_view_module_version": "1.2.0",
       "_view_name": "StyleView",
       "description_width": ""
      }
     },
     "d4888c3d28954398996a06ff87ca9770": {
      "model_module": "@jupyter-widgets/base",
      "model_module_version": "1.2.0",
      "model_name": "LayoutModel",
      "state": {
       "_model_module": "@jupyter-widgets/base",
       "_model_module_version": "1.2.0",
       "_model_name": "LayoutModel",
       "_view_count": null,
       "_view_module": "@jupyter-widgets/base",
       "_view_module_version": "1.2.0",
       "_view_name": "LayoutView",
       "align_content": null,
       "align_items": null,
       "align_self": null,
       "border": null,
       "bottom": null,
       "display": null,
       "flex": null,
       "flex_flow": null,
       "grid_area": null,
       "grid_auto_columns": null,
       "grid_auto_flow": null,
       "grid_auto_rows": null,
       "grid_column": null,
       "grid_gap": null,
       "grid_row": null,
       "grid_template_areas": null,
       "grid_template_columns": null,
       "grid_template_rows": null,
       "height": null,
       "justify_content": null,
       "justify_items": null,
       "left": null,
       "margin": null,
       "max_height": null,
       "max_width": null,
       "min_height": null,
       "min_width": null,
       "object_fit": null,
       "object_position": null,
       "order": null,
       "overflow": null,
       "overflow_x": null,
       "overflow_y": null,
       "padding": null,
       "right": null,
       "top": null,
       "visibility": null,
       "width": null
      }
     },
     "d7b6615cc03244cbb6c2723fdc8d7d06": {
      "model_module": "@jupyter-widgets/output",
      "model_module_version": "1.0.0",
      "model_name": "OutputModel",
      "state": {
       "_dom_classes": [],
       "_model_module": "@jupyter-widgets/output",
       "_model_module_version": "1.0.0",
       "_model_name": "OutputModel",
       "_view_count": null,
       "_view_module": "@jupyter-widgets/output",
       "_view_module_version": "1.0.0",
       "_view_name": "OutputView",
       "layout": "IPY_MODEL_ca215808361a45618653bf176a9d0cae",
       "msg_id": "",
       "outputs": [
        {
         "data": {
          "text/html": "<div>\n<style scoped>\n    .dataframe tbody tr th:only-of-type {\n        vertical-align: middle;\n    }\n\n    .dataframe tbody tr th {\n        vertical-align: top;\n    }\n\n    .dataframe thead th {\n        text-align: right;\n    }\n</style>\n<table border=\"1\" class=\"dataframe\">\n  <thead>\n    <tr style=\"text-align: right;\">\n      <th></th>\n      <th>bigram</th>\n      <th>PMI</th>\n    </tr>\n  </thead>\n  <tbody>\n    <tr>\n      <th>0</th>\n      <td>(abdul, hamid)</td>\n      <td>20.998051</td>\n    </tr>\n    <tr>\n      <th>686</th>\n      <td>(pessac, leognan)</td>\n      <td>20.998051</td>\n    </tr>\n    <tr>\n      <th>673</th>\n      <td>(patternguru, pguru)</td>\n      <td>20.998051</td>\n    </tr>\n    <tr>\n      <th>674</th>\n      <td>(paygate, sohapay)</td>\n      <td>20.998051</td>\n    </tr>\n    <tr>\n      <th>675</th>\n      <td>(pbp, phdg)</td>\n      <td>20.998051</td>\n    </tr>\n    <tr>\n      <th>...</th>\n      <td>...</td>\n      <td>...</td>\n    </tr>\n    <tr>\n      <th>895503</th>\n      <td>(samsung, year)</td>\n      <td>-4.904980</td>\n    </tr>\n    <tr>\n      <th>895504</th>\n      <td>(said, service)</td>\n      <td>-4.944860</td>\n    </tr>\n    <tr>\n      <th>895505</th>\n      <td>(would, year)</td>\n      <td>-5.070600</td>\n    </tr>\n    <tr>\n      <th>895506</th>\n      <td>(say, said)</td>\n      <td>-5.201707</td>\n    </tr>\n    <tr>\n      <th>895507</th>\n      <td>(new, would)</td>\n      <td>-5.325763</td>\n    </tr>\n  </tbody>\n</table>\n<p>895508 rows × 2 columns</p>\n</div>",
          "text/plain": "                      bigram        PMI\n0             (abdul, hamid)  20.998051\n686        (pessac, leognan)  20.998051\n673     (patternguru, pguru)  20.998051\n674       (paygate, sohapay)  20.998051\n675              (pbp, phdg)  20.998051\n...                      ...        ...\n895503       (samsung, year)  -4.904980\n895504       (said, service)  -4.944860\n895505         (would, year)  -5.070600\n895506           (say, said)  -5.201707\n895507          (new, would)  -5.325763\n\n[895508 rows x 2 columns]"
         },
         "metadata": {},
         "output_type": "display_data"
        }
       ]
      }
     },
     "d7e740d1bc584266abf94c8b82a55a71": {
      "model_module": "@jupyter-widgets/controls",
      "model_module_version": "1.5.0",
      "model_name": "HBoxModel",
      "state": {
       "_dom_classes": [],
       "_model_module": "@jupyter-widgets/controls",
       "_model_module_version": "1.5.0",
       "_model_name": "HBoxModel",
       "_view_count": null,
       "_view_module": "@jupyter-widgets/controls",
       "_view_module_version": "1.5.0",
       "_view_name": "HBoxView",
       "box_style": "",
       "children": [
        "IPY_MODEL_63e06dfc921b4379ace53152f2a3c8a5",
        "IPY_MODEL_8e991301286948e1949a31372188230b",
        "IPY_MODEL_43c36b1d223f4ceabff16c08ec48db55"
       ],
       "layout": "IPY_MODEL_9016433be6a04700bef7ad8c238d92bd"
      }
     },
     "d9f49d46214e4486a64ba0446278d486": {
      "model_module": "@jupyter-widgets/base",
      "model_module_version": "1.2.0",
      "model_name": "LayoutModel",
      "state": {
       "_model_module": "@jupyter-widgets/base",
       "_model_module_version": "1.2.0",
       "_model_name": "LayoutModel",
       "_view_count": null,
       "_view_module": "@jupyter-widgets/base",
       "_view_module_version": "1.2.0",
       "_view_name": "LayoutView",
       "align_content": null,
       "align_items": null,
       "align_self": null,
       "border": null,
       "bottom": null,
       "display": null,
       "flex": null,
       "flex_flow": null,
       "grid_area": null,
       "grid_auto_columns": null,
       "grid_auto_flow": null,
       "grid_auto_rows": null,
       "grid_column": null,
       "grid_gap": null,
       "grid_row": null,
       "grid_template_areas": null,
       "grid_template_columns": null,
       "grid_template_rows": null,
       "height": null,
       "justify_content": null,
       "justify_items": null,
       "left": null,
       "margin": null,
       "max_height": null,
       "max_width": null,
       "min_height": null,
       "min_width": null,
       "object_fit": null,
       "object_position": null,
       "order": null,
       "overflow": null,
       "overflow_x": null,
       "overflow_y": null,
       "padding": null,
       "right": null,
       "top": null,
       "visibility": null,
       "width": null
      }
     },
     "e81b4c780dc44eaeb497243f3ffa657b": {
      "model_module": "@jupyter-widgets/output",
      "model_module_version": "1.0.0",
      "model_name": "OutputModel",
      "state": {
       "_dom_classes": [],
       "_model_module": "@jupyter-widgets/output",
       "_model_module_version": "1.0.0",
       "_model_name": "OutputModel",
       "_view_count": null,
       "_view_module": "@jupyter-widgets/output",
       "_view_module_version": "1.0.0",
       "_view_name": "OutputView",
       "layout": "IPY_MODEL_04bc318db3c4490bb44dceeed4f6d8d9",
       "msg_id": "",
       "outputs": [
        {
         "data": {
          "text/html": "<div>\n<style scoped>\n    .dataframe tbody tr th:only-of-type {\n        vertical-align: middle;\n    }\n\n    .dataframe tbody tr th {\n        vertical-align: top;\n    }\n\n    .dataframe thead th {\n        text-align: right;\n    }\n</style>\n<table border=\"1\" class=\"dataframe\">\n  <thead>\n    <tr style=\"text-align: right;\">\n      <th></th>\n      <th>trigram</th>\n      <th>PMI</th>\n    </tr>\n  </thead>\n  <tbody>\n    <tr>\n      <th>0</th>\n      <td>(adieu, crank, yank)</td>\n      <td>41.159170</td>\n    </tr>\n    <tr>\n      <th>63</th>\n      <td>(noblesville, metropolis, plainfield)</td>\n      <td>41.159170</td>\n    </tr>\n    <tr>\n      <th>73</th>\n      <td>(ricky, ojwang, skillfully)</td>\n      <td>41.159170</td>\n    </tr>\n    <tr>\n      <th>72</th>\n      <td>(revill, shayndi, raice)</td>\n      <td>41.159170</td>\n    </tr>\n    <tr>\n      <th>71</th>\n      <td>(reuven, avi, yonah)</td>\n      <td>41.159170</td>\n    </tr>\n    <tr>\n      <th>...</th>\n      <td>...</td>\n      <td>...</td>\n    </tr>\n    <tr>\n      <th>973597</th>\n      <td>(u, said, company)</td>\n      <td>0.997761</td>\n    </tr>\n    <tr>\n      <th>973598</th>\n      <td>(year, year, u)</td>\n      <td>0.946037</td>\n    </tr>\n    <tr>\n      <th>973599</th>\n      <td>(u, said, u)</td>\n      <td>0.935671</td>\n    </tr>\n    <tr>\n      <th>973600</th>\n      <td>(year, year, percent)</td>\n      <td>0.670976</td>\n    </tr>\n    <tr>\n      <th>973601</th>\n      <td>(year, year, year)</td>\n      <td>0.454945</td>\n    </tr>\n  </tbody>\n</table>\n<p>973602 rows × 2 columns</p>\n</div>",
          "text/plain": "                                      trigram        PMI\n0                        (adieu, crank, yank)  41.159170\n63      (noblesville, metropolis, plainfield)  41.159170\n73                (ricky, ojwang, skillfully)  41.159170\n72                   (revill, shayndi, raice)  41.159170\n71                       (reuven, avi, yonah)  41.159170\n...                                       ...        ...\n973597                     (u, said, company)   0.997761\n973598                        (year, year, u)   0.946037\n973599                           (u, said, u)   0.935671\n973600                  (year, year, percent)   0.670976\n973601                     (year, year, year)   0.454945\n\n[973602 rows x 2 columns]"
         },
         "metadata": {},
         "output_type": "display_data"
        }
       ]
      }
     },
     "ea2e3dc564f8468795e52ebefc86e7a5": {
      "model_module": "@jupyter-widgets/base",
      "model_module_version": "1.2.0",
      "model_name": "LayoutModel",
      "state": {
       "_model_module": "@jupyter-widgets/base",
       "_model_module_version": "1.2.0",
       "_model_name": "LayoutModel",
       "_view_count": null,
       "_view_module": "@jupyter-widgets/base",
       "_view_module_version": "1.2.0",
       "_view_name": "LayoutView",
       "align_content": null,
       "align_items": null,
       "align_self": null,
       "border": null,
       "bottom": null,
       "display": null,
       "flex": null,
       "flex_flow": null,
       "grid_area": null,
       "grid_auto_columns": null,
       "grid_auto_flow": null,
       "grid_auto_rows": null,
       "grid_column": null,
       "grid_gap": null,
       "grid_row": null,
       "grid_template_areas": null,
       "grid_template_columns": null,
       "grid_template_rows": null,
       "height": null,
       "justify_content": null,
       "justify_items": null,
       "left": null,
       "margin": null,
       "max_height": null,
       "max_width": null,
       "min_height": null,
       "min_width": null,
       "object_fit": null,
       "object_position": null,
       "order": null,
       "overflow": null,
       "overflow_x": null,
       "overflow_y": null,
       "padding": null,
       "right": null,
       "top": null,
       "visibility": null,
       "width": null
      }
     },
     "eb46695c42eb44449e6242918a70f95f": {
      "model_module": "@jupyter-widgets/controls",
      "model_module_version": "1.5.0",
      "model_name": "FloatProgressModel",
      "state": {
       "_dom_classes": [],
       "_model_module": "@jupyter-widgets/controls",
       "_model_module_version": "1.5.0",
       "_model_name": "FloatProgressModel",
       "_view_count": null,
       "_view_module": "@jupyter-widgets/controls",
       "_view_module_version": "1.5.0",
       "_view_name": "ProgressView",
       "bar_style": "success",
       "description": "",
       "description_tooltip": null,
       "layout": "IPY_MODEL_22d362e2f1174dd8a6f4dd4f6e0e2fc6",
       "max": 571.0,
       "min": 0.0,
       "orientation": "horizontal",
       "style": "IPY_MODEL_175ad15f750f4d3c932f80359480b79b",
       "value": 571.0
      }
     },
     "ec37d4310c5b4b9d9c34746a44f8babc": {
      "model_module": "@jupyter-widgets/controls",
      "model_module_version": "1.5.0",
      "model_name": "HBoxModel",
      "state": {
       "_dom_classes": [],
       "_model_module": "@jupyter-widgets/controls",
       "_model_module_version": "1.5.0",
       "_model_name": "HBoxModel",
       "_view_count": null,
       "_view_module": "@jupyter-widgets/controls",
       "_view_module_version": "1.5.0",
       "_view_name": "HBoxView",
       "box_style": "",
       "children": [
        "IPY_MODEL_633fae53f78b452c8e16c5722c07af43",
        "IPY_MODEL_7e15497ea8e74f5ca3d9192a13700662"
       ],
       "layout": "IPY_MODEL_5f70d00c8ab64e5aac233d2941fe7df0"
      }
     },
     "f14e5b53f51b4e74b6b2319d82329fcb": {
      "model_module": "@jupyter-widgets/base",
      "model_module_version": "1.2.0",
      "model_name": "LayoutModel",
      "state": {
       "_model_module": "@jupyter-widgets/base",
       "_model_module_version": "1.2.0",
       "_model_name": "LayoutModel",
       "_view_count": null,
       "_view_module": "@jupyter-widgets/base",
       "_view_module_version": "1.2.0",
       "_view_name": "LayoutView",
       "align_content": null,
       "align_items": null,
       "align_self": null,
       "border": null,
       "bottom": null,
       "display": null,
       "flex": null,
       "flex_flow": null,
       "grid_area": null,
       "grid_auto_columns": null,
       "grid_auto_flow": null,
       "grid_auto_rows": null,
       "grid_column": null,
       "grid_gap": null,
       "grid_row": null,
       "grid_template_areas": null,
       "grid_template_columns": null,
       "grid_template_rows": null,
       "height": null,
       "justify_content": null,
       "justify_items": null,
       "left": null,
       "margin": null,
       "max_height": null,
       "max_width": null,
       "min_height": null,
       "min_width": null,
       "object_fit": null,
       "object_position": null,
       "order": null,
       "overflow": null,
       "overflow_x": null,
       "overflow_y": null,
       "padding": null,
       "right": null,
       "top": null,
       "visibility": null,
       "width": null
      }
     },
     "fc1df187e29142afba2876aca4f30230": {
      "model_module": "@jupyter-widgets/controls",
      "model_module_version": "1.5.0",
      "model_name": "HTMLModel",
      "state": {
       "_dom_classes": [],
       "_model_module": "@jupyter-widgets/controls",
       "_model_module_version": "1.5.0",
       "_model_name": "HTMLModel",
       "_view_count": null,
       "_view_module": "@jupyter-widgets/controls",
       "_view_module_version": "1.5.0",
       "_view_name": "HTMLView",
       "description": "",
       "description_tooltip": null,
       "layout": "IPY_MODEL_133672f139cb45a7b19ca7edfe754307",
       "placeholder": "​",
       "style": "IPY_MODEL_454158cfbef5491b8501ff164479d926",
       "value": " 1.34G/1.34G [00:42&lt;00:00, 32.7MB/s]"
      }
     },
     "fd2c2ba64d214259b13aaadff24638f9": {
      "model_module": "@jupyter-widgets/base",
      "model_module_version": "1.2.0",
      "model_name": "LayoutModel",
      "state": {
       "_model_module": "@jupyter-widgets/base",
       "_model_module_version": "1.2.0",
       "_model_name": "LayoutModel",
       "_view_count": null,
       "_view_module": "@jupyter-widgets/base",
       "_view_module_version": "1.2.0",
       "_view_name": "LayoutView",
       "align_content": null,
       "align_items": null,
       "align_self": null,
       "border": null,
       "bottom": null,
       "display": null,
       "flex": null,
       "flex_flow": null,
       "grid_area": null,
       "grid_auto_columns": null,
       "grid_auto_flow": null,
       "grid_auto_rows": null,
       "grid_column": null,
       "grid_gap": null,
       "grid_row": null,
       "grid_template_areas": null,
       "grid_template_columns": null,
       "grid_template_rows": null,
       "height": null,
       "justify_content": null,
       "justify_items": null,
       "left": null,
       "margin": null,
       "max_height": null,
       "max_width": null,
       "min_height": null,
       "min_width": null,
       "object_fit": null,
       "object_position": null,
       "order": null,
       "overflow": null,
       "overflow_x": null,
       "overflow_y": null,
       "padding": null,
       "right": null,
       "top": null,
       "visibility": null,
       "width": null
      }
     }
    },
    "version_major": 2,
    "version_minor": 0
   }
  }
 },
 "nbformat": 4,
 "nbformat_minor": 5
}
